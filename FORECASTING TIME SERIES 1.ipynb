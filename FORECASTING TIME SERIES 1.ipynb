{
 "cells": [
  {
   "cell_type": "markdown",
   "id": "3b87ef03",
   "metadata": {},
   "source": [
    "# AIRLINES DATASET\n",
    "Using the above dataset to do time series forecasting."
   ]
  },
  {
   "cell_type": "markdown",
   "id": "862d5061",
   "metadata": {},
   "source": [
    "## BUSINESS OBJECTIVE\n",
    "* Maximize Profit\n",
    "* Minimize Empty planes\n",
    "* Maximize Service Quality\n",
    "* Maximize Popularity"
   ]
  },
  {
   "cell_type": "markdown",
   "id": "13ec6d84",
   "metadata": {},
   "source": [
    "## CONSTRAINTS\n",
    "* Fuel Prices\n",
    "* Conflicts \n",
    "* Low Traffic\n"
   ]
  },
  {
   "cell_type": "markdown",
   "id": "070c9b64",
   "metadata": {},
   "source": [
    "## DATA DICTIONARY"
   ]
  },
  {
   "cell_type": "markdown",
   "id": "1a47d442",
   "metadata": {},
   "source": [
    "| **slno** | **Name of Feature** | **Description**                                                                                                          | **Type** | **Relevance** |\n",
    "|:--------:|:-------------------|:--------------------------------------------------------------------------------------------------------------------------|:--------:|:-------------:|\n",
    "| 1 | Month | It gives the date | Nominal   | Relevant      |\n",
    "| 2 | Passengers | The number of passengers in the  month | Ratio   | Relevant      |"
   ]
  },
  {
   "cell_type": "markdown",
   "id": "46e5d637",
   "metadata": {},
   "source": [
    "Importing the required libraries."
   ]
  },
  {
   "cell_type": "code",
   "execution_count": 1,
   "id": "17e87c30",
   "metadata": {},
   "outputs": [],
   "source": [
    "import pandas as pd\n",
    "import numpy as np\n",
    "import matplotlib.pyplot as plt\n",
    "import seaborn as sns\n",
    "from scipy import stats\n",
    "from termcolor import colored"
   ]
  },
  {
   "cell_type": "markdown",
   "id": "e26adb47",
   "metadata": {},
   "source": [
    "Loading the dataset using the pandas library and confirming the dataset has been loaded properly using the 'head' function"
   ]
  },
  {
   "cell_type": "code",
   "execution_count": 2,
   "id": "3fd16244",
   "metadata": {},
   "outputs": [
    {
     "data": {
      "text/html": [
       "<div>\n",
       "<style scoped>\n",
       "    .dataframe tbody tr th:only-of-type {\n",
       "        vertical-align: middle;\n",
       "    }\n",
       "\n",
       "    .dataframe tbody tr th {\n",
       "        vertical-align: top;\n",
       "    }\n",
       "\n",
       "    .dataframe thead th {\n",
       "        text-align: right;\n",
       "    }\n",
       "</style>\n",
       "<table border=\"1\" class=\"dataframe\">\n",
       "  <thead>\n",
       "    <tr style=\"text-align: right;\">\n",
       "      <th></th>\n",
       "      <th>Month</th>\n",
       "      <th>Passengers</th>\n",
       "    </tr>\n",
       "  </thead>\n",
       "  <tbody>\n",
       "    <tr>\n",
       "      <th>0</th>\n",
       "      <td>1995-01-01</td>\n",
       "      <td>112</td>\n",
       "    </tr>\n",
       "    <tr>\n",
       "      <th>1</th>\n",
       "      <td>1995-02-01</td>\n",
       "      <td>118</td>\n",
       "    </tr>\n",
       "    <tr>\n",
       "      <th>2</th>\n",
       "      <td>1995-03-01</td>\n",
       "      <td>132</td>\n",
       "    </tr>\n",
       "    <tr>\n",
       "      <th>3</th>\n",
       "      <td>1995-04-01</td>\n",
       "      <td>129</td>\n",
       "    </tr>\n",
       "    <tr>\n",
       "      <th>4</th>\n",
       "      <td>1995-05-01</td>\n",
       "      <td>121</td>\n",
       "    </tr>\n",
       "  </tbody>\n",
       "</table>\n",
       "</div>"
      ],
      "text/plain": [
       "       Month  Passengers\n",
       "0 1995-01-01         112\n",
       "1 1995-02-01         118\n",
       "2 1995-03-01         132\n",
       "3 1995-04-01         129\n",
       "4 1995-05-01         121"
      ]
     },
     "execution_count": 2,
     "metadata": {},
     "output_type": "execute_result"
    }
   ],
   "source": [
    "df0 = pd.read_excel(r\"D:\\360Digitmg\\ASSIGNMENTS\\Ass28\\Airlines Data.xlsx\")\n",
    "df=df0.copy()\n",
    "df.head()"
   ]
  },
  {
   "cell_type": "markdown",
   "id": "6b969727",
   "metadata": {},
   "source": [
    "### DATA UNDERSTANDING & PREPROCESSING"
   ]
  },
  {
   "cell_type": "markdown",
   "id": "89606ccd",
   "metadata": {},
   "source": [
    "The below three lines give a general idea about the dataset like the shape, type and non null values."
   ]
  },
  {
   "cell_type": "code",
   "execution_count": 3,
   "id": "46c129c5",
   "metadata": {},
   "outputs": [
    {
     "data": {
      "text/plain": [
       "(96, 2)"
      ]
     },
     "execution_count": 3,
     "metadata": {},
     "output_type": "execute_result"
    }
   ],
   "source": [
    "df.shape"
   ]
  },
  {
   "cell_type": "code",
   "execution_count": 4,
   "id": "16c1f67c",
   "metadata": {},
   "outputs": [
    {
     "data": {
      "text/plain": [
       "Month         datetime64[ns]\n",
       "Passengers             int64\n",
       "dtype: object"
      ]
     },
     "execution_count": 4,
     "metadata": {},
     "output_type": "execute_result"
    }
   ],
   "source": [
    "df.dtypes"
   ]
  },
  {
   "cell_type": "code",
   "execution_count": 5,
   "id": "414ae339",
   "metadata": {},
   "outputs": [
    {
     "name": "stdout",
     "output_type": "stream",
     "text": [
      "<class 'pandas.core.frame.DataFrame'>\n",
      "RangeIndex: 96 entries, 0 to 95\n",
      "Data columns (total 2 columns):\n",
      " #   Column      Non-Null Count  Dtype         \n",
      "---  ------      --------------  -----         \n",
      " 0   Month       96 non-null     datetime64[ns]\n",
      " 1   Passengers  96 non-null     int64         \n",
      "dtypes: datetime64[ns](1), int64(1)\n",
      "memory usage: 1.6 KB\n"
     ]
    }
   ],
   "source": [
    "df.info()"
   ]
  },
  {
   "cell_type": "markdown",
   "id": "78ee999b",
   "metadata": {},
   "source": [
    "The describe function gives the count, min, max, mean, standard deviation and quantile values of the dataset."
   ]
  },
  {
   "cell_type": "code",
   "execution_count": 6,
   "id": "12c467cc",
   "metadata": {},
   "outputs": [
    {
     "data": {
      "text/html": [
       "<div>\n",
       "<style scoped>\n",
       "    .dataframe tbody tr th:only-of-type {\n",
       "        vertical-align: middle;\n",
       "    }\n",
       "\n",
       "    .dataframe tbody tr th {\n",
       "        vertical-align: top;\n",
       "    }\n",
       "\n",
       "    .dataframe thead th {\n",
       "        text-align: right;\n",
       "    }\n",
       "</style>\n",
       "<table border=\"1\" class=\"dataframe\">\n",
       "  <thead>\n",
       "    <tr style=\"text-align: right;\">\n",
       "      <th></th>\n",
       "      <th>Passengers</th>\n",
       "    </tr>\n",
       "  </thead>\n",
       "  <tbody>\n",
       "    <tr>\n",
       "      <th>count</th>\n",
       "      <td>96.000000</td>\n",
       "    </tr>\n",
       "    <tr>\n",
       "      <th>mean</th>\n",
       "      <td>213.708333</td>\n",
       "    </tr>\n",
       "    <tr>\n",
       "      <th>std</th>\n",
       "      <td>71.918216</td>\n",
       "    </tr>\n",
       "    <tr>\n",
       "      <th>min</th>\n",
       "      <td>104.000000</td>\n",
       "    </tr>\n",
       "    <tr>\n",
       "      <th>25%</th>\n",
       "      <td>156.000000</td>\n",
       "    </tr>\n",
       "    <tr>\n",
       "      <th>50%</th>\n",
       "      <td>200.000000</td>\n",
       "    </tr>\n",
       "    <tr>\n",
       "      <th>75%</th>\n",
       "      <td>264.750000</td>\n",
       "    </tr>\n",
       "    <tr>\n",
       "      <th>max</th>\n",
       "      <td>413.000000</td>\n",
       "    </tr>\n",
       "  </tbody>\n",
       "</table>\n",
       "</div>"
      ],
      "text/plain": [
       "       Passengers\n",
       "count   96.000000\n",
       "mean   213.708333\n",
       "std     71.918216\n",
       "min    104.000000\n",
       "25%    156.000000\n",
       "50%    200.000000\n",
       "75%    264.750000\n",
       "max    413.000000"
      ]
     },
     "execution_count": 6,
     "metadata": {},
     "output_type": "execute_result"
    }
   ],
   "source": [
    "df.describe()"
   ]
  },
  {
   "cell_type": "markdown",
   "id": "f7717389",
   "metadata": {},
   "source": [
    "Checking the Number of Duplicates in the Dataset."
   ]
  },
  {
   "cell_type": "code",
   "execution_count": 7,
   "id": "7e5d1006",
   "metadata": {},
   "outputs": [
    {
     "name": "stdout",
     "output_type": "stream",
     "text": [
      "\u001b[1m\u001b[34m Number of Duplicate values: \u001b[0m 0\n"
     ]
    }
   ],
   "source": [
    "duplicate_values=df.duplicated(subset=None,keep='first').sum()\n",
    "print(colored(' Number of Duplicate values: ','blue',attrs=['bold']),duplicate_values)"
   ]
  },
  {
   "cell_type": "markdown",
   "id": "596b1b85",
   "metadata": {},
   "source": [
    "Checking the Number and Percentage of Missing Values in the Dataset."
   ]
  },
  {
   "cell_type": "code",
   "execution_count": 8,
   "id": "72d872c0",
   "metadata": {},
   "outputs": [
    {
     "name": "stdout",
     "output_type": "stream",
     "text": [
      "\u001b[1m\u001b[34mNumber of Missing Values\n",
      "\n",
      "\u001b[0m Month         0\n",
      "Passengers    0\n",
      "dtype: int64\n"
     ]
    }
   ],
   "source": [
    "missing=df.isna().sum().sort_values(ascending=False)\n",
    "print(colored(\"Number of Missing Values\\n\\n\",'blue',attrs=['bold']),missing)"
   ]
  },
  {
   "cell_type": "markdown",
   "id": "667b84f7",
   "metadata": {},
   "source": [
    "Using the dt.month_name function from pandas to get the month name from the Month variable and saving the names to newly created variable called months"
   ]
  },
  {
   "cell_type": "code",
   "execution_count": 9,
   "id": "e4ad7d34",
   "metadata": {},
   "outputs": [
    {
     "data": {
      "text/html": [
       "<div>\n",
       "<style scoped>\n",
       "    .dataframe tbody tr th:only-of-type {\n",
       "        vertical-align: middle;\n",
       "    }\n",
       "\n",
       "    .dataframe tbody tr th {\n",
       "        vertical-align: top;\n",
       "    }\n",
       "\n",
       "    .dataframe thead th {\n",
       "        text-align: right;\n",
       "    }\n",
       "</style>\n",
       "<table border=\"1\" class=\"dataframe\">\n",
       "  <thead>\n",
       "    <tr style=\"text-align: right;\">\n",
       "      <th></th>\n",
       "      <th>Month</th>\n",
       "      <th>Passengers</th>\n",
       "      <th>months</th>\n",
       "    </tr>\n",
       "  </thead>\n",
       "  <tbody>\n",
       "    <tr>\n",
       "      <th>0</th>\n",
       "      <td>1995-01-01</td>\n",
       "      <td>112</td>\n",
       "      <td>January</td>\n",
       "    </tr>\n",
       "    <tr>\n",
       "      <th>1</th>\n",
       "      <td>1995-02-01</td>\n",
       "      <td>118</td>\n",
       "      <td>February</td>\n",
       "    </tr>\n",
       "    <tr>\n",
       "      <th>2</th>\n",
       "      <td>1995-03-01</td>\n",
       "      <td>132</td>\n",
       "      <td>March</td>\n",
       "    </tr>\n",
       "    <tr>\n",
       "      <th>3</th>\n",
       "      <td>1995-04-01</td>\n",
       "      <td>129</td>\n",
       "      <td>April</td>\n",
       "    </tr>\n",
       "    <tr>\n",
       "      <th>4</th>\n",
       "      <td>1995-05-01</td>\n",
       "      <td>121</td>\n",
       "      <td>May</td>\n",
       "    </tr>\n",
       "  </tbody>\n",
       "</table>\n",
       "</div>"
      ],
      "text/plain": [
       "       Month  Passengers    months\n",
       "0 1995-01-01         112   January\n",
       "1 1995-02-01         118  February\n",
       "2 1995-03-01         132     March\n",
       "3 1995-04-01         129     April\n",
       "4 1995-05-01         121       May"
      ]
     },
     "execution_count": 9,
     "metadata": {},
     "output_type": "execute_result"
    }
   ],
   "source": [
    "df['months'] = df['Month'].dt.month_name(locale='English')\n",
    "df.head(5)"
   ]
  },
  {
   "cell_type": "markdown",
   "id": "ef28be3c",
   "metadata": {},
   "source": [
    "Checking the number of unique values in each variable. "
   ]
  },
  {
   "cell_type": "code",
   "execution_count": 10,
   "id": "422f0bc7",
   "metadata": {},
   "outputs": [
    {
     "name": "stdout",
     "output_type": "stream",
     "text": [
      "\u001b[1m\u001b[34mNumber of Unique Values:\n",
      "\n",
      "\u001b[0m Month         96\n",
      "Passengers    80\n",
      "months        12\n",
      "dtype: int64\n"
     ]
    }
   ],
   "source": [
    "print(colored('Number of Unique Values:\\n\\n','blue',attrs=['bold']),df.nunique())"
   ]
  },
  {
   "cell_type": "markdown",
   "id": "1b4a3c64",
   "metadata": {},
   "source": [
    "creating a column t for time index , t_square for squared time index & log_passengers for building exponential model"
   ]
  },
  {
   "cell_type": "code",
   "execution_count": 11,
   "id": "0238d4f3",
   "metadata": {},
   "outputs": [
    {
     "data": {
      "text/html": [
       "<div>\n",
       "<style scoped>\n",
       "    .dataframe tbody tr th:only-of-type {\n",
       "        vertical-align: middle;\n",
       "    }\n",
       "\n",
       "    .dataframe tbody tr th {\n",
       "        vertical-align: top;\n",
       "    }\n",
       "\n",
       "    .dataframe thead th {\n",
       "        text-align: right;\n",
       "    }\n",
       "</style>\n",
       "<table border=\"1\" class=\"dataframe\">\n",
       "  <thead>\n",
       "    <tr style=\"text-align: right;\">\n",
       "      <th></th>\n",
       "      <th>Month</th>\n",
       "      <th>Passengers</th>\n",
       "      <th>months</th>\n",
       "      <th>t</th>\n",
       "      <th>t_square</th>\n",
       "      <th>log_Passengers</th>\n",
       "    </tr>\n",
       "  </thead>\n",
       "  <tbody>\n",
       "    <tr>\n",
       "      <th>0</th>\n",
       "      <td>1995-01-01</td>\n",
       "      <td>112</td>\n",
       "      <td>January</td>\n",
       "      <td>1</td>\n",
       "      <td>1</td>\n",
       "      <td>4.718499</td>\n",
       "    </tr>\n",
       "    <tr>\n",
       "      <th>1</th>\n",
       "      <td>1995-02-01</td>\n",
       "      <td>118</td>\n",
       "      <td>February</td>\n",
       "      <td>2</td>\n",
       "      <td>4</td>\n",
       "      <td>4.770685</td>\n",
       "    </tr>\n",
       "    <tr>\n",
       "      <th>2</th>\n",
       "      <td>1995-03-01</td>\n",
       "      <td>132</td>\n",
       "      <td>March</td>\n",
       "      <td>3</td>\n",
       "      <td>9</td>\n",
       "      <td>4.882802</td>\n",
       "    </tr>\n",
       "    <tr>\n",
       "      <th>3</th>\n",
       "      <td>1995-04-01</td>\n",
       "      <td>129</td>\n",
       "      <td>April</td>\n",
       "      <td>4</td>\n",
       "      <td>16</td>\n",
       "      <td>4.859812</td>\n",
       "    </tr>\n",
       "    <tr>\n",
       "      <th>4</th>\n",
       "      <td>1995-05-01</td>\n",
       "      <td>121</td>\n",
       "      <td>May</td>\n",
       "      <td>5</td>\n",
       "      <td>25</td>\n",
       "      <td>4.795791</td>\n",
       "    </tr>\n",
       "  </tbody>\n",
       "</table>\n",
       "</div>"
      ],
      "text/plain": [
       "       Month  Passengers    months  t  t_square  log_Passengers\n",
       "0 1995-01-01         112   January  1         1        4.718499\n",
       "1 1995-02-01         118  February  2         4        4.770685\n",
       "2 1995-03-01         132     March  3         9        4.882802\n",
       "3 1995-04-01         129     April  4        16        4.859812\n",
       "4 1995-05-01         121       May  5        25        4.795791"
      ]
     },
     "execution_count": 11,
     "metadata": {},
     "output_type": "execute_result"
    }
   ],
   "source": [
    "df[\"t\"] = np.arange(1,97)\n",
    "df[\"t_square\"] = df[\"t\"] * df[\"t\"]\n",
    "df[\"log_Passengers\"] = np.log(df[\"Passengers\"])\n",
    "df.head(5)"
   ]
  },
  {
   "cell_type": "markdown",
   "id": "017cd06a",
   "metadata": {},
   "source": [
    "Creating dummy variables of the months variable. "
   ]
  },
  {
   "cell_type": "code",
   "execution_count": 12,
   "id": "63a678c7",
   "metadata": {},
   "outputs": [
    {
     "data": {
      "text/html": [
       "<div>\n",
       "<style scoped>\n",
       "    .dataframe tbody tr th:only-of-type {\n",
       "        vertical-align: middle;\n",
       "    }\n",
       "\n",
       "    .dataframe tbody tr th {\n",
       "        vertical-align: top;\n",
       "    }\n",
       "\n",
       "    .dataframe thead th {\n",
       "        text-align: right;\n",
       "    }\n",
       "</style>\n",
       "<table border=\"1\" class=\"dataframe\">\n",
       "  <thead>\n",
       "    <tr style=\"text-align: right;\">\n",
       "      <th></th>\n",
       "      <th>Month</th>\n",
       "      <th>Passengers</th>\n",
       "      <th>months</th>\n",
       "      <th>t</th>\n",
       "      <th>t_square</th>\n",
       "      <th>log_Passengers</th>\n",
       "      <th>April</th>\n",
       "      <th>August</th>\n",
       "      <th>December</th>\n",
       "      <th>February</th>\n",
       "      <th>January</th>\n",
       "      <th>July</th>\n",
       "      <th>June</th>\n",
       "      <th>March</th>\n",
       "      <th>May</th>\n",
       "      <th>November</th>\n",
       "      <th>October</th>\n",
       "      <th>September</th>\n",
       "    </tr>\n",
       "  </thead>\n",
       "  <tbody>\n",
       "    <tr>\n",
       "      <th>0</th>\n",
       "      <td>1995-01-01</td>\n",
       "      <td>112</td>\n",
       "      <td>January</td>\n",
       "      <td>1</td>\n",
       "      <td>1</td>\n",
       "      <td>4.718499</td>\n",
       "      <td>0</td>\n",
       "      <td>0</td>\n",
       "      <td>0</td>\n",
       "      <td>0</td>\n",
       "      <td>1</td>\n",
       "      <td>0</td>\n",
       "      <td>0</td>\n",
       "      <td>0</td>\n",
       "      <td>0</td>\n",
       "      <td>0</td>\n",
       "      <td>0</td>\n",
       "      <td>0</td>\n",
       "    </tr>\n",
       "    <tr>\n",
       "      <th>1</th>\n",
       "      <td>1995-02-01</td>\n",
       "      <td>118</td>\n",
       "      <td>February</td>\n",
       "      <td>2</td>\n",
       "      <td>4</td>\n",
       "      <td>4.770685</td>\n",
       "      <td>0</td>\n",
       "      <td>0</td>\n",
       "      <td>0</td>\n",
       "      <td>1</td>\n",
       "      <td>0</td>\n",
       "      <td>0</td>\n",
       "      <td>0</td>\n",
       "      <td>0</td>\n",
       "      <td>0</td>\n",
       "      <td>0</td>\n",
       "      <td>0</td>\n",
       "      <td>0</td>\n",
       "    </tr>\n",
       "    <tr>\n",
       "      <th>2</th>\n",
       "      <td>1995-03-01</td>\n",
       "      <td>132</td>\n",
       "      <td>March</td>\n",
       "      <td>3</td>\n",
       "      <td>9</td>\n",
       "      <td>4.882802</td>\n",
       "      <td>0</td>\n",
       "      <td>0</td>\n",
       "      <td>0</td>\n",
       "      <td>0</td>\n",
       "      <td>0</td>\n",
       "      <td>0</td>\n",
       "      <td>0</td>\n",
       "      <td>1</td>\n",
       "      <td>0</td>\n",
       "      <td>0</td>\n",
       "      <td>0</td>\n",
       "      <td>0</td>\n",
       "    </tr>\n",
       "    <tr>\n",
       "      <th>3</th>\n",
       "      <td>1995-04-01</td>\n",
       "      <td>129</td>\n",
       "      <td>April</td>\n",
       "      <td>4</td>\n",
       "      <td>16</td>\n",
       "      <td>4.859812</td>\n",
       "      <td>1</td>\n",
       "      <td>0</td>\n",
       "      <td>0</td>\n",
       "      <td>0</td>\n",
       "      <td>0</td>\n",
       "      <td>0</td>\n",
       "      <td>0</td>\n",
       "      <td>0</td>\n",
       "      <td>0</td>\n",
       "      <td>0</td>\n",
       "      <td>0</td>\n",
       "      <td>0</td>\n",
       "    </tr>\n",
       "    <tr>\n",
       "      <th>4</th>\n",
       "      <td>1995-05-01</td>\n",
       "      <td>121</td>\n",
       "      <td>May</td>\n",
       "      <td>5</td>\n",
       "      <td>25</td>\n",
       "      <td>4.795791</td>\n",
       "      <td>0</td>\n",
       "      <td>0</td>\n",
       "      <td>0</td>\n",
       "      <td>0</td>\n",
       "      <td>0</td>\n",
       "      <td>0</td>\n",
       "      <td>0</td>\n",
       "      <td>0</td>\n",
       "      <td>1</td>\n",
       "      <td>0</td>\n",
       "      <td>0</td>\n",
       "      <td>0</td>\n",
       "    </tr>\n",
       "  </tbody>\n",
       "</table>\n",
       "</div>"
      ],
      "text/plain": [
       "       Month  Passengers    months  t  t_square  log_Passengers  April  \\\n",
       "0 1995-01-01         112   January  1         1        4.718499      0   \n",
       "1 1995-02-01         118  February  2         4        4.770685      0   \n",
       "2 1995-03-01         132     March  3         9        4.882802      0   \n",
       "3 1995-04-01         129     April  4        16        4.859812      1   \n",
       "4 1995-05-01         121       May  5        25        4.795791      0   \n",
       "\n",
       "   August  December  February  January  July  June  March  May  November  \\\n",
       "0       0         0         0        1     0     0      0    0         0   \n",
       "1       0         0         1        0     0     0      0    0         0   \n",
       "2       0         0         0        0     0     0      1    0         0   \n",
       "3       0         0         0        0     0     0      0    0         0   \n",
       "4       0         0         0        0     0     0      0    1         0   \n",
       "\n",
       "   October  September  \n",
       "0        0          0  \n",
       "1        0          0  \n",
       "2        0          0  \n",
       "3        0          0  \n",
       "4        0          0  "
      ]
     },
     "execution_count": 12,
     "metadata": {},
     "output_type": "execute_result"
    }
   ],
   "source": [
    "month_dummies = pd.DataFrame(pd.get_dummies(df['months']))\n",
    "df1 = pd.concat([df, month_dummies], axis = 1)\n",
    "df1.head(5)"
   ]
  },
  {
   "cell_type": "markdown",
   "id": "86b1d23a",
   "metadata": {},
   "source": [
    "Creating a new dataframe which would be used to forecast the data for the next 5 Years(60 months). "
   ]
  },
  {
   "cell_type": "code",
   "execution_count": 13,
   "id": "a95d346a",
   "metadata": {},
   "outputs": [
    {
     "name": "stderr",
     "output_type": "stream",
     "text": [
      "C:\\Users\\lenny\\AppData\\Local\\Temp\\ipykernel_33980\\2169265344.py:2: SettingWithCopyWarning: \n",
      "A value is trying to be set on a copy of a slice from a DataFrame\n",
      "\n",
      "See the caveats in the documentation: https://pandas.pydata.org/pandas-docs/stable/user_guide/indexing.html#returning-a-view-versus-a-copy\n",
      "  df_new.drop(['Month','Passengers','months','t','t_square','log_Passengers'],axis=1,inplace=True)\n",
      "C:\\Users\\lenny\\AppData\\Local\\Temp\\ipykernel_33980\\2169265344.py:3: SettingWithCopyWarning: \n",
      "A value is trying to be set on a copy of a slice from a DataFrame.\n",
      "Try using .loc[row_indexer,col_indexer] = value instead\n",
      "\n",
      "See the caveats in the documentation: https://pandas.pydata.org/pandas-docs/stable/user_guide/indexing.html#returning-a-view-versus-a-copy\n",
      "  df_new[\"t\"] = np.arange(97,157)\n",
      "C:\\Users\\lenny\\AppData\\Local\\Temp\\ipykernel_33980\\2169265344.py:4: SettingWithCopyWarning: \n",
      "A value is trying to be set on a copy of a slice from a DataFrame.\n",
      "Try using .loc[row_indexer,col_indexer] = value instead\n",
      "\n",
      "See the caveats in the documentation: https://pandas.pydata.org/pandas-docs/stable/user_guide/indexing.html#returning-a-view-versus-a-copy\n",
      "  df_new[\"t_square\"] = df_new[\"t\"] * df_new[\"t\"]\n"
     ]
    },
    {
     "data": {
      "text/html": [
       "<div>\n",
       "<style scoped>\n",
       "    .dataframe tbody tr th:only-of-type {\n",
       "        vertical-align: middle;\n",
       "    }\n",
       "\n",
       "    .dataframe tbody tr th {\n",
       "        vertical-align: top;\n",
       "    }\n",
       "\n",
       "    .dataframe thead th {\n",
       "        text-align: right;\n",
       "    }\n",
       "</style>\n",
       "<table border=\"1\" class=\"dataframe\">\n",
       "  <thead>\n",
       "    <tr style=\"text-align: right;\">\n",
       "      <th></th>\n",
       "      <th>April</th>\n",
       "      <th>August</th>\n",
       "      <th>December</th>\n",
       "      <th>February</th>\n",
       "      <th>January</th>\n",
       "      <th>July</th>\n",
       "      <th>June</th>\n",
       "      <th>March</th>\n",
       "      <th>May</th>\n",
       "      <th>November</th>\n",
       "      <th>October</th>\n",
       "      <th>September</th>\n",
       "      <th>t</th>\n",
       "      <th>t_square</th>\n",
       "    </tr>\n",
       "  </thead>\n",
       "  <tbody>\n",
       "    <tr>\n",
       "      <th>0</th>\n",
       "      <td>0</td>\n",
       "      <td>0</td>\n",
       "      <td>0</td>\n",
       "      <td>0</td>\n",
       "      <td>1</td>\n",
       "      <td>0</td>\n",
       "      <td>0</td>\n",
       "      <td>0</td>\n",
       "      <td>0</td>\n",
       "      <td>0</td>\n",
       "      <td>0</td>\n",
       "      <td>0</td>\n",
       "      <td>97</td>\n",
       "      <td>9409</td>\n",
       "    </tr>\n",
       "    <tr>\n",
       "      <th>1</th>\n",
       "      <td>0</td>\n",
       "      <td>0</td>\n",
       "      <td>0</td>\n",
       "      <td>1</td>\n",
       "      <td>0</td>\n",
       "      <td>0</td>\n",
       "      <td>0</td>\n",
       "      <td>0</td>\n",
       "      <td>0</td>\n",
       "      <td>0</td>\n",
       "      <td>0</td>\n",
       "      <td>0</td>\n",
       "      <td>98</td>\n",
       "      <td>9604</td>\n",
       "    </tr>\n",
       "    <tr>\n",
       "      <th>2</th>\n",
       "      <td>0</td>\n",
       "      <td>0</td>\n",
       "      <td>0</td>\n",
       "      <td>0</td>\n",
       "      <td>0</td>\n",
       "      <td>0</td>\n",
       "      <td>0</td>\n",
       "      <td>1</td>\n",
       "      <td>0</td>\n",
       "      <td>0</td>\n",
       "      <td>0</td>\n",
       "      <td>0</td>\n",
       "      <td>99</td>\n",
       "      <td>9801</td>\n",
       "    </tr>\n",
       "    <tr>\n",
       "      <th>3</th>\n",
       "      <td>1</td>\n",
       "      <td>0</td>\n",
       "      <td>0</td>\n",
       "      <td>0</td>\n",
       "      <td>0</td>\n",
       "      <td>0</td>\n",
       "      <td>0</td>\n",
       "      <td>0</td>\n",
       "      <td>0</td>\n",
       "      <td>0</td>\n",
       "      <td>0</td>\n",
       "      <td>0</td>\n",
       "      <td>100</td>\n",
       "      <td>10000</td>\n",
       "    </tr>\n",
       "    <tr>\n",
       "      <th>4</th>\n",
       "      <td>0</td>\n",
       "      <td>0</td>\n",
       "      <td>0</td>\n",
       "      <td>0</td>\n",
       "      <td>0</td>\n",
       "      <td>0</td>\n",
       "      <td>0</td>\n",
       "      <td>0</td>\n",
       "      <td>1</td>\n",
       "      <td>0</td>\n",
       "      <td>0</td>\n",
       "      <td>0</td>\n",
       "      <td>101</td>\n",
       "      <td>10201</td>\n",
       "    </tr>\n",
       "  </tbody>\n",
       "</table>\n",
       "</div>"
      ],
      "text/plain": [
       "   April  August  December  February  January  July  June  March  May  \\\n",
       "0      0       0         0         0        1     0     0      0    0   \n",
       "1      0       0         0         1        0     0     0      0    0   \n",
       "2      0       0         0         0        0     0     0      1    0   \n",
       "3      1       0         0         0        0     0     0      0    0   \n",
       "4      0       0         0         0        0     0     0      0    1   \n",
       "\n",
       "   November  October  September    t  t_square  \n",
       "0         0        0          0   97      9409  \n",
       "1         0        0          0   98      9604  \n",
       "2         0        0          0   99      9801  \n",
       "3         0        0          0  100     10000  \n",
       "4         0        0          0  101     10201  "
      ]
     },
     "execution_count": 13,
     "metadata": {},
     "output_type": "execute_result"
    }
   ],
   "source": [
    "df_new = df1.iloc[0:60,:] \n",
    "df_new.drop(['Month','Passengers','months','t','t_square','log_Passengers'],axis=1,inplace=True)\n",
    "df_new[\"t\"] = np.arange(97,157)\n",
    "df_new[\"t_square\"] = df_new[\"t\"] * df_new[\"t\"]\n",
    "df_new.head()"
   ]
  },
  {
   "cell_type": "code",
   "execution_count": 14,
   "id": "310323bd",
   "metadata": {},
   "outputs": [
    {
     "data": {
      "text/html": [
       "<div>\n",
       "<style scoped>\n",
       "    .dataframe tbody tr th:only-of-type {\n",
       "        vertical-align: middle;\n",
       "    }\n",
       "\n",
       "    .dataframe tbody tr th {\n",
       "        vertical-align: top;\n",
       "    }\n",
       "\n",
       "    .dataframe thead th {\n",
       "        text-align: right;\n",
       "    }\n",
       "</style>\n",
       "<table border=\"1\" class=\"dataframe\">\n",
       "  <thead>\n",
       "    <tr style=\"text-align: right;\">\n",
       "      <th></th>\n",
       "      <th>April</th>\n",
       "      <th>August</th>\n",
       "      <th>December</th>\n",
       "      <th>February</th>\n",
       "      <th>January</th>\n",
       "      <th>July</th>\n",
       "      <th>June</th>\n",
       "      <th>March</th>\n",
       "      <th>May</th>\n",
       "      <th>November</th>\n",
       "      <th>October</th>\n",
       "      <th>September</th>\n",
       "      <th>t</th>\n",
       "      <th>t_square</th>\n",
       "    </tr>\n",
       "  </thead>\n",
       "  <tbody>\n",
       "    <tr>\n",
       "      <th>55</th>\n",
       "      <td>0</td>\n",
       "      <td>1</td>\n",
       "      <td>0</td>\n",
       "      <td>0</td>\n",
       "      <td>0</td>\n",
       "      <td>0</td>\n",
       "      <td>0</td>\n",
       "      <td>0</td>\n",
       "      <td>0</td>\n",
       "      <td>0</td>\n",
       "      <td>0</td>\n",
       "      <td>0</td>\n",
       "      <td>152</td>\n",
       "      <td>23104</td>\n",
       "    </tr>\n",
       "    <tr>\n",
       "      <th>56</th>\n",
       "      <td>0</td>\n",
       "      <td>0</td>\n",
       "      <td>0</td>\n",
       "      <td>0</td>\n",
       "      <td>0</td>\n",
       "      <td>0</td>\n",
       "      <td>0</td>\n",
       "      <td>0</td>\n",
       "      <td>0</td>\n",
       "      <td>0</td>\n",
       "      <td>0</td>\n",
       "      <td>1</td>\n",
       "      <td>153</td>\n",
       "      <td>23409</td>\n",
       "    </tr>\n",
       "    <tr>\n",
       "      <th>57</th>\n",
       "      <td>0</td>\n",
       "      <td>0</td>\n",
       "      <td>0</td>\n",
       "      <td>0</td>\n",
       "      <td>0</td>\n",
       "      <td>0</td>\n",
       "      <td>0</td>\n",
       "      <td>0</td>\n",
       "      <td>0</td>\n",
       "      <td>0</td>\n",
       "      <td>1</td>\n",
       "      <td>0</td>\n",
       "      <td>154</td>\n",
       "      <td>23716</td>\n",
       "    </tr>\n",
       "    <tr>\n",
       "      <th>58</th>\n",
       "      <td>0</td>\n",
       "      <td>0</td>\n",
       "      <td>0</td>\n",
       "      <td>0</td>\n",
       "      <td>0</td>\n",
       "      <td>0</td>\n",
       "      <td>0</td>\n",
       "      <td>0</td>\n",
       "      <td>0</td>\n",
       "      <td>1</td>\n",
       "      <td>0</td>\n",
       "      <td>0</td>\n",
       "      <td>155</td>\n",
       "      <td>24025</td>\n",
       "    </tr>\n",
       "    <tr>\n",
       "      <th>59</th>\n",
       "      <td>0</td>\n",
       "      <td>0</td>\n",
       "      <td>1</td>\n",
       "      <td>0</td>\n",
       "      <td>0</td>\n",
       "      <td>0</td>\n",
       "      <td>0</td>\n",
       "      <td>0</td>\n",
       "      <td>0</td>\n",
       "      <td>0</td>\n",
       "      <td>0</td>\n",
       "      <td>0</td>\n",
       "      <td>156</td>\n",
       "      <td>24336</td>\n",
       "    </tr>\n",
       "  </tbody>\n",
       "</table>\n",
       "</div>"
      ],
      "text/plain": [
       "    April  August  December  February  January  July  June  March  May  \\\n",
       "55      0       1         0         0        0     0     0      0    0   \n",
       "56      0       0         0         0        0     0     0      0    0   \n",
       "57      0       0         0         0        0     0     0      0    0   \n",
       "58      0       0         0         0        0     0     0      0    0   \n",
       "59      0       0         1         0        0     0     0      0    0   \n",
       "\n",
       "    November  October  September    t  t_square  \n",
       "55         0        0          0  152     23104  \n",
       "56         0        0          1  153     23409  \n",
       "57         0        1          0  154     23716  \n",
       "58         1        0          0  155     24025  \n",
       "59         0        0          0  156     24336  "
      ]
     },
     "execution_count": 14,
     "metadata": {},
     "output_type": "execute_result"
    }
   ],
   "source": [
    "df_new.tail()"
   ]
  },
  {
   "cell_type": "markdown",
   "id": "a5ae2e95",
   "metadata": {},
   "source": [
    "### VISUALIZATION - TIME PLOT\n",
    "Plotting the time plot. "
   ]
  },
  {
   "cell_type": "code",
   "execution_count": 15,
   "id": "b5164623",
   "metadata": {},
   "outputs": [
    {
     "data": {
      "image/png": "[encoded data removed]",
      "text/plain": [
       "<Figure size 1080x576 with 1 Axes>"
      ]
     },
     "metadata": {
      "needs_background": "light"
     },
     "output_type": "display_data"
    }
   ],
   "source": [
    "plt.figure(figsize=(15,8))\n",
    "df1.Passengers.plot()\n",
    "plt.title(\"TIME PLOT\")\n",
    "plt.show()"
   ]
  },
  {
   "cell_type": "markdown",
   "id": "c5cbdac1",
   "metadata": {},
   "source": [
    "From the time plot we can see that it has an upwards with seasonality but type of seasonality is difficult to guess"
   ]
  },
  {
   "cell_type": "markdown",
   "id": "f252e5b4",
   "metadata": {},
   "source": [
    "### DATA PARTITION\n",
    "Partioning the data into train and test data. "
   ]
  },
  {
   "cell_type": "code",
   "execution_count": 16,
   "id": "acacb22f",
   "metadata": {},
   "outputs": [],
   "source": [
    "Train = df1.head(60)\n",
    "Test = df1.tail(36)"
   ]
  },
  {
   "cell_type": "markdown",
   "id": "25f6691c",
   "metadata": {},
   "source": [
    "### MODEL BUILDING"
   ]
  },
  {
   "cell_type": "markdown",
   "id": "df9d0700",
   "metadata": {},
   "source": [
    "__TESTING DIFFERENT MODELS__"
   ]
  },
  {
   "cell_type": "markdown",
   "id": "d10fe71b",
   "metadata": {},
   "source": [
    "Importing the library required for building the model."
   ]
  },
  {
   "cell_type": "code",
   "execution_count": 17,
   "id": "6b995c64",
   "metadata": {},
   "outputs": [],
   "source": [
    "import statsmodels.formula.api as smf "
   ]
  },
  {
   "cell_type": "markdown",
   "id": "71d37855",
   "metadata": {},
   "source": [
    "__Linear Model__"
   ]
  },
  {
   "cell_type": "code",
   "execution_count": 18,
   "id": "480ff149",
   "metadata": {},
   "outputs": [
    {
     "data": {
      "text/plain": [
       "44.35662671788456"
      ]
     },
     "execution_count": 18,
     "metadata": {},
     "output_type": "execute_result"
    }
   ],
   "source": [
    "linear_model = smf.ols('Passengers ~ t', data = Train).fit()\n",
    "pred_linear =  pd.Series(linear_model.predict(pd.DataFrame(Test['t'])))\n",
    "rmse_linear = np.sqrt(np.mean((np.array(Test['Passengers']) - np.array(pred_linear))**2))\n",
    "rmse_linear"
   ]
  },
  {
   "cell_type": "markdown",
   "id": "5395241e",
   "metadata": {},
   "source": [
    "__Exponential Model__"
   ]
  },
  {
   "cell_type": "code",
   "execution_count": 19,
   "id": "144e3aea",
   "metadata": {},
   "outputs": [
    {
     "data": {
      "text/plain": [
       "42.9119964769827"
      ]
     },
     "execution_count": 19,
     "metadata": {},
     "output_type": "execute_result"
    }
   ],
   "source": [
    "Exp = smf.ols('log_Passengers ~ t', data = Train).fit()\n",
    "pred_Exp = pd.Series(Exp.predict(pd.DataFrame(Test['t'])))\n",
    "rmse_Exp = np.sqrt(np.mean((np.array(Test['Passengers']) - np.array(np.exp(pred_Exp)))**2))\n",
    "rmse_Exp"
   ]
  },
  {
   "cell_type": "markdown",
   "id": "621442f6",
   "metadata": {},
   "source": [
    "__Quadratic Model__"
   ]
  },
  {
   "cell_type": "code",
   "execution_count": 20,
   "id": "60f38c23",
   "metadata": {},
   "outputs": [
    {
     "data": {
      "text/plain": [
       "40.31203210939923"
      ]
     },
     "execution_count": 20,
     "metadata": {},
     "output_type": "execute_result"
    }
   ],
   "source": [
    "Quad = smf.ols('Passengers ~ t + t_square', data = Train).fit()\n",
    "pred_Quad = pd.Series(Quad.predict(Test[[\"t\", \"t_square\"]]))\n",
    "rmse_Quad = np.sqrt(np.mean((np.array(Test['Passengers']) - np.array(pred_Quad))**2))\n",
    "rmse_Quad"
   ]
  },
  {
   "cell_type": "markdown",
   "id": "77b2ac8a",
   "metadata": {},
   "source": [
    "__Additive Seasonality__"
   ]
  },
  {
   "cell_type": "code",
   "execution_count": 21,
   "id": "9b9b26d5",
   "metadata": {},
   "outputs": [
    {
     "data": {
      "text/plain": [
       "119.97073717276962"
      ]
     },
     "execution_count": 21,
     "metadata": {},
     "output_type": "execute_result"
    }
   ],
   "source": [
    "add_sea = smf.ols('Passengers ~ January+February+March+April+May+June+July+August+September+October+November+December', data=Train).fit()\n",
    "pred_add_sea = pd.Series(add_sea.predict(Test[['January','February','March','April','May','June','July','August','September','October','November','December']]))\n",
    "rmse_add_sea = np.sqrt(np.mean((np.array(Test['Passengers']) - np.array(pred_add_sea))**2))\n",
    "rmse_add_sea"
   ]
  },
  {
   "cell_type": "markdown",
   "id": "fdbf174e",
   "metadata": {},
   "source": [
    "__Multiplicative Seasonality__"
   ]
  },
  {
   "cell_type": "code",
   "execution_count": 22,
   "id": "aeaf16d5",
   "metadata": {},
   "outputs": [
    {
     "data": {
      "text/plain": [
       "123.66785534535848"
      ]
     },
     "execution_count": 22,
     "metadata": {},
     "output_type": "execute_result"
    }
   ],
   "source": [
    "Mul_sea = smf.ols('log_Passengers ~ January+February+March+April+May+June+July+August+September+October+November+December',data = Train).fit()\n",
    "pred_Mult_sea = pd.Series(Mul_sea.predict(Test))\n",
    "rmse_Mult_sea = np.sqrt(np.mean((np.array(Test['Passengers']) - np.array(np.exp(pred_Mult_sea)))**2))\n",
    "rmse_Mult_sea"
   ]
  },
  {
   "cell_type": "markdown",
   "id": "136c36d2",
   "metadata": {},
   "source": [
    "__Additive Seasonality with Linear Trend__"
   ]
  },
  {
   "cell_type": "code",
   "execution_count": 23,
   "id": "6486d850",
   "metadata": {},
   "outputs": [
    {
     "data": {
      "text/plain": [
       "29.49606376752293"
      ]
     },
     "execution_count": 23,
     "metadata": {},
     "output_type": "execute_result"
    }
   ],
   "source": [
    "add_sea_lin = smf.ols('Passengers ~ t+January+February+March+April+May+June+July+August+September+October+November+December',data=Train).fit()\n",
    "pred_add_sea_lin = pd.Series(add_sea_lin.predict(Test[['January','February','March','April','May','June','July','August','September','October','November','December','t']]))\n",
    "rmse_add_sea_lin = np.sqrt(np.mean((np.array(Test['Passengers'])-np.array(pred_add_sea_lin))**2))\n",
    "rmse_add_sea_lin "
   ]
  },
  {
   "cell_type": "markdown",
   "id": "e7ffdb80",
   "metadata": {},
   "source": [
    "__Additive Seasonality with Quadratic Trend__"
   ]
  },
  {
   "cell_type": "code",
   "execution_count": 24,
   "id": "bd3acb28",
   "metadata": {},
   "outputs": [
    {
     "data": {
      "text/plain": [
       "25.49269369204702"
      ]
     },
     "execution_count": 24,
     "metadata": {},
     "output_type": "execute_result"
    }
   ],
   "source": [
    "add_sea_Quad = smf.ols('Passengers ~ t+t_square+January+February+March+April+May+June+July+August+September+October+November+December',data=Train).fit()\n",
    "pred_add_sea_quad = pd.Series(add_sea_Quad.predict(Test[['January','February','March','April','May','June','July','August','September','October','November','December','t','t_square']]))\n",
    "rmse_add_sea_quad = np.sqrt(np.mean((np.array(Test['Passengers'])-np.array(pred_add_sea_quad))**2))\n",
    "rmse_add_sea_quad "
   ]
  },
  {
   "cell_type": "markdown",
   "id": "80c499c6",
   "metadata": {},
   "source": [
    "__Multiplicative Seasonality with Linear Trend__"
   ]
  },
  {
   "cell_type": "code",
   "execution_count": 25,
   "id": "fbf466a0",
   "metadata": {},
   "outputs": [
    {
     "data": {
      "text/plain": [
       "26.10038046956047"
      ]
     },
     "execution_count": 25,
     "metadata": {},
     "output_type": "execute_result"
    }
   ],
   "source": [
    "Mul_Add_sea = smf.ols('log_Passengers ~ t+January+February+March+April+May+June+July+August+September+October+November+December',data = Train).fit()\n",
    "pred_Mult_add_sea = pd.Series(Mul_Add_sea.predict(Test))\n",
    "rmse_Mult_add_sea = np.sqrt(np.mean((np.array(Test['Passengers'])-np.array(np.exp(pred_Mult_add_sea)))**2))\n",
    "rmse_Mult_add_sea "
   ]
  },
  {
   "cell_type": "markdown",
   "id": "bd079e6b",
   "metadata": {},
   "source": [
    "__Multiplicative Seasonality with Quadratic Trend__"
   ]
  },
  {
   "cell_type": "code",
   "execution_count": 26,
   "id": "a2d77b28",
   "metadata": {},
   "outputs": [
    {
     "data": {
      "text/plain": [
       "29.467425622600885"
      ]
     },
     "execution_count": 26,
     "metadata": {},
     "output_type": "execute_result"
    }
   ],
   "source": [
    "Mul_Add_sea_quad = smf.ols('log_Passengers ~ t+t_square+January+February+March+April+May+June+July+August+September+October+November+December',data = Train).fit()\n",
    "pred_Mult_add_sea_quad = pd.Series(Mul_Add_sea_quad.predict(Test))\n",
    "rmse_Mult_add_sea_quad = np.sqrt(np.mean((np.array(Test['Passengers'])-np.array(np.exp(pred_Mult_add_sea_quad)))**2))\n",
    "rmse_Mult_add_sea_quad "
   ]
  },
  {
   "cell_type": "markdown",
   "id": "0fb18b70",
   "metadata": {},
   "source": [
    "__MODEL COMPARISONS__"
   ]
  },
  {
   "cell_type": "code",
   "execution_count": 27,
   "id": "747a2ec6",
   "metadata": {},
   "outputs": [
    {
     "data": {
      "text/html": [
       "<div>\n",
       "<style scoped>\n",
       "    .dataframe tbody tr th:only-of-type {\n",
       "        vertical-align: middle;\n",
       "    }\n",
       "\n",
       "    .dataframe tbody tr th {\n",
       "        vertical-align: top;\n",
       "    }\n",
       "\n",
       "    .dataframe thead th {\n",
       "        text-align: right;\n",
       "    }\n",
       "</style>\n",
       "<table border=\"1\" class=\"dataframe\">\n",
       "  <thead>\n",
       "    <tr style=\"text-align: right;\">\n",
       "      <th></th>\n",
       "      <th>MODEL</th>\n",
       "      <th>RMSE_Values</th>\n",
       "    </tr>\n",
       "  </thead>\n",
       "  <tbody>\n",
       "    <tr>\n",
       "      <th>0</th>\n",
       "      <td>Linear Model RMSE</td>\n",
       "      <td>44.356627</td>\n",
       "    </tr>\n",
       "    <tr>\n",
       "      <th>1</th>\n",
       "      <td>Exponential Model RMSE</td>\n",
       "      <td>42.911996</td>\n",
       "    </tr>\n",
       "    <tr>\n",
       "      <th>2</th>\n",
       "      <td>Quadratic Model RMSE</td>\n",
       "      <td>40.312032</td>\n",
       "    </tr>\n",
       "    <tr>\n",
       "      <th>3</th>\n",
       "      <td>Additive Seasonality Model RMSE</td>\n",
       "      <td>119.970737</td>\n",
       "    </tr>\n",
       "    <tr>\n",
       "      <th>4</th>\n",
       "      <td>Additive Seasonality with Linear Trend RMSE</td>\n",
       "      <td>29.496064</td>\n",
       "    </tr>\n",
       "    <tr>\n",
       "      <th>5</th>\n",
       "      <td>Additive Seasonality with Quadratic Trend RMSE</td>\n",
       "      <td>25.492694</td>\n",
       "    </tr>\n",
       "    <tr>\n",
       "      <th>6</th>\n",
       "      <td>Multiplicative Seasonality Model RMSE</td>\n",
       "      <td>123.667855</td>\n",
       "    </tr>\n",
       "    <tr>\n",
       "      <th>7</th>\n",
       "      <td>Multiplicative Seasonality with Linear Trend RMSE</td>\n",
       "      <td>26.100380</td>\n",
       "    </tr>\n",
       "    <tr>\n",
       "      <th>8</th>\n",
       "      <td>Multiplicative Seasonality with Quadratic Tren...</td>\n",
       "      <td>29.467426</td>\n",
       "    </tr>\n",
       "  </tbody>\n",
       "</table>\n",
       "</div>"
      ],
      "text/plain": [
       "                                               MODEL  RMSE_Values\n",
       "0                                  Linear Model RMSE    44.356627\n",
       "1                             Exponential Model RMSE    42.911996\n",
       "2                               Quadratic Model RMSE    40.312032\n",
       "3                    Additive Seasonality Model RMSE   119.970737\n",
       "4        Additive Seasonality with Linear Trend RMSE    29.496064\n",
       "5     Additive Seasonality with Quadratic Trend RMSE    25.492694\n",
       "6              Multiplicative Seasonality Model RMSE   123.667855\n",
       "7  Multiplicative Seasonality with Linear Trend RMSE    26.100380\n",
       "8  Multiplicative Seasonality with Quadratic Tren...    29.467426"
      ]
     },
     "execution_count": 27,
     "metadata": {},
     "output_type": "execute_result"
    }
   ],
   "source": [
    "data = {\"MODEL\":pd.Series([\"Linear Model RMSE\",\"Exponential Model RMSE\",\"Quadratic Model RMSE\",\"Additive Seasonality Model RMSE\",\"Additive Seasonality with Linear Trend RMSE\",\"Additive Seasonality with Quadratic Trend RMSE\",\"Multiplicative Seasonality Model RMSE\",\"Multiplicative Seasonality with Linear Trend RMSE\",\"Multiplicative Seasonality with Quadratic Trend RMSE\"]),\"RMSE_Values\":pd.Series([rmse_linear,rmse_Exp,rmse_Quad,rmse_add_sea,rmse_add_sea_lin,rmse_add_sea_quad,rmse_Mult_sea,rmse_Mult_add_sea,rmse_Mult_add_sea_quad])}\n",
    "table_rmse = pd.DataFrame(data)\n",
    "table_rmse"
   ]
  },
  {
   "cell_type": "markdown",
   "id": "8c02e460",
   "metadata": {},
   "source": [
    "On comparison of the different models the Additive Seasonality with Quadratic Trend Model is giving the lowest RMSE value so using this model for Model building"
   ]
  },
  {
   "cell_type": "markdown",
   "id": "96521d0d",
   "metadata": {},
   "source": [
    "__BUILDING THE MODEL AND FORECASTING__"
   ]
  },
  {
   "cell_type": "markdown",
   "id": "e66a0698",
   "metadata": {},
   "source": [
    "Building the model on the entire dataset. "
   ]
  },
  {
   "cell_type": "code",
   "execution_count": 28,
   "id": "ab50027e",
   "metadata": {},
   "outputs": [],
   "source": [
    "full_model = smf.ols('Passengers ~ t+t_square+January+February+March+April+May+June+July+August+September+October+November+December', data=df1).fit()"
   ]
  },
  {
   "cell_type": "markdown",
   "id": "10c9d697",
   "metadata": {},
   "source": [
    "Forecasting the data for the next 60 months using the best model i.e. Additive Seasonality with Quadratic Trend.The forecasted data is stored in the variable 'Passengers'."
   ]
  },
  {
   "cell_type": "code",
   "execution_count": 29,
   "id": "ca5e617f",
   "metadata": {},
   "outputs": [
    {
     "name": "stderr",
     "output_type": "stream",
     "text": [
      "C:\\Users\\lenny\\AppData\\Local\\Temp\\ipykernel_33980\\3344907635.py:1: SettingWithCopyWarning: \n",
      "A value is trying to be set on a copy of a slice from a DataFrame.\n",
      "Try using .loc[row_indexer,col_indexer] = value instead\n",
      "\n",
      "See the caveats in the documentation: https://pandas.pydata.org/pandas-docs/stable/user_guide/indexing.html#returning-a-view-versus-a-copy\n",
      "  df_new['Passengers']=pd.Series(full_model.predict(df_new))\n"
     ]
    },
    {
     "data": {
      "text/html": [
       "<div>\n",
       "<style scoped>\n",
       "    .dataframe tbody tr th:only-of-type {\n",
       "        vertical-align: middle;\n",
       "    }\n",
       "\n",
       "    .dataframe tbody tr th {\n",
       "        vertical-align: top;\n",
       "    }\n",
       "\n",
       "    .dataframe thead th {\n",
       "        text-align: right;\n",
       "    }\n",
       "</style>\n",
       "<table border=\"1\" class=\"dataframe\">\n",
       "  <thead>\n",
       "    <tr style=\"text-align: right;\">\n",
       "      <th></th>\n",
       "      <th>April</th>\n",
       "      <th>August</th>\n",
       "      <th>December</th>\n",
       "      <th>February</th>\n",
       "      <th>January</th>\n",
       "      <th>July</th>\n",
       "      <th>June</th>\n",
       "      <th>March</th>\n",
       "      <th>May</th>\n",
       "      <th>November</th>\n",
       "      <th>October</th>\n",
       "      <th>September</th>\n",
       "      <th>t</th>\n",
       "      <th>t_square</th>\n",
       "      <th>Passengers</th>\n",
       "    </tr>\n",
       "  </thead>\n",
       "  <tbody>\n",
       "    <tr>\n",
       "      <th>0</th>\n",
       "      <td>0</td>\n",
       "      <td>0</td>\n",
       "      <td>0</td>\n",
       "      <td>0</td>\n",
       "      <td>1</td>\n",
       "      <td>0</td>\n",
       "      <td>0</td>\n",
       "      <td>0</td>\n",
       "      <td>0</td>\n",
       "      <td>0</td>\n",
       "      <td>0</td>\n",
       "      <td>0</td>\n",
       "      <td>97</td>\n",
       "      <td>9409</td>\n",
       "      <td>328.328687</td>\n",
       "    </tr>\n",
       "    <tr>\n",
       "      <th>1</th>\n",
       "      <td>0</td>\n",
       "      <td>0</td>\n",
       "      <td>0</td>\n",
       "      <td>1</td>\n",
       "      <td>0</td>\n",
       "      <td>0</td>\n",
       "      <td>0</td>\n",
       "      <td>0</td>\n",
       "      <td>0</td>\n",
       "      <td>0</td>\n",
       "      <td>0</td>\n",
       "      <td>0</td>\n",
       "      <td>98</td>\n",
       "      <td>9604</td>\n",
       "      <td>329.438178</td>\n",
       "    </tr>\n",
       "    <tr>\n",
       "      <th>2</th>\n",
       "      <td>0</td>\n",
       "      <td>0</td>\n",
       "      <td>0</td>\n",
       "      <td>0</td>\n",
       "      <td>0</td>\n",
       "      <td>0</td>\n",
       "      <td>0</td>\n",
       "      <td>1</td>\n",
       "      <td>0</td>\n",
       "      <td>0</td>\n",
       "      <td>0</td>\n",
       "      <td>0</td>\n",
       "      <td>99</td>\n",
       "      <td>9801</td>\n",
       "      <td>359.547668</td>\n",
       "    </tr>\n",
       "    <tr>\n",
       "      <th>3</th>\n",
       "      <td>1</td>\n",
       "      <td>0</td>\n",
       "      <td>0</td>\n",
       "      <td>0</td>\n",
       "      <td>0</td>\n",
       "      <td>0</td>\n",
       "      <td>0</td>\n",
       "      <td>0</td>\n",
       "      <td>0</td>\n",
       "      <td>0</td>\n",
       "      <td>0</td>\n",
       "      <td>0</td>\n",
       "      <td>100</td>\n",
       "      <td>10000</td>\n",
       "      <td>354.907159</td>\n",
       "    </tr>\n",
       "    <tr>\n",
       "      <th>4</th>\n",
       "      <td>0</td>\n",
       "      <td>0</td>\n",
       "      <td>0</td>\n",
       "      <td>0</td>\n",
       "      <td>0</td>\n",
       "      <td>0</td>\n",
       "      <td>0</td>\n",
       "      <td>0</td>\n",
       "      <td>1</td>\n",
       "      <td>0</td>\n",
       "      <td>0</td>\n",
       "      <td>0</td>\n",
       "      <td>101</td>\n",
       "      <td>10201</td>\n",
       "      <td>356.141650</td>\n",
       "    </tr>\n",
       "  </tbody>\n",
       "</table>\n",
       "</div>"
      ],
      "text/plain": [
       "   April  August  December  February  January  July  June  March  May  \\\n",
       "0      0       0         0         0        1     0     0      0    0   \n",
       "1      0       0         0         1        0     0     0      0    0   \n",
       "2      0       0         0         0        0     0     0      1    0   \n",
       "3      1       0         0         0        0     0     0      0    0   \n",
       "4      0       0         0         0        0     0     0      0    1   \n",
       "\n",
       "   November  October  September    t  t_square  Passengers  \n",
       "0         0        0          0   97      9409  328.328687  \n",
       "1         0        0          0   98      9604  329.438178  \n",
       "2         0        0          0   99      9801  359.547668  \n",
       "3         0        0          0  100     10000  354.907159  \n",
       "4         0        0          0  101     10201  356.141650  "
      ]
     },
     "execution_count": 29,
     "metadata": {},
     "output_type": "execute_result"
    }
   ],
   "source": [
    "df_new['Passengers']=pd.Series(full_model.predict(df_new))\n",
    "df_new.head()"
   ]
  },
  {
   "cell_type": "markdown",
   "id": "b324938a",
   "metadata": {},
   "source": [
    "The forecasted data is not free from erros so we will calculate the error value of the original dataset and use the auto regression to bring the error's to as low as possible and also forecast the errors for the next 60 months which will then be added to the forecasted data. "
   ]
  },
  {
   "cell_type": "markdown",
   "id": "b8da6326",
   "metadata": {},
   "source": [
    "Predicting the Passengers variable using the full_model and saving the results into a new variable. "
   ]
  },
  {
   "cell_type": "code",
   "execution_count": 30,
   "id": "769c9c98",
   "metadata": {},
   "outputs": [
    {
     "data": {
      "text/html": [
       "<div>\n",
       "<style scoped>\n",
       "    .dataframe tbody tr th:only-of-type {\n",
       "        vertical-align: middle;\n",
       "    }\n",
       "\n",
       "    .dataframe tbody tr th {\n",
       "        vertical-align: top;\n",
       "    }\n",
       "\n",
       "    .dataframe thead th {\n",
       "        text-align: right;\n",
       "    }\n",
       "</style>\n",
       "<table border=\"1\" class=\"dataframe\">\n",
       "  <thead>\n",
       "    <tr style=\"text-align: right;\">\n",
       "      <th></th>\n",
       "      <th>Month</th>\n",
       "      <th>Passengers</th>\n",
       "      <th>months</th>\n",
       "      <th>t</th>\n",
       "      <th>t_square</th>\n",
       "      <th>log_Passengers</th>\n",
       "      <th>April</th>\n",
       "      <th>August</th>\n",
       "      <th>December</th>\n",
       "      <th>February</th>\n",
       "      <th>January</th>\n",
       "      <th>July</th>\n",
       "      <th>June</th>\n",
       "      <th>March</th>\n",
       "      <th>May</th>\n",
       "      <th>November</th>\n",
       "      <th>October</th>\n",
       "      <th>September</th>\n",
       "      <th>Forecasted_Passengers1</th>\n",
       "    </tr>\n",
       "  </thead>\n",
       "  <tbody>\n",
       "    <tr>\n",
       "      <th>0</th>\n",
       "      <td>1995-01-01</td>\n",
       "      <td>112</td>\n",
       "      <td>January</td>\n",
       "      <td>1</td>\n",
       "      <td>1</td>\n",
       "      <td>4.718499</td>\n",
       "      <td>0</td>\n",
       "      <td>0</td>\n",
       "      <td>0</td>\n",
       "      <td>0</td>\n",
       "      <td>1</td>\n",
       "      <td>0</td>\n",
       "      <td>0</td>\n",
       "      <td>0</td>\n",
       "      <td>0</td>\n",
       "      <td>0</td>\n",
       "      <td>0</td>\n",
       "      <td>0</td>\n",
       "      <td>101.802790</td>\n",
       "    </tr>\n",
       "    <tr>\n",
       "      <th>1</th>\n",
       "      <td>1995-02-01</td>\n",
       "      <td>118</td>\n",
       "      <td>February</td>\n",
       "      <td>2</td>\n",
       "      <td>4</td>\n",
       "      <td>4.770685</td>\n",
       "      <td>0</td>\n",
       "      <td>0</td>\n",
       "      <td>0</td>\n",
       "      <td>1</td>\n",
       "      <td>0</td>\n",
       "      <td>0</td>\n",
       "      <td>0</td>\n",
       "      <td>0</td>\n",
       "      <td>0</td>\n",
       "      <td>0</td>\n",
       "      <td>0</td>\n",
       "      <td>0</td>\n",
       "      <td>100.717631</td>\n",
       "    </tr>\n",
       "    <tr>\n",
       "      <th>2</th>\n",
       "      <td>1995-03-01</td>\n",
       "      <td>132</td>\n",
       "      <td>March</td>\n",
       "      <td>3</td>\n",
       "      <td>9</td>\n",
       "      <td>4.882802</td>\n",
       "      <td>0</td>\n",
       "      <td>0</td>\n",
       "      <td>0</td>\n",
       "      <td>0</td>\n",
       "      <td>0</td>\n",
       "      <td>0</td>\n",
       "      <td>0</td>\n",
       "      <td>1</td>\n",
       "      <td>0</td>\n",
       "      <td>0</td>\n",
       "      <td>0</td>\n",
       "      <td>0</td>\n",
       "      <td>128.632471</td>\n",
       "    </tr>\n",
       "    <tr>\n",
       "      <th>3</th>\n",
       "      <td>1995-04-01</td>\n",
       "      <td>129</td>\n",
       "      <td>April</td>\n",
       "      <td>4</td>\n",
       "      <td>16</td>\n",
       "      <td>4.859812</td>\n",
       "      <td>1</td>\n",
       "      <td>0</td>\n",
       "      <td>0</td>\n",
       "      <td>0</td>\n",
       "      <td>0</td>\n",
       "      <td>0</td>\n",
       "      <td>0</td>\n",
       "      <td>0</td>\n",
       "      <td>0</td>\n",
       "      <td>0</td>\n",
       "      <td>0</td>\n",
       "      <td>0</td>\n",
       "      <td>121.797312</td>\n",
       "    </tr>\n",
       "    <tr>\n",
       "      <th>4</th>\n",
       "      <td>1995-05-01</td>\n",
       "      <td>121</td>\n",
       "      <td>May</td>\n",
       "      <td>5</td>\n",
       "      <td>25</td>\n",
       "      <td>4.795791</td>\n",
       "      <td>0</td>\n",
       "      <td>0</td>\n",
       "      <td>0</td>\n",
       "      <td>0</td>\n",
       "      <td>0</td>\n",
       "      <td>0</td>\n",
       "      <td>0</td>\n",
       "      <td>0</td>\n",
       "      <td>1</td>\n",
       "      <td>0</td>\n",
       "      <td>0</td>\n",
       "      <td>0</td>\n",
       "      <td>120.837153</td>\n",
       "    </tr>\n",
       "  </tbody>\n",
       "</table>\n",
       "</div>"
      ],
      "text/plain": [
       "       Month  Passengers    months  t  t_square  log_Passengers  April  \\\n",
       "0 1995-01-01         112   January  1         1        4.718499      0   \n",
       "1 1995-02-01         118  February  2         4        4.770685      0   \n",
       "2 1995-03-01         132     March  3         9        4.882802      0   \n",
       "3 1995-04-01         129     April  4        16        4.859812      1   \n",
       "4 1995-05-01         121       May  5        25        4.795791      0   \n",
       "\n",
       "   August  December  February  January  July  June  March  May  November  \\\n",
       "0       0         0         0        1     0     0      0    0         0   \n",
       "1       0         0         1        0     0     0      0    0         0   \n",
       "2       0         0         0        0     0     0      1    0         0   \n",
       "3       0         0         0        0     0     0      0    0         0   \n",
       "4       0         0         0        0     0     0      0    1         0   \n",
       "\n",
       "   October  September  Forecasted_Passengers1  \n",
       "0        0          0              101.802790  \n",
       "1        0          0              100.717631  \n",
       "2        0          0              128.632471  \n",
       "3        0          0              121.797312  \n",
       "4        0          0              120.837153  "
      ]
     },
     "execution_count": 30,
     "metadata": {},
     "output_type": "execute_result"
    }
   ],
   "source": [
    "df1[\"Forecasted_Passengers1\"]= pd.Series(full_model.predict(df1))\n",
    "df1.head(5)"
   ]
  },
  {
   "cell_type": "code",
   "execution_count": null,
   "id": "7e1429ce",
   "metadata": {},
   "outputs": [],
   "source": []
  },
  {
   "cell_type": "markdown",
   "id": "ae3e50a0",
   "metadata": {},
   "source": [
    "### AUTOREGRESSION(AR)"
   ]
  },
  {
   "cell_type": "markdown",
   "id": "8797e7f8",
   "metadata": {},
   "source": [
    "Using the autoregression model to reduce the errors, so will calculate the residuals(errors) from best model applied on full data. "
   ]
  },
  {
   "cell_type": "code",
   "execution_count": 31,
   "id": "5607c885",
   "metadata": {},
   "outputs": [
    {
     "data": {
      "text/plain": [
       "0     10.197210\n",
       "1     17.282369\n",
       "2      3.367529\n",
       "3      7.202688\n",
       "4      0.162847\n",
       "        ...    \n",
       "91    33.912847\n",
       "92    11.202688\n",
       "93   -10.632471\n",
       "94   -21.842631\n",
       "95   -13.427790\n",
       "Length: 96, dtype: float64"
      ]
     },
     "execution_count": 31,
     "metadata": {},
     "output_type": "execute_result"
    }
   ],
   "source": [
    "Residuals1 = df1.Passengers - df1.Forecasted_Passengers1\n",
    "Residuals1"
   ]
  },
  {
   "cell_type": "markdown",
   "id": "a12e5626",
   "metadata": {},
   "source": [
    "Importing the library required to plot the ACF and PACF plots."
   ]
  },
  {
   "cell_type": "code",
   "execution_count": 32,
   "id": "4d317dfe",
   "metadata": {},
   "outputs": [],
   "source": [
    "import statsmodels.graphics.tsaplots as tsa_plots"
   ]
  },
  {
   "cell_type": "markdown",
   "id": "9bb5f022",
   "metadata": {},
   "source": [
    "Plotting the ACF plot."
   ]
  },
  {
   "cell_type": "code",
   "execution_count": 33,
   "id": "8fb7a249",
   "metadata": {},
   "outputs": [
    {
     "data": {
      "text/plain": [
       "<Figure size 1800x1296 with 0 Axes>"
      ]
     },
     "metadata": {},
     "output_type": "display_data"
    },
    {
     "data": {
      "image/png": "[encoded data removed]",
      "text/plain": [
       "<Figure size 432x288 with 1 Axes>"
      ]
     },
     "metadata": {
      "needs_background": "light"
     },
     "output_type": "display_data"
    }
   ],
   "source": [
    "plt.figure(figsize=(25,18))\n",
    "tsa_plots.plot_acf(Residuals1, lags = 12)\n",
    "plt.title(\"ACF PLOT\")\n",
    "plt.show()"
   ]
  },
  {
   "cell_type": "markdown",
   "id": "3a2b690f",
   "metadata": {},
   "source": [
    "Plotting the PACF plot. "
   ]
  },
  {
   "cell_type": "code",
   "execution_count": 34,
   "id": "f633d13c",
   "metadata": {},
   "outputs": [
    {
     "name": "stderr",
     "output_type": "stream",
     "text": [
      "C:\\Users\\lenny\\anaconda3\\lib\\site-packages\\statsmodels\\graphics\\tsaplots.py:348: FutureWarning: The default method 'yw' can produce PACF values outside of the [-1,1] interval. After 0.13, the default will change tounadjusted Yule-Walker ('ywm'). You can use this method now by setting method='ywm'.\n",
      "  warnings.warn(\n"
     ]
    },
    {
     "data": {
      "text/plain": [
       "<Figure size 1080x576 with 0 Axes>"
      ]
     },
     "metadata": {},
     "output_type": "display_data"
    },
    {
     "data": {
      "image/png": "[encoded data removed]",
      "text/plain": [
       "<Figure size 432x288 with 1 Axes>"
      ]
     },
     "metadata": {
      "needs_background": "light"
     },
     "output_type": "display_data"
    }
   ],
   "source": [
    "plt.figure(figsize=(15,8))\n",
    "tsa_plots.plot_pacf(Residuals1, lags = 12)\n",
    "plt.title(\"PACF PLOT\")\n",
    "plt.show()"
   ]
  },
  {
   "cell_type": "markdown",
   "id": "38cefb51",
   "metadata": {},
   "source": [
    "From the acf and pacf plot we can see that lag1 is the best option. "
   ]
  },
  {
   "cell_type": "markdown",
   "id": "e484dbce",
   "metadata": {},
   "source": [
    "Importing the library required to build the AR model."
   ]
  },
  {
   "cell_type": "code",
   "execution_count": 35,
   "id": "2abdd25b",
   "metadata": {},
   "outputs": [],
   "source": [
    "from statsmodels.tsa.ar_model import AutoReg"
   ]
  },
  {
   "cell_type": "markdown",
   "id": "2febdf51",
   "metadata": {},
   "source": [
    "Building the model on the first set of residuals obtained from the Additive seasonality with quadratic trend model. "
   ]
  },
  {
   "cell_type": "code",
   "execution_count": 36,
   "id": "86ab2a2a",
   "metadata": {},
   "outputs": [],
   "source": [
    "model_ar = AutoReg(Residuals1, lags=[1])"
   ]
  },
  {
   "cell_type": "markdown",
   "id": "fa7a0e4d",
   "metadata": {},
   "source": [
    "Fitting the model. "
   ]
  },
  {
   "cell_type": "code",
   "execution_count": 37,
   "id": "a795100d",
   "metadata": {},
   "outputs": [],
   "source": [
    "model_fit = model_ar.fit()"
   ]
  },
  {
   "cell_type": "markdown",
   "id": "7a4b0651",
   "metadata": {},
   "source": [
    "Checking the coefficients of the model. "
   ]
  },
  {
   "cell_type": "code",
   "execution_count": 38,
   "id": "a1ab700d",
   "metadata": {},
   "outputs": [
    {
     "name": "stdout",
     "output_type": "stream",
     "text": [
      "Coefficients: const   -0.208924\n",
      "y.L1     0.718698\n",
      "dtype: float64\n"
     ]
    }
   ],
   "source": [
    "print('Coefficients: %s' % model_fit.params)"
   ]
  },
  {
   "cell_type": "markdown",
   "id": "1dce66cd",
   "metadata": {},
   "source": [
    "Predicting the errors using the autoregression model. "
   ]
  },
  {
   "cell_type": "code",
   "execution_count": 39,
   "id": "44b25caa",
   "metadata": {},
   "outputs": [
    {
     "data": {
      "text/plain": [
       "0           NaN\n",
       "1      7.119793\n",
       "2     12.211884\n",
       "3      2.211313\n",
       "4      4.967635\n",
       "        ...    \n",
       "91    29.346108\n",
       "92    24.164179\n",
       "93     7.842428\n",
       "94    -7.850462\n",
       "95   -15.907183\n",
       "Length: 96, dtype: float64"
      ]
     },
     "execution_count": 39,
     "metadata": {},
     "output_type": "execute_result"
    }
   ],
   "source": [
    "pred_res = model_fit.predict()\n",
    "pred_res.reset_index(drop=True, inplace=True)\n",
    "pred_res"
   ]
  },
  {
   "cell_type": "markdown",
   "id": "4e332bb5",
   "metadata": {},
   "source": [
    "The predicted errors are then added to the forecasted data and saved to another variable called forecasted_passenger2."
   ]
  },
  {
   "cell_type": "code",
   "execution_count": 40,
   "id": "231a9761",
   "metadata": {},
   "outputs": [
    {
     "data": {
      "text/plain": [
       "0            NaN\n",
       "1     107.837424\n",
       "2     140.844356\n",
       "3     124.008625\n",
       "4     125.804788\n",
       "         ...    \n",
       "91    400.433261\n",
       "92    367.961491\n",
       "93    324.474900\n",
       "94    284.992169\n",
       "95    303.520607\n",
       "Length: 96, dtype: float64"
      ]
     },
     "execution_count": 40,
     "metadata": {},
     "output_type": "execute_result"
    }
   ],
   "source": [
    "Forecasted_Passengers2 = df1.Forecasted_Passengers1 + pred_res\n",
    "Forecasted_Passengers2"
   ]
  },
  {
   "cell_type": "code",
   "execution_count": 41,
   "id": "2bc9e27b",
   "metadata": {},
   "outputs": [
    {
     "data": {
      "text/html": [
       "<div>\n",
       "<style scoped>\n",
       "    .dataframe tbody tr th:only-of-type {\n",
       "        vertical-align: middle;\n",
       "    }\n",
       "\n",
       "    .dataframe tbody tr th {\n",
       "        vertical-align: top;\n",
       "    }\n",
       "\n",
       "    .dataframe thead th {\n",
       "        text-align: right;\n",
       "    }\n",
       "</style>\n",
       "<table border=\"1\" class=\"dataframe\">\n",
       "  <thead>\n",
       "    <tr style=\"text-align: right;\">\n",
       "      <th></th>\n",
       "      <th>Month</th>\n",
       "      <th>Passengers</th>\n",
       "      <th>months</th>\n",
       "      <th>t</th>\n",
       "      <th>t_square</th>\n",
       "      <th>log_Passengers</th>\n",
       "      <th>April</th>\n",
       "      <th>August</th>\n",
       "      <th>December</th>\n",
       "      <th>February</th>\n",
       "      <th>January</th>\n",
       "      <th>July</th>\n",
       "      <th>June</th>\n",
       "      <th>March</th>\n",
       "      <th>May</th>\n",
       "      <th>November</th>\n",
       "      <th>October</th>\n",
       "      <th>September</th>\n",
       "      <th>Forecasted_Passengers1</th>\n",
       "      <th>Forecasted_Passengers2</th>\n",
       "    </tr>\n",
       "  </thead>\n",
       "  <tbody>\n",
       "    <tr>\n",
       "      <th>0</th>\n",
       "      <td>1995-01-01</td>\n",
       "      <td>112</td>\n",
       "      <td>January</td>\n",
       "      <td>1</td>\n",
       "      <td>1</td>\n",
       "      <td>4.718499</td>\n",
       "      <td>0</td>\n",
       "      <td>0</td>\n",
       "      <td>0</td>\n",
       "      <td>0</td>\n",
       "      <td>1</td>\n",
       "      <td>0</td>\n",
       "      <td>0</td>\n",
       "      <td>0</td>\n",
       "      <td>0</td>\n",
       "      <td>0</td>\n",
       "      <td>0</td>\n",
       "      <td>0</td>\n",
       "      <td>101.802790</td>\n",
       "      <td>NaN</td>\n",
       "    </tr>\n",
       "    <tr>\n",
       "      <th>1</th>\n",
       "      <td>1995-02-01</td>\n",
       "      <td>118</td>\n",
       "      <td>February</td>\n",
       "      <td>2</td>\n",
       "      <td>4</td>\n",
       "      <td>4.770685</td>\n",
       "      <td>0</td>\n",
       "      <td>0</td>\n",
       "      <td>0</td>\n",
       "      <td>1</td>\n",
       "      <td>0</td>\n",
       "      <td>0</td>\n",
       "      <td>0</td>\n",
       "      <td>0</td>\n",
       "      <td>0</td>\n",
       "      <td>0</td>\n",
       "      <td>0</td>\n",
       "      <td>0</td>\n",
       "      <td>100.717631</td>\n",
       "      <td>107.837424</td>\n",
       "    </tr>\n",
       "    <tr>\n",
       "      <th>2</th>\n",
       "      <td>1995-03-01</td>\n",
       "      <td>132</td>\n",
       "      <td>March</td>\n",
       "      <td>3</td>\n",
       "      <td>9</td>\n",
       "      <td>4.882802</td>\n",
       "      <td>0</td>\n",
       "      <td>0</td>\n",
       "      <td>0</td>\n",
       "      <td>0</td>\n",
       "      <td>0</td>\n",
       "      <td>0</td>\n",
       "      <td>0</td>\n",
       "      <td>1</td>\n",
       "      <td>0</td>\n",
       "      <td>0</td>\n",
       "      <td>0</td>\n",
       "      <td>0</td>\n",
       "      <td>128.632471</td>\n",
       "      <td>140.844356</td>\n",
       "    </tr>\n",
       "    <tr>\n",
       "      <th>3</th>\n",
       "      <td>1995-04-01</td>\n",
       "      <td>129</td>\n",
       "      <td>April</td>\n",
       "      <td>4</td>\n",
       "      <td>16</td>\n",
       "      <td>4.859812</td>\n",
       "      <td>1</td>\n",
       "      <td>0</td>\n",
       "      <td>0</td>\n",
       "      <td>0</td>\n",
       "      <td>0</td>\n",
       "      <td>0</td>\n",
       "      <td>0</td>\n",
       "      <td>0</td>\n",
       "      <td>0</td>\n",
       "      <td>0</td>\n",
       "      <td>0</td>\n",
       "      <td>0</td>\n",
       "      <td>121.797312</td>\n",
       "      <td>124.008625</td>\n",
       "    </tr>\n",
       "    <tr>\n",
       "      <th>4</th>\n",
       "      <td>1995-05-01</td>\n",
       "      <td>121</td>\n",
       "      <td>May</td>\n",
       "      <td>5</td>\n",
       "      <td>25</td>\n",
       "      <td>4.795791</td>\n",
       "      <td>0</td>\n",
       "      <td>0</td>\n",
       "      <td>0</td>\n",
       "      <td>0</td>\n",
       "      <td>0</td>\n",
       "      <td>0</td>\n",
       "      <td>0</td>\n",
       "      <td>0</td>\n",
       "      <td>1</td>\n",
       "      <td>0</td>\n",
       "      <td>0</td>\n",
       "      <td>0</td>\n",
       "      <td>120.837153</td>\n",
       "      <td>125.804788</td>\n",
       "    </tr>\n",
       "  </tbody>\n",
       "</table>\n",
       "</div>"
      ],
      "text/plain": [
       "       Month  Passengers    months  t  t_square  log_Passengers  April  \\\n",
       "0 1995-01-01         112   January  1         1        4.718499      0   \n",
       "1 1995-02-01         118  February  2         4        4.770685      0   \n",
       "2 1995-03-01         132     March  3         9        4.882802      0   \n",
       "3 1995-04-01         129     April  4        16        4.859812      1   \n",
       "4 1995-05-01         121       May  5        25        4.795791      0   \n",
       "\n",
       "   August  December  February  January  July  June  March  May  November  \\\n",
       "0       0         0         0        1     0     0      0    0         0   \n",
       "1       0         0         1        0     0     0      0    0         0   \n",
       "2       0         0         0        0     0     0      1    0         0   \n",
       "3       0         0         0        0     0     0      0    0         0   \n",
       "4       0         0         0        0     0     0      0    1         0   \n",
       "\n",
       "   October  September  Forecasted_Passengers1  Forecasted_Passengers2  \n",
       "0        0          0              101.802790                     NaN  \n",
       "1        0          0              100.717631              107.837424  \n",
       "2        0          0              128.632471              140.844356  \n",
       "3        0          0              121.797312              124.008625  \n",
       "4        0          0              120.837153              125.804788  "
      ]
     },
     "execution_count": 41,
     "metadata": {},
     "output_type": "execute_result"
    }
   ],
   "source": [
    "df1[\"Forecasted_Passengers2\"] = pd.Series(Forecasted_Passengers2)\n",
    "df1.head(5)"
   ]
  },
  {
   "cell_type": "markdown",
   "id": "b253af97",
   "metadata": {},
   "source": [
    "Dropping the nan value from the dataset using the dropna function of the pandas library. "
   ]
  },
  {
   "cell_type": "code",
   "execution_count": 42,
   "id": "cedbb337",
   "metadata": {},
   "outputs": [],
   "source": [
    "df1.dropna(inplace=True)"
   ]
  },
  {
   "cell_type": "markdown",
   "id": "5e2b245b",
   "metadata": {},
   "source": [
    "The RMSE value is calculated to check the improvement in the data after filtering the residuals. "
   ]
  },
  {
   "cell_type": "code",
   "execution_count": 43,
   "id": "be9da253",
   "metadata": {},
   "outputs": [
    {
     "data": {
      "text/plain": [
       "9.419080161723718"
      ]
     },
     "execution_count": 43,
     "metadata": {},
     "output_type": "execute_result"
    }
   ],
   "source": [
    "rmse1 = np.sqrt(np.mean((np.array(df1[\"Passengers\"]) - np.array(df1[\"Forecasted_Passengers2\"]))**2))\n",
    "rmse1"
   ]
  },
  {
   "cell_type": "markdown",
   "id": "b78c5922",
   "metadata": {},
   "source": [
    "From the rmse we can see that it is very low which is very helpful in forecasting the data accurately. "
   ]
  },
  {
   "cell_type": "markdown",
   "id": "8c75def8",
   "metadata": {},
   "source": [
    "Predicting the next 60 months error using the same auto regression model. "
   ]
  },
  {
   "cell_type": "code",
   "execution_count": 44,
   "id": "3428ad64",
   "metadata": {},
   "outputs": [
    {
     "data": {
      "text/plain": [
       "0    -15.907183\n",
       "1     -9.859453\n",
       "2     -7.294895\n",
       "3     -5.451751\n",
       "4     -4.127087\n",
       "5     -3.175054\n",
       "6     -2.490829\n",
       "7     -1.999078\n",
       "8     -1.645657\n",
       "9     -1.391655\n",
       "10    -1.209103\n",
       "11    -1.077904\n",
       "12    -0.983611\n",
       "13    -0.915843\n",
       "14    -0.867138\n",
       "15    -0.832134\n",
       "16    -0.806977\n",
       "17    -0.788897\n",
       "18    -0.775902\n",
       "19    -0.766563\n",
       "20    -0.759851\n",
       "21    -0.755027\n",
       "22    -0.751560\n",
       "23    -0.749069\n",
       "24    -0.747278\n",
       "25    -0.745991\n",
       "26    -0.745066\n",
       "27    -0.744401\n",
       "28    -0.743923\n",
       "29    -0.743580\n",
       "30    -0.743333\n",
       "31    -0.743156\n",
       "32    -0.743028\n",
       "33    -0.742937\n",
       "34    -0.742871\n",
       "35    -0.742823\n",
       "36    -0.742789\n",
       "37    -0.742765\n",
       "38    -0.742747\n",
       "39    -0.742735\n",
       "40    -0.742726\n",
       "41    -0.742719\n",
       "42    -0.742715\n",
       "43    -0.742711\n",
       "44    -0.742709\n",
       "45    -0.742707\n",
       "46    -0.742706\n",
       "47    -0.742705\n",
       "48    -0.742704\n",
       "49    -0.742704\n",
       "50    -0.742703\n",
       "51    -0.742703\n",
       "52    -0.742703\n",
       "53    -0.742703\n",
       "54    -0.742703\n",
       "55    -0.742703\n",
       "56    -0.742703\n",
       "57    -0.742703\n",
       "58    -0.742703\n",
       "59    -0.742703\n",
       "dtype: float64"
      ]
     },
     "execution_count": 44,
     "metadata": {},
     "output_type": "execute_result"
    }
   ],
   "source": [
    "new_residuals = model_fit.predict(start=len(df1), end=len(df1)+60-1, dynamic=False)\n",
    "new_residuals.reset_index(drop=True, inplace=True)\n",
    "new_residuals"
   ]
  },
  {
   "cell_type": "markdown",
   "id": "9dbf5b3f",
   "metadata": {},
   "source": [
    "The predicted errors are added to the passenger variable in the df_new dataset which has the forecasted passenger data. This data is then added as new passenger variable in the same dataframe. "
   ]
  },
  {
   "cell_type": "code",
   "execution_count": 45,
   "id": "6615b0e3",
   "metadata": {},
   "outputs": [
    {
     "data": {
      "text/plain": [
       "0     312.421503\n",
       "1     319.578725\n",
       "2     352.252774\n",
       "3     349.455408\n",
       "4     352.014562\n",
       "5     382.201087\n",
       "6     410.869802\n",
       "7     410.846044\n",
       "8     384.183955\n",
       "9     357.547449\n",
       "10    334.214491\n",
       "11    361.205181\n",
       "12    370.474701\n",
       "13    371.926291\n",
       "14    402.358818\n",
       "15    398.027644\n",
       "16    399.561624\n",
       "17    429.088526\n",
       "18    457.360343\n",
       "19    457.128504\n",
       "20    430.394038\n",
       "21    403.782683\n",
       "22    380.544972\n",
       "23    407.681286\n",
       "24    417.132636\n",
       "25    418.792076\n",
       "26    449.451154\n",
       "27    445.359972\n",
       "28    447.143603\n",
       "29    476.927100\n",
       "30    505.460500\n",
       "31    505.493831\n",
       "32    479.027112\n",
       "33    452.685356\n",
       "34    429.718576\n",
       "35    457.126776\n",
       "36    466.850700\n",
       "37    468.783209\n",
       "38    499.715712\n",
       "39    495.898209\n",
       "40    497.955702\n",
       "41    528.013193\n",
       "42    556.820683\n",
       "43    557.128170\n",
       "44    530.935657\n",
       "45    504.868144\n",
       "46    482.175630\n",
       "47    509.858115\n",
       "48    519.856337\n",
       "49    522.063153\n",
       "50    553.269970\n",
       "51    549.726786\n",
       "52    552.058602\n",
       "53    582.390418\n",
       "54    611.472233\n",
       "55    612.054049\n",
       "56    586.135865\n",
       "57    560.342681\n",
       "58    537.924497\n",
       "59    565.881313\n",
       "dtype: float64"
      ]
     },
     "execution_count": 45,
     "metadata": {},
     "output_type": "execute_result"
    }
   ],
   "source": [
    "final_pred = df_new.Passengers + new_residuals\n",
    "final_pred"
   ]
  },
  {
   "cell_type": "code",
   "execution_count": 46,
   "id": "ebd18542",
   "metadata": {},
   "outputs": [
    {
     "name": "stderr",
     "output_type": "stream",
     "text": [
      "C:\\Users\\lenny\\AppData\\Local\\Temp\\ipykernel_33980\\2229365985.py:1: SettingWithCopyWarning: \n",
      "A value is trying to be set on a copy of a slice from a DataFrame.\n",
      "Try using .loc[row_indexer,col_indexer] = value instead\n",
      "\n",
      "See the caveats in the documentation: https://pandas.pydata.org/pandas-docs/stable/user_guide/indexing.html#returning-a-view-versus-a-copy\n",
      "  df_new['New_Passengers']=pd.Series(final_pred)\n"
     ]
    },
    {
     "data": {
      "text/html": [
       "<div>\n",
       "<style scoped>\n",
       "    .dataframe tbody tr th:only-of-type {\n",
       "        vertical-align: middle;\n",
       "    }\n",
       "\n",
       "    .dataframe tbody tr th {\n",
       "        vertical-align: top;\n",
       "    }\n",
       "\n",
       "    .dataframe thead th {\n",
       "        text-align: right;\n",
       "    }\n",
       "</style>\n",
       "<table border=\"1\" class=\"dataframe\">\n",
       "  <thead>\n",
       "    <tr style=\"text-align: right;\">\n",
       "      <th></th>\n",
       "      <th>April</th>\n",
       "      <th>August</th>\n",
       "      <th>December</th>\n",
       "      <th>February</th>\n",
       "      <th>January</th>\n",
       "      <th>July</th>\n",
       "      <th>June</th>\n",
       "      <th>March</th>\n",
       "      <th>May</th>\n",
       "      <th>November</th>\n",
       "      <th>October</th>\n",
       "      <th>September</th>\n",
       "      <th>t</th>\n",
       "      <th>t_square</th>\n",
       "      <th>Passengers</th>\n",
       "      <th>New_Passengers</th>\n",
       "    </tr>\n",
       "  </thead>\n",
       "  <tbody>\n",
       "    <tr>\n",
       "      <th>0</th>\n",
       "      <td>0</td>\n",
       "      <td>0</td>\n",
       "      <td>0</td>\n",
       "      <td>0</td>\n",
       "      <td>1</td>\n",
       "      <td>0</td>\n",
       "      <td>0</td>\n",
       "      <td>0</td>\n",
       "      <td>0</td>\n",
       "      <td>0</td>\n",
       "      <td>0</td>\n",
       "      <td>0</td>\n",
       "      <td>97</td>\n",
       "      <td>9409</td>\n",
       "      <td>328.328687</td>\n",
       "      <td>312.421503</td>\n",
       "    </tr>\n",
       "    <tr>\n",
       "      <th>1</th>\n",
       "      <td>0</td>\n",
       "      <td>0</td>\n",
       "      <td>0</td>\n",
       "      <td>1</td>\n",
       "      <td>0</td>\n",
       "      <td>0</td>\n",
       "      <td>0</td>\n",
       "      <td>0</td>\n",
       "      <td>0</td>\n",
       "      <td>0</td>\n",
       "      <td>0</td>\n",
       "      <td>0</td>\n",
       "      <td>98</td>\n",
       "      <td>9604</td>\n",
       "      <td>329.438178</td>\n",
       "      <td>319.578725</td>\n",
       "    </tr>\n",
       "    <tr>\n",
       "      <th>2</th>\n",
       "      <td>0</td>\n",
       "      <td>0</td>\n",
       "      <td>0</td>\n",
       "      <td>0</td>\n",
       "      <td>0</td>\n",
       "      <td>0</td>\n",
       "      <td>0</td>\n",
       "      <td>1</td>\n",
       "      <td>0</td>\n",
       "      <td>0</td>\n",
       "      <td>0</td>\n",
       "      <td>0</td>\n",
       "      <td>99</td>\n",
       "      <td>9801</td>\n",
       "      <td>359.547668</td>\n",
       "      <td>352.252774</td>\n",
       "    </tr>\n",
       "    <tr>\n",
       "      <th>3</th>\n",
       "      <td>1</td>\n",
       "      <td>0</td>\n",
       "      <td>0</td>\n",
       "      <td>0</td>\n",
       "      <td>0</td>\n",
       "      <td>0</td>\n",
       "      <td>0</td>\n",
       "      <td>0</td>\n",
       "      <td>0</td>\n",
       "      <td>0</td>\n",
       "      <td>0</td>\n",
       "      <td>0</td>\n",
       "      <td>100</td>\n",
       "      <td>10000</td>\n",
       "      <td>354.907159</td>\n",
       "      <td>349.455408</td>\n",
       "    </tr>\n",
       "    <tr>\n",
       "      <th>4</th>\n",
       "      <td>0</td>\n",
       "      <td>0</td>\n",
       "      <td>0</td>\n",
       "      <td>0</td>\n",
       "      <td>0</td>\n",
       "      <td>0</td>\n",
       "      <td>0</td>\n",
       "      <td>0</td>\n",
       "      <td>1</td>\n",
       "      <td>0</td>\n",
       "      <td>0</td>\n",
       "      <td>0</td>\n",
       "      <td>101</td>\n",
       "      <td>10201</td>\n",
       "      <td>356.141650</td>\n",
       "      <td>352.014562</td>\n",
       "    </tr>\n",
       "  </tbody>\n",
       "</table>\n",
       "</div>"
      ],
      "text/plain": [
       "   April  August  December  February  January  July  June  March  May  \\\n",
       "0      0       0         0         0        1     0     0      0    0   \n",
       "1      0       0         0         1        0     0     0      0    0   \n",
       "2      0       0         0         0        0     0     0      1    0   \n",
       "3      1       0         0         0        0     0     0      0    0   \n",
       "4      0       0         0         0        0     0     0      0    1   \n",
       "\n",
       "   November  October  September    t  t_square  Passengers  New_Passengers  \n",
       "0         0        0          0   97      9409  328.328687      312.421503  \n",
       "1         0        0          0   98      9604  329.438178      319.578725  \n",
       "2         0        0          0   99      9801  359.547668      352.252774  \n",
       "3         0        0          0  100     10000  354.907159      349.455408  \n",
       "4         0        0          0  101     10201  356.141650      352.014562  "
      ]
     },
     "execution_count": 46,
     "metadata": {},
     "output_type": "execute_result"
    }
   ],
   "source": [
    "df_new['New_Passengers']=pd.Series(final_pred)\n",
    "df_new.head()"
   ]
  },
  {
   "cell_type": "code",
   "execution_count": null,
   "id": "fdce7677",
   "metadata": {},
   "outputs": [],
   "source": []
  },
  {
   "cell_type": "markdown",
   "id": "a21d345c",
   "metadata": {},
   "source": [
    "### CONCLUSION"
   ]
  },
  {
   "cell_type": "markdown",
   "id": "0b834251",
   "metadata": {},
   "source": [
    "Thus the next 5 years passenger data is forecasted using both Additive Seasonality Quadratic trend model and AutoRegression(1) model. The various models are checked and their rmse values are also documented. There are total 12 dummy variables used from January to December as the seasonality is 12 as the time series is based on month data. "
   ]
  },
  {
   "cell_type": "markdown",
   "id": "d82b2e87",
   "metadata": {},
   "source": [
    "From the forecast we can see that there is a steady increase in the number of passengers over the years. "
   ]
  },
  {
   "cell_type": "code",
   "execution_count": null,
   "id": "07f876c9",
   "metadata": {},
   "outputs": [],
   "source": []
  }
 ],
 "metadata": {
  "kernelspec": {
   "display_name": "Python 3 (ipykernel)",
   "language": "python",
   "name": "python3"
  },
  "language_info": {
   "codemirror_mode": {
    "name": "ipython",
    "version": 3
   },
   "file_extension": ".py",
   "mimetype": "text/x-python",
   "name": "python",
   "nbconvert_exporter": "python",
   "pygments_lexer": "ipython3",
   "version": "3.9.12"
  }
 },
 "nbformat": 4,
 "nbformat_minor": 5
}

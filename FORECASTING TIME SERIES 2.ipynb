{
 "cells": [
  {
   "cell_type": "markdown",
   "id": "3b87ef03",
   "metadata": {},
   "source": [
    "# COCO COLA SALES DATASET\n",
    "Using the above dataset to do time series forecasting."
   ]
  },
  {
   "cell_type": "markdown",
   "id": "862d5061",
   "metadata": {},
   "source": [
    "## BUSINESS OBJECTIVE\n",
    "* Maximize Profit\n",
    "* Minimize Loss\n",
    "* Maximize Quality\n",
    "* Maximize Sales"
   ]
  },
  {
   "cell_type": "markdown",
   "id": "13ec6d84",
   "metadata": {},
   "source": [
    "## CONSTRAINTS\n",
    "* Raw material availability\n",
    "* High competition\n"
   ]
  },
  {
   "cell_type": "markdown",
   "id": "070c9b64",
   "metadata": {},
   "source": [
    "## DATA DICTIONARY"
   ]
  },
  {
   "cell_type": "markdown",
   "id": "1a47d442",
   "metadata": {},
   "source": [
    "| **slno** | **Name of Feature** | **Description**                                                                                                          | **Type** | **Relevance** |\n",
    "|:--------:|:-------------------|:--------------------------------------------------------------------------------------------------------------------------|:--------:|:-------------:|\n",
    "| 1 | Quarter | It gives the Quarter in which the data was gathered | Nominal   | Relevant      |\n",
    "| 2 | Sales | The number of Sales in the Quarter | Ratio   | Relevant      |"
   ]
  },
  {
   "cell_type": "markdown",
   "id": "46e5d637",
   "metadata": {},
   "source": [
    "Importing the required libraries."
   ]
  },
  {
   "cell_type": "code",
   "execution_count": 1,
   "id": "17e87c30",
   "metadata": {},
   "outputs": [],
   "source": [
    "import pandas as pd\n",
    "import numpy as np\n",
    "import matplotlib.pyplot as plt\n",
    "import seaborn as sns\n",
    "from scipy import stats\n",
    "from termcolor import colored"
   ]
  },
  {
   "cell_type": "markdown",
   "id": "e26adb47",
   "metadata": {},
   "source": [
    "Loading the dataset using the pandas library and confirming the dataset has been loaded properly using the 'head' function"
   ]
  },
  {
   "cell_type": "code",
   "execution_count": 2,
   "id": "3fd16244",
   "metadata": {},
   "outputs": [
    {
     "data": {
      "text/html": [
       "<div>\n",
       "<style scoped>\n",
       "    .dataframe tbody tr th:only-of-type {\n",
       "        vertical-align: middle;\n",
       "    }\n",
       "\n",
       "    .dataframe tbody tr th {\n",
       "        vertical-align: top;\n",
       "    }\n",
       "\n",
       "    .dataframe thead th {\n",
       "        text-align: right;\n",
       "    }\n",
       "</style>\n",
       "<table border=\"1\" class=\"dataframe\">\n",
       "  <thead>\n",
       "    <tr style=\"text-align: right;\">\n",
       "      <th></th>\n",
       "      <th>Quarter</th>\n",
       "      <th>Sales</th>\n",
       "    </tr>\n",
       "  </thead>\n",
       "  <tbody>\n",
       "    <tr>\n",
       "      <th>0</th>\n",
       "      <td>Q1_86</td>\n",
       "      <td>1734.827000</td>\n",
       "    </tr>\n",
       "    <tr>\n",
       "      <th>1</th>\n",
       "      <td>Q2_86</td>\n",
       "      <td>2244.960999</td>\n",
       "    </tr>\n",
       "    <tr>\n",
       "      <th>2</th>\n",
       "      <td>Q3_86</td>\n",
       "      <td>2533.804993</td>\n",
       "    </tr>\n",
       "    <tr>\n",
       "      <th>3</th>\n",
       "      <td>Q4_86</td>\n",
       "      <td>2154.962997</td>\n",
       "    </tr>\n",
       "    <tr>\n",
       "      <th>4</th>\n",
       "      <td>Q1_87</td>\n",
       "      <td>1547.818996</td>\n",
       "    </tr>\n",
       "  </tbody>\n",
       "</table>\n",
       "</div>"
      ],
      "text/plain": [
       "  Quarter        Sales\n",
       "0   Q1_86  1734.827000\n",
       "1   Q2_86  2244.960999\n",
       "2   Q3_86  2533.804993\n",
       "3   Q4_86  2154.962997\n",
       "4   Q1_87  1547.818996"
      ]
     },
     "execution_count": 2,
     "metadata": {},
     "output_type": "execute_result"
    }
   ],
   "source": [
    "df0 = pd.read_excel(r\"D:\\360Digitmg\\ASSIGNMENTS\\Ass28\\CocaCola_Sales_Rawdata.xlsx\")\n",
    "df=df0.copy()\n",
    "df.head()"
   ]
  },
  {
   "cell_type": "markdown",
   "id": "6b969727",
   "metadata": {},
   "source": [
    "### DATA UNDERSTANDING & PREPROCESSING"
   ]
  },
  {
   "cell_type": "markdown",
   "id": "89606ccd",
   "metadata": {},
   "source": [
    "The below three lines give a general idea about the dataset like the shape, type and non null values."
   ]
  },
  {
   "cell_type": "code",
   "execution_count": 3,
   "id": "46c129c5",
   "metadata": {},
   "outputs": [
    {
     "data": {
      "text/plain": [
       "(42, 2)"
      ]
     },
     "execution_count": 3,
     "metadata": {},
     "output_type": "execute_result"
    }
   ],
   "source": [
    "df.shape"
   ]
  },
  {
   "cell_type": "code",
   "execution_count": 4,
   "id": "16c1f67c",
   "metadata": {},
   "outputs": [
    {
     "data": {
      "text/plain": [
       "Quarter     object\n",
       "Sales      float64\n",
       "dtype: object"
      ]
     },
     "execution_count": 4,
     "metadata": {},
     "output_type": "execute_result"
    }
   ],
   "source": [
    "df.dtypes"
   ]
  },
  {
   "cell_type": "code",
   "execution_count": 5,
   "id": "414ae339",
   "metadata": {},
   "outputs": [
    {
     "name": "stdout",
     "output_type": "stream",
     "text": [
      "<class 'pandas.core.frame.DataFrame'>\n",
      "RangeIndex: 42 entries, 0 to 41\n",
      "Data columns (total 2 columns):\n",
      " #   Column   Non-Null Count  Dtype  \n",
      "---  ------   --------------  -----  \n",
      " 0   Quarter  42 non-null     object \n",
      " 1   Sales    42 non-null     float64\n",
      "dtypes: float64(1), object(1)\n",
      "memory usage: 800.0+ bytes\n"
     ]
    }
   ],
   "source": [
    "df.info()"
   ]
  },
  {
   "cell_type": "markdown",
   "id": "78ee999b",
   "metadata": {},
   "source": [
    "The describe function gives the count, min, max, mean, standard deviation and quantile values of the dataset."
   ]
  },
  {
   "cell_type": "code",
   "execution_count": 6,
   "id": "12c467cc",
   "metadata": {},
   "outputs": [
    {
     "data": {
      "text/html": [
       "<div>\n",
       "<style scoped>\n",
       "    .dataframe tbody tr th:only-of-type {\n",
       "        vertical-align: middle;\n",
       "    }\n",
       "\n",
       "    .dataframe tbody tr th {\n",
       "        vertical-align: top;\n",
       "    }\n",
       "\n",
       "    .dataframe thead th {\n",
       "        text-align: right;\n",
       "    }\n",
       "</style>\n",
       "<table border=\"1\" class=\"dataframe\">\n",
       "  <thead>\n",
       "    <tr style=\"text-align: right;\">\n",
       "      <th></th>\n",
       "      <th>Sales</th>\n",
       "    </tr>\n",
       "  </thead>\n",
       "  <tbody>\n",
       "    <tr>\n",
       "      <th>count</th>\n",
       "      <td>42.000000</td>\n",
       "    </tr>\n",
       "    <tr>\n",
       "      <th>mean</th>\n",
       "      <td>2994.353308</td>\n",
       "    </tr>\n",
       "    <tr>\n",
       "      <th>std</th>\n",
       "      <td>977.930896</td>\n",
       "    </tr>\n",
       "    <tr>\n",
       "      <th>min</th>\n",
       "      <td>1547.818996</td>\n",
       "    </tr>\n",
       "    <tr>\n",
       "      <th>25%</th>\n",
       "      <td>2159.714247</td>\n",
       "    </tr>\n",
       "    <tr>\n",
       "      <th>50%</th>\n",
       "      <td>2782.376999</td>\n",
       "    </tr>\n",
       "    <tr>\n",
       "      <th>75%</th>\n",
       "      <td>3609.250000</td>\n",
       "    </tr>\n",
       "    <tr>\n",
       "      <th>max</th>\n",
       "      <td>5253.000000</td>\n",
       "    </tr>\n",
       "  </tbody>\n",
       "</table>\n",
       "</div>"
      ],
      "text/plain": [
       "             Sales\n",
       "count    42.000000\n",
       "mean   2994.353308\n",
       "std     977.930896\n",
       "min    1547.818996\n",
       "25%    2159.714247\n",
       "50%    2782.376999\n",
       "75%    3609.250000\n",
       "max    5253.000000"
      ]
     },
     "execution_count": 6,
     "metadata": {},
     "output_type": "execute_result"
    }
   ],
   "source": [
    "df.describe()"
   ]
  },
  {
   "cell_type": "markdown",
   "id": "f7717389",
   "metadata": {},
   "source": [
    "Checking the Number of Duplicates in the Dataset."
   ]
  },
  {
   "cell_type": "code",
   "execution_count": 7,
   "id": "7e5d1006",
   "metadata": {},
   "outputs": [
    {
     "name": "stdout",
     "output_type": "stream",
     "text": [
      "\u001b[1m\u001b[34m Number of Duplicate values: \u001b[0m 0\n"
     ]
    }
   ],
   "source": [
    "duplicate_values=df.duplicated(subset=None,keep='first').sum()\n",
    "print(colored(' Number of Duplicate values: ','blue',attrs=['bold']),duplicate_values)"
   ]
  },
  {
   "cell_type": "markdown",
   "id": "596b1b85",
   "metadata": {},
   "source": [
    "Checking the Number and Percentage of Missing Values in the Dataset."
   ]
  },
  {
   "cell_type": "code",
   "execution_count": 8,
   "id": "72d872c0",
   "metadata": {},
   "outputs": [
    {
     "name": "stdout",
     "output_type": "stream",
     "text": [
      "\u001b[1m\u001b[34mNumber of Missing Values\n",
      "\n",
      "\u001b[0m Quarter    0\n",
      "Sales      0\n",
      "dtype: int64\n"
     ]
    }
   ],
   "source": [
    "missing=df.isna().sum().sort_values(ascending=False)\n",
    "print(colored(\"Number of Missing Values\\n\\n\",'blue',attrs=['bold']),missing)"
   ]
  },
  {
   "cell_type": "markdown",
   "id": "ebc8d520",
   "metadata": {},
   "source": [
    "Using the custom function to get the first two characters of the Quarter variable and saving it to another variable called Quarters."
   ]
  },
  {
   "cell_type": "code",
   "execution_count": 9,
   "id": "230ad992",
   "metadata": {},
   "outputs": [
    {
     "name": "stderr",
     "output_type": "stream",
     "text": [
      "C:\\Users\\lenny\\AppData\\Local\\Temp\\ipykernel_25304\\875241178.py:5: SettingWithCopyWarning: \n",
      "A value is trying to be set on a copy of a slice from a DataFrame\n",
      "\n",
      "See the caveats in the documentation: https://pandas.pydata.org/pandas-docs/stable/user_guide/indexing.html#returning-a-view-versus-a-copy\n",
      "  df['Quarters'][i]= p[0:2]\n"
     ]
    },
    {
     "data": {
      "text/html": [
       "<div>\n",
       "<style scoped>\n",
       "    .dataframe tbody tr th:only-of-type {\n",
       "        vertical-align: middle;\n",
       "    }\n",
       "\n",
       "    .dataframe tbody tr th {\n",
       "        vertical-align: top;\n",
       "    }\n",
       "\n",
       "    .dataframe thead th {\n",
       "        text-align: right;\n",
       "    }\n",
       "</style>\n",
       "<table border=\"1\" class=\"dataframe\">\n",
       "  <thead>\n",
       "    <tr style=\"text-align: right;\">\n",
       "      <th></th>\n",
       "      <th>Quarter</th>\n",
       "      <th>Sales</th>\n",
       "      <th>Quarters</th>\n",
       "    </tr>\n",
       "  </thead>\n",
       "  <tbody>\n",
       "    <tr>\n",
       "      <th>0</th>\n",
       "      <td>Q1_86</td>\n",
       "      <td>1734.827000</td>\n",
       "      <td>Q1</td>\n",
       "    </tr>\n",
       "    <tr>\n",
       "      <th>1</th>\n",
       "      <td>Q2_86</td>\n",
       "      <td>2244.960999</td>\n",
       "      <td>Q2</td>\n",
       "    </tr>\n",
       "    <tr>\n",
       "      <th>2</th>\n",
       "      <td>Q3_86</td>\n",
       "      <td>2533.804993</td>\n",
       "      <td>Q3</td>\n",
       "    </tr>\n",
       "    <tr>\n",
       "      <th>3</th>\n",
       "      <td>Q4_86</td>\n",
       "      <td>2154.962997</td>\n",
       "      <td>Q4</td>\n",
       "    </tr>\n",
       "    <tr>\n",
       "      <th>4</th>\n",
       "      <td>Q1_87</td>\n",
       "      <td>1547.818996</td>\n",
       "      <td>Q1</td>\n",
       "    </tr>\n",
       "  </tbody>\n",
       "</table>\n",
       "</div>"
      ],
      "text/plain": [
       "  Quarter        Sales Quarters\n",
       "0   Q1_86  1734.827000       Q1\n",
       "1   Q2_86  2244.960999       Q2\n",
       "2   Q3_86  2533.804993       Q3\n",
       "3   Q4_86  2154.962997       Q4\n",
       "4   Q1_87  1547.818996       Q1"
      ]
     },
     "execution_count": 9,
     "metadata": {},
     "output_type": "execute_result"
    }
   ],
   "source": [
    "df['Quarters']= 0\n",
    "\n",
    "for i in range(42):\n",
    "    p = df['Quarter'][i]\n",
    "    df['Quarters'][i]= p[0:2]\n",
    "df.head()"
   ]
  },
  {
   "cell_type": "markdown",
   "id": "1b9dc068",
   "metadata": {},
   "source": [
    "Checking the number of unique values in each variable. "
   ]
  },
  {
   "cell_type": "code",
   "execution_count": 10,
   "id": "422f0bc7",
   "metadata": {},
   "outputs": [
    {
     "name": "stdout",
     "output_type": "stream",
     "text": [
      "\u001b[1m\u001b[34mNumber of Unique Values:\n",
      "\n",
      "\u001b[0m Quarter     42\n",
      "Sales       42\n",
      "Quarters     4\n",
      "dtype: int64\n"
     ]
    }
   ],
   "source": [
    "print(colored('Number of Unique Values:\\n\\n','blue',attrs=['bold']),df.nunique())"
   ]
  },
  {
   "cell_type": "markdown",
   "id": "7f6f8d09",
   "metadata": {},
   "source": [
    "creating a column t for time index , t_square for squared time index & log_sales for building exponential model"
   ]
  },
  {
   "cell_type": "code",
   "execution_count": 11,
   "id": "b9a3ed39",
   "metadata": {},
   "outputs": [
    {
     "data": {
      "text/html": [
       "<div>\n",
       "<style scoped>\n",
       "    .dataframe tbody tr th:only-of-type {\n",
       "        vertical-align: middle;\n",
       "    }\n",
       "\n",
       "    .dataframe tbody tr th {\n",
       "        vertical-align: top;\n",
       "    }\n",
       "\n",
       "    .dataframe thead th {\n",
       "        text-align: right;\n",
       "    }\n",
       "</style>\n",
       "<table border=\"1\" class=\"dataframe\">\n",
       "  <thead>\n",
       "    <tr style=\"text-align: right;\">\n",
       "      <th></th>\n",
       "      <th>Quarter</th>\n",
       "      <th>Sales</th>\n",
       "      <th>Quarters</th>\n",
       "      <th>t</th>\n",
       "      <th>t_square</th>\n",
       "      <th>log_Sales</th>\n",
       "    </tr>\n",
       "  </thead>\n",
       "  <tbody>\n",
       "    <tr>\n",
       "      <th>0</th>\n",
       "      <td>Q1_86</td>\n",
       "      <td>1734.827000</td>\n",
       "      <td>Q1</td>\n",
       "      <td>1</td>\n",
       "      <td>1</td>\n",
       "      <td>7.458663</td>\n",
       "    </tr>\n",
       "    <tr>\n",
       "      <th>1</th>\n",
       "      <td>Q2_86</td>\n",
       "      <td>2244.960999</td>\n",
       "      <td>Q2</td>\n",
       "      <td>2</td>\n",
       "      <td>4</td>\n",
       "      <td>7.716443</td>\n",
       "    </tr>\n",
       "    <tr>\n",
       "      <th>2</th>\n",
       "      <td>Q3_86</td>\n",
       "      <td>2533.804993</td>\n",
       "      <td>Q3</td>\n",
       "      <td>3</td>\n",
       "      <td>9</td>\n",
       "      <td>7.837477</td>\n",
       "    </tr>\n",
       "    <tr>\n",
       "      <th>3</th>\n",
       "      <td>Q4_86</td>\n",
       "      <td>2154.962997</td>\n",
       "      <td>Q4</td>\n",
       "      <td>4</td>\n",
       "      <td>16</td>\n",
       "      <td>7.675529</td>\n",
       "    </tr>\n",
       "    <tr>\n",
       "      <th>4</th>\n",
       "      <td>Q1_87</td>\n",
       "      <td>1547.818996</td>\n",
       "      <td>Q1</td>\n",
       "      <td>5</td>\n",
       "      <td>25</td>\n",
       "      <td>7.344602</td>\n",
       "    </tr>\n",
       "  </tbody>\n",
       "</table>\n",
       "</div>"
      ],
      "text/plain": [
       "  Quarter        Sales Quarters  t  t_square  log_Sales\n",
       "0   Q1_86  1734.827000       Q1  1         1   7.458663\n",
       "1   Q2_86  2244.960999       Q2  2         4   7.716443\n",
       "2   Q3_86  2533.804993       Q3  3         9   7.837477\n",
       "3   Q4_86  2154.962997       Q4  4        16   7.675529\n",
       "4   Q1_87  1547.818996       Q1  5        25   7.344602"
      ]
     },
     "execution_count": 11,
     "metadata": {},
     "output_type": "execute_result"
    }
   ],
   "source": [
    "df[\"t\"] = np.arange(1,43)\n",
    "df[\"t_square\"] = df[\"t\"] * df[\"t\"]\n",
    "df[\"log_Sales\"] = np.log(df[\"Sales\"])\n",
    "df.head(5)"
   ]
  },
  {
   "cell_type": "markdown",
   "id": "ce0d8741",
   "metadata": {},
   "source": [
    "Creating dummy variables of the months variable. "
   ]
  },
  {
   "cell_type": "code",
   "execution_count": 12,
   "id": "86e3842f",
   "metadata": {},
   "outputs": [
    {
     "data": {
      "text/html": [
       "<div>\n",
       "<style scoped>\n",
       "    .dataframe tbody tr th:only-of-type {\n",
       "        vertical-align: middle;\n",
       "    }\n",
       "\n",
       "    .dataframe tbody tr th {\n",
       "        vertical-align: top;\n",
       "    }\n",
       "\n",
       "    .dataframe thead th {\n",
       "        text-align: right;\n",
       "    }\n",
       "</style>\n",
       "<table border=\"1\" class=\"dataframe\">\n",
       "  <thead>\n",
       "    <tr style=\"text-align: right;\">\n",
       "      <th></th>\n",
       "      <th>Quarter</th>\n",
       "      <th>Sales</th>\n",
       "      <th>Quarters</th>\n",
       "      <th>t</th>\n",
       "      <th>t_square</th>\n",
       "      <th>log_Sales</th>\n",
       "      <th>Q1</th>\n",
       "      <th>Q2</th>\n",
       "      <th>Q3</th>\n",
       "      <th>Q4</th>\n",
       "    </tr>\n",
       "  </thead>\n",
       "  <tbody>\n",
       "    <tr>\n",
       "      <th>0</th>\n",
       "      <td>Q1_86</td>\n",
       "      <td>1734.827000</td>\n",
       "      <td>Q1</td>\n",
       "      <td>1</td>\n",
       "      <td>1</td>\n",
       "      <td>7.458663</td>\n",
       "      <td>1</td>\n",
       "      <td>0</td>\n",
       "      <td>0</td>\n",
       "      <td>0</td>\n",
       "    </tr>\n",
       "    <tr>\n",
       "      <th>1</th>\n",
       "      <td>Q2_86</td>\n",
       "      <td>2244.960999</td>\n",
       "      <td>Q2</td>\n",
       "      <td>2</td>\n",
       "      <td>4</td>\n",
       "      <td>7.716443</td>\n",
       "      <td>0</td>\n",
       "      <td>1</td>\n",
       "      <td>0</td>\n",
       "      <td>0</td>\n",
       "    </tr>\n",
       "    <tr>\n",
       "      <th>2</th>\n",
       "      <td>Q3_86</td>\n",
       "      <td>2533.804993</td>\n",
       "      <td>Q3</td>\n",
       "      <td>3</td>\n",
       "      <td>9</td>\n",
       "      <td>7.837477</td>\n",
       "      <td>0</td>\n",
       "      <td>0</td>\n",
       "      <td>1</td>\n",
       "      <td>0</td>\n",
       "    </tr>\n",
       "    <tr>\n",
       "      <th>3</th>\n",
       "      <td>Q4_86</td>\n",
       "      <td>2154.962997</td>\n",
       "      <td>Q4</td>\n",
       "      <td>4</td>\n",
       "      <td>16</td>\n",
       "      <td>7.675529</td>\n",
       "      <td>0</td>\n",
       "      <td>0</td>\n",
       "      <td>0</td>\n",
       "      <td>1</td>\n",
       "    </tr>\n",
       "    <tr>\n",
       "      <th>4</th>\n",
       "      <td>Q1_87</td>\n",
       "      <td>1547.818996</td>\n",
       "      <td>Q1</td>\n",
       "      <td>5</td>\n",
       "      <td>25</td>\n",
       "      <td>7.344602</td>\n",
       "      <td>1</td>\n",
       "      <td>0</td>\n",
       "      <td>0</td>\n",
       "      <td>0</td>\n",
       "    </tr>\n",
       "  </tbody>\n",
       "</table>\n",
       "</div>"
      ],
      "text/plain": [
       "  Quarter        Sales Quarters  t  t_square  log_Sales  Q1  Q2  Q3  Q4\n",
       "0   Q1_86  1734.827000       Q1  1         1   7.458663   1   0   0   0\n",
       "1   Q2_86  2244.960999       Q2  2         4   7.716443   0   1   0   0\n",
       "2   Q3_86  2533.804993       Q3  3         9   7.837477   0   0   1   0\n",
       "3   Q4_86  2154.962997       Q4  4        16   7.675529   0   0   0   1\n",
       "4   Q1_87  1547.818996       Q1  5        25   7.344602   1   0   0   0"
      ]
     },
     "execution_count": 12,
     "metadata": {},
     "output_type": "execute_result"
    }
   ],
   "source": [
    "Quarter_dummies = pd.DataFrame(pd.get_dummies(df['Quarters']))\n",
    "df1 = pd.concat([df, Quarter_dummies], axis = 1)\n",
    "df1.head(5)"
   ]
  },
  {
   "cell_type": "markdown",
   "id": "cb973715",
   "metadata": {},
   "source": [
    "Creating a new dataframe which would be used to forecast the data for the next 2 Years(8 Quarters). "
   ]
  },
  {
   "cell_type": "code",
   "execution_count": 13,
   "id": "340981e8",
   "metadata": {},
   "outputs": [
    {
     "name": "stderr",
     "output_type": "stream",
     "text": [
      "C:\\Users\\lenny\\AppData\\Local\\Temp\\ipykernel_25304\\2990217688.py:2: SettingWithCopyWarning: \n",
      "A value is trying to be set on a copy of a slice from a DataFrame\n",
      "\n",
      "See the caveats in the documentation: https://pandas.pydata.org/pandas-docs/stable/user_guide/indexing.html#returning-a-view-versus-a-copy\n",
      "  df_new.drop(['Quarter','Sales','Quarters','t','t_square','log_Sales'],axis=1,inplace=True)\n",
      "C:\\Users\\lenny\\AppData\\Local\\Temp\\ipykernel_25304\\2990217688.py:3: SettingWithCopyWarning: \n",
      "A value is trying to be set on a copy of a slice from a DataFrame.\n",
      "Try using .loc[row_indexer,col_indexer] = value instead\n",
      "\n",
      "See the caveats in the documentation: https://pandas.pydata.org/pandas-docs/stable/user_guide/indexing.html#returning-a-view-versus-a-copy\n",
      "  df_new[\"t\"] = np.arange(43,51)\n",
      "C:\\Users\\lenny\\AppData\\Local\\Temp\\ipykernel_25304\\2990217688.py:4: SettingWithCopyWarning: \n",
      "A value is trying to be set on a copy of a slice from a DataFrame.\n",
      "Try using .loc[row_indexer,col_indexer] = value instead\n",
      "\n",
      "See the caveats in the documentation: https://pandas.pydata.org/pandas-docs/stable/user_guide/indexing.html#returning-a-view-versus-a-copy\n",
      "  df_new[\"t_square\"] = df_new[\"t\"] * df_new[\"t\"]\n"
     ]
    },
    {
     "data": {
      "text/html": [
       "<div>\n",
       "<style scoped>\n",
       "    .dataframe tbody tr th:only-of-type {\n",
       "        vertical-align: middle;\n",
       "    }\n",
       "\n",
       "    .dataframe tbody tr th {\n",
       "        vertical-align: top;\n",
       "    }\n",
       "\n",
       "    .dataframe thead th {\n",
       "        text-align: right;\n",
       "    }\n",
       "</style>\n",
       "<table border=\"1\" class=\"dataframe\">\n",
       "  <thead>\n",
       "    <tr style=\"text-align: right;\">\n",
       "      <th></th>\n",
       "      <th>Q1</th>\n",
       "      <th>Q2</th>\n",
       "      <th>Q3</th>\n",
       "      <th>Q4</th>\n",
       "      <th>t</th>\n",
       "      <th>t_square</th>\n",
       "    </tr>\n",
       "  </thead>\n",
       "  <tbody>\n",
       "    <tr>\n",
       "      <th>0</th>\n",
       "      <td>0</td>\n",
       "      <td>0</td>\n",
       "      <td>1</td>\n",
       "      <td>0</td>\n",
       "      <td>43</td>\n",
       "      <td>1849</td>\n",
       "    </tr>\n",
       "    <tr>\n",
       "      <th>1</th>\n",
       "      <td>0</td>\n",
       "      <td>0</td>\n",
       "      <td>0</td>\n",
       "      <td>1</td>\n",
       "      <td>44</td>\n",
       "      <td>1936</td>\n",
       "    </tr>\n",
       "    <tr>\n",
       "      <th>2</th>\n",
       "      <td>1</td>\n",
       "      <td>0</td>\n",
       "      <td>0</td>\n",
       "      <td>0</td>\n",
       "      <td>45</td>\n",
       "      <td>2025</td>\n",
       "    </tr>\n",
       "    <tr>\n",
       "      <th>3</th>\n",
       "      <td>0</td>\n",
       "      <td>1</td>\n",
       "      <td>0</td>\n",
       "      <td>0</td>\n",
       "      <td>46</td>\n",
       "      <td>2116</td>\n",
       "    </tr>\n",
       "    <tr>\n",
       "      <th>4</th>\n",
       "      <td>0</td>\n",
       "      <td>0</td>\n",
       "      <td>1</td>\n",
       "      <td>0</td>\n",
       "      <td>47</td>\n",
       "      <td>2209</td>\n",
       "    </tr>\n",
       "  </tbody>\n",
       "</table>\n",
       "</div>"
      ],
      "text/plain": [
       "   Q1  Q2  Q3  Q4   t  t_square\n",
       "0   0   0   1   0  43      1849\n",
       "1   0   0   0   1  44      1936\n",
       "2   1   0   0   0  45      2025\n",
       "3   0   1   0   0  46      2116\n",
       "4   0   0   1   0  47      2209"
      ]
     },
     "execution_count": 13,
     "metadata": {},
     "output_type": "execute_result"
    }
   ],
   "source": [
    "df_new = df1.iloc[2:10,:] \n",
    "df_new.drop(['Quarter','Sales','Quarters','t','t_square','log_Sales'],axis=1,inplace=True)\n",
    "df_new[\"t\"] = np.arange(43,51)\n",
    "df_new[\"t_square\"] = df_new[\"t\"] * df_new[\"t\"]\n",
    "df_new.reset_index(drop=True, inplace=True)\n",
    "df_new.head()"
   ]
  },
  {
   "cell_type": "markdown",
   "id": "e4f59d83",
   "metadata": {},
   "source": [
    "### VISUALIZATION - TIME PLOT\n",
    "Plotting the time plot. "
   ]
  },
  {
   "cell_type": "code",
   "execution_count": 14,
   "id": "1eb6849a",
   "metadata": {},
   "outputs": [
    {
     "data": {
      "image/png": "[encoded data removed]",
      "text/plain": [
       "<Figure size 1080x576 with 1 Axes>"
      ]
     },
     "metadata": {
      "needs_background": "light"
     },
     "output_type": "display_data"
    }
   ],
   "source": [
    "plt.figure(figsize=(15,8))\n",
    "df1.Sales.plot()\n",
    "plt.title(\"TIME PLOT\")\n",
    "plt.show()"
   ]
  },
  {
   "cell_type": "markdown",
   "id": "b77c1d63",
   "metadata": {},
   "source": [
    "From the above plot we can see that it has level , an upward Trend and Seasonality is present. "
   ]
  },
  {
   "cell_type": "markdown",
   "id": "95d916a4",
   "metadata": {},
   "source": [
    "### DATA PARTITION\n",
    "Partioning the data into train and test data. "
   ]
  },
  {
   "cell_type": "code",
   "execution_count": 15,
   "id": "0cb988e1",
   "metadata": {},
   "outputs": [],
   "source": [
    "Train = df1.head(34)\n",
    "Test = df1.tail(8)"
   ]
  },
  {
   "cell_type": "markdown",
   "id": "25f6691c",
   "metadata": {},
   "source": [
    "### MODEL BUILDING"
   ]
  },
  {
   "cell_type": "markdown",
   "id": "a8945f9c",
   "metadata": {},
   "source": [
    "__TESTING DIFFERENT MODELS__"
   ]
  },
  {
   "cell_type": "markdown",
   "id": "386cbde0",
   "metadata": {},
   "source": [
    "Importing the library required for building the model."
   ]
  },
  {
   "cell_type": "code",
   "execution_count": 16,
   "id": "832c9dd7",
   "metadata": {},
   "outputs": [],
   "source": [
    "import statsmodels.formula.api as smf "
   ]
  },
  {
   "cell_type": "markdown",
   "id": "d7e401d7",
   "metadata": {},
   "source": [
    "__Linear Model__"
   ]
  },
  {
   "cell_type": "code",
   "execution_count": 17,
   "id": "cf7c8bce",
   "metadata": {},
   "outputs": [
    {
     "data": {
      "text/plain": [
       "720.6137817965251"
      ]
     },
     "execution_count": 17,
     "metadata": {},
     "output_type": "execute_result"
    }
   ],
   "source": [
    "linear_model = smf.ols('Sales ~ t', data = Train).fit()\n",
    "pred_linear =  pd.Series(linear_model.predict(pd.DataFrame(Test['t'])))\n",
    "rmse_linear = np.sqrt(np.mean((np.array(Test['Sales']) - np.array(pred_linear))**2))\n",
    "rmse_linear"
   ]
  },
  {
   "cell_type": "markdown",
   "id": "d3b1e95f",
   "metadata": {},
   "source": [
    "__Exponential Model__"
   ]
  },
  {
   "cell_type": "code",
   "execution_count": 18,
   "id": "a2a00021",
   "metadata": {},
   "outputs": [
    {
     "data": {
      "text/plain": [
       "564.9850937274126"
      ]
     },
     "execution_count": 18,
     "metadata": {},
     "output_type": "execute_result"
    }
   ],
   "source": [
    "Exp = smf.ols('log_Sales ~ t', data = Train).fit()\n",
    "pred_Exp = pd.Series(Exp.predict(pd.DataFrame(Test['t'])))\n",
    "rmse_Exp = np.sqrt(np.mean((np.array(Test['Sales']) - np.array(np.exp(pred_Exp)))**2))\n",
    "rmse_Exp"
   ]
  },
  {
   "cell_type": "markdown",
   "id": "f73084d6",
   "metadata": {},
   "source": [
    "__Quadratic Model__"
   ]
  },
  {
   "cell_type": "code",
   "execution_count": 19,
   "id": "eb963f65",
   "metadata": {},
   "outputs": [
    {
     "data": {
      "text/plain": [
       "437.7455637558593"
      ]
     },
     "execution_count": 19,
     "metadata": {},
     "output_type": "execute_result"
    }
   ],
   "source": [
    "Quad = smf.ols('Sales ~ t + t_square', data = Train).fit()\n",
    "pred_Quad = pd.Series(Quad.predict(Test[[\"t\", \"t_square\"]]))\n",
    "rmse_Quad = np.sqrt(np.mean((np.array(Test['Sales']) - np.array(pred_Quad))**2))\n",
    "rmse_Quad"
   ]
  },
  {
   "cell_type": "markdown",
   "id": "d747643e",
   "metadata": {},
   "source": [
    "__Additive Seasonality__"
   ]
  },
  {
   "cell_type": "code",
   "execution_count": 20,
   "id": "2de6d8fa",
   "metadata": {},
   "outputs": [
    {
     "data": {
      "text/plain": [
       "1870.1899069853291"
      ]
     },
     "execution_count": 20,
     "metadata": {},
     "output_type": "execute_result"
    }
   ],
   "source": [
    "add_sea = smf.ols('Sales ~ Q1+Q2+Q3+Q4', data=Train).fit()\n",
    "pred_add_sea = pd.Series(add_sea.predict(Test[['Q1','Q2', 'Q3', 'Q4']]))\n",
    "rmse_add_sea = np.sqrt(np.mean((np.array(Test['Sales']) - np.array(pred_add_sea))**2))\n",
    "rmse_add_sea"
   ]
  },
  {
   "cell_type": "markdown",
   "id": "c2735a68",
   "metadata": {},
   "source": [
    "__Multiplicative Seasonality__"
   ]
  },
  {
   "cell_type": "code",
   "execution_count": 21,
   "id": "b60d2373",
   "metadata": {},
   "outputs": [
    {
     "data": {
      "text/plain": [
       "1940.8042499186547"
      ]
     },
     "execution_count": 21,
     "metadata": {},
     "output_type": "execute_result"
    }
   ],
   "source": [
    "Mul_sea = smf.ols('log_Sales ~ Q1+Q2+Q3+Q4',data = Train).fit()\n",
    "pred_Mult_sea = pd.Series(Mul_sea.predict(Test))\n",
    "rmse_Mult_sea = np.sqrt(np.mean((np.array(Test['Sales']) - np.array(np.exp(pred_Mult_sea)))**2))\n",
    "rmse_Mult_sea"
   ]
  },
  {
   "cell_type": "markdown",
   "id": "67187787",
   "metadata": {},
   "source": [
    "__Additive Seasonality with Linear Trend__"
   ]
  },
  {
   "cell_type": "code",
   "execution_count": 22,
   "id": "f2501977",
   "metadata": {},
   "outputs": [
    {
     "data": {
      "text/plain": [
       "631.8304957862763"
      ]
     },
     "execution_count": 22,
     "metadata": {},
     "output_type": "execute_result"
    }
   ],
   "source": [
    "add_sea_lin = smf.ols('Sales ~ t+Q1+Q2+Q3+Q4',data=Train).fit()\n",
    "pred_add_sea_lin = pd.Series(add_sea_lin.predict(Test[['Q1','Q2', 'Q3', 'Q4','t']]))\n",
    "rmse_add_sea_lin = np.sqrt(np.mean((np.array(Test['Sales'])-np.array(pred_add_sea_lin))**2))\n",
    "rmse_add_sea_lin "
   ]
  },
  {
   "cell_type": "markdown",
   "id": "d2d987aa",
   "metadata": {},
   "source": [
    "__Additive Seasonality with Quadratic Trend__"
   ]
  },
  {
   "cell_type": "code",
   "execution_count": 23,
   "id": "ed487023",
   "metadata": {},
   "outputs": [
    {
     "data": {
      "text/plain": [
       "257.6717256536283"
      ]
     },
     "execution_count": 23,
     "metadata": {},
     "output_type": "execute_result"
    }
   ],
   "source": [
    "add_sea_Quad = smf.ols('Sales ~ t+t_square+Q1+Q2+Q3+Q4',data=Train).fit()\n",
    "pred_add_sea_quad = pd.Series(add_sea_Quad.predict(Test[['Q1','Q2', 'Q3', 'Q4','t','t_square']]))\n",
    "rmse_add_sea_quad = np.sqrt(np.mean((np.array(Test['Sales'])-np.array(pred_add_sea_quad))**2))\n",
    "rmse_add_sea_quad "
   ]
  },
  {
   "cell_type": "markdown",
   "id": "5911b358",
   "metadata": {},
   "source": [
    "__Multiplicative Seasonality with Linear Trend__"
   ]
  },
  {
   "cell_type": "code",
   "execution_count": 24,
   "id": "3f39af9a",
   "metadata": {},
   "outputs": [
    {
     "data": {
      "text/plain": [
       "400.4200458435932"
      ]
     },
     "execution_count": 24,
     "metadata": {},
     "output_type": "execute_result"
    }
   ],
   "source": [
    "Mul_Add_sea = smf.ols('log_Sales ~ t+Q1+Q2+Q3+Q4',data = Train).fit()\n",
    "pred_Mult_add_sea = pd.Series(Mul_Add_sea.predict(Test))\n",
    "rmse_Mult_add_sea = np.sqrt(np.mean((np.array(Test['Sales'])-np.array(np.exp(pred_Mult_add_sea)))**2))\n",
    "rmse_Mult_add_sea "
   ]
  },
  {
   "cell_type": "markdown",
   "id": "98578cc9",
   "metadata": {},
   "source": [
    "__Multiplicative Seasonality with Quadratic Trend__"
   ]
  },
  {
   "cell_type": "code",
   "execution_count": 25,
   "id": "8d286192",
   "metadata": {},
   "outputs": [
    {
     "data": {
      "text/plain": [
       "665.2384815506518"
      ]
     },
     "execution_count": 25,
     "metadata": {},
     "output_type": "execute_result"
    }
   ],
   "source": [
    "Mul_Add_sea_quad = smf.ols('log_Sales ~ t+t_square+Q1+Q2+Q3+Q4',data = Train).fit()\n",
    "pred_Mult_add_sea_quad = pd.Series(Mul_Add_sea_quad.predict(Test))\n",
    "rmse_Mult_add_sea_quad = np.sqrt(np.mean((np.array(Test['Sales'])-np.array(np.exp(pred_Mult_add_sea_quad)))**2))\n",
    "rmse_Mult_add_sea_quad "
   ]
  },
  {
   "cell_type": "markdown",
   "id": "24d6ac2b",
   "metadata": {},
   "source": [
    "__MODEL COMPARISONS__"
   ]
  },
  {
   "cell_type": "code",
   "execution_count": 26,
   "id": "da965cfc",
   "metadata": {},
   "outputs": [
    {
     "data": {
      "text/html": [
       "<div>\n",
       "<style scoped>\n",
       "    .dataframe tbody tr th:only-of-type {\n",
       "        vertical-align: middle;\n",
       "    }\n",
       "\n",
       "    .dataframe tbody tr th {\n",
       "        vertical-align: top;\n",
       "    }\n",
       "\n",
       "    .dataframe thead th {\n",
       "        text-align: right;\n",
       "    }\n",
       "</style>\n",
       "<table border=\"1\" class=\"dataframe\">\n",
       "  <thead>\n",
       "    <tr style=\"text-align: right;\">\n",
       "      <th></th>\n",
       "      <th>MODEL</th>\n",
       "      <th>RMSE_Values</th>\n",
       "    </tr>\n",
       "  </thead>\n",
       "  <tbody>\n",
       "    <tr>\n",
       "      <th>0</th>\n",
       "      <td>Linear Model RMSE</td>\n",
       "      <td>720.613782</td>\n",
       "    </tr>\n",
       "    <tr>\n",
       "      <th>1</th>\n",
       "      <td>Exponential Model RMSE</td>\n",
       "      <td>564.985094</td>\n",
       "    </tr>\n",
       "    <tr>\n",
       "      <th>2</th>\n",
       "      <td>Quadratic Model RMSE</td>\n",
       "      <td>437.745564</td>\n",
       "    </tr>\n",
       "    <tr>\n",
       "      <th>3</th>\n",
       "      <td>Additive Seasonality Model RMSE</td>\n",
       "      <td>1870.189907</td>\n",
       "    </tr>\n",
       "    <tr>\n",
       "      <th>4</th>\n",
       "      <td>Additive Seasonality with Linear Trend RMSE</td>\n",
       "      <td>631.830496</td>\n",
       "    </tr>\n",
       "    <tr>\n",
       "      <th>5</th>\n",
       "      <td>Additive Seasonality with Quadratic Trend RMSE</td>\n",
       "      <td>257.671726</td>\n",
       "    </tr>\n",
       "    <tr>\n",
       "      <th>6</th>\n",
       "      <td>Multiplicative Seasonality Model RMSE</td>\n",
       "      <td>1940.804250</td>\n",
       "    </tr>\n",
       "    <tr>\n",
       "      <th>7</th>\n",
       "      <td>Multiplicative Seasonality with Linear Trend RMSE</td>\n",
       "      <td>400.420046</td>\n",
       "    </tr>\n",
       "    <tr>\n",
       "      <th>8</th>\n",
       "      <td>Multiplicative Seasonality with Quadratic Tren...</td>\n",
       "      <td>665.238482</td>\n",
       "    </tr>\n",
       "  </tbody>\n",
       "</table>\n",
       "</div>"
      ],
      "text/plain": [
       "                                               MODEL  RMSE_Values\n",
       "0                                  Linear Model RMSE   720.613782\n",
       "1                             Exponential Model RMSE   564.985094\n",
       "2                               Quadratic Model RMSE   437.745564\n",
       "3                    Additive Seasonality Model RMSE  1870.189907\n",
       "4        Additive Seasonality with Linear Trend RMSE   631.830496\n",
       "5     Additive Seasonality with Quadratic Trend RMSE   257.671726\n",
       "6              Multiplicative Seasonality Model RMSE  1940.804250\n",
       "7  Multiplicative Seasonality with Linear Trend RMSE   400.420046\n",
       "8  Multiplicative Seasonality with Quadratic Tren...   665.238482"
      ]
     },
     "execution_count": 26,
     "metadata": {},
     "output_type": "execute_result"
    }
   ],
   "source": [
    "data = {\"MODEL\":pd.Series([\"Linear Model RMSE\",\"Exponential Model RMSE\",\"Quadratic Model RMSE\",\"Additive Seasonality Model RMSE\",\"Additive Seasonality with Linear Trend RMSE\",\"Additive Seasonality with Quadratic Trend RMSE\",\"Multiplicative Seasonality Model RMSE\",\"Multiplicative Seasonality with Linear Trend RMSE\",\"Multiplicative Seasonality with Quadratic Trend RMSE\"]),\"RMSE_Values\":pd.Series([rmse_linear,rmse_Exp,rmse_Quad,rmse_add_sea,rmse_add_sea_lin,rmse_add_sea_quad,rmse_Mult_sea,rmse_Mult_add_sea,rmse_Mult_add_sea_quad])}\n",
    "table_rmse = pd.DataFrame(data)\n",
    "table_rmse"
   ]
  },
  {
   "cell_type": "markdown",
   "id": "ee3108d2",
   "metadata": {},
   "source": [
    "On comparison of the different models the Additive Seasonality with Quadratic Trend Model is giving the lowest RMSE value so using this model for Model building"
   ]
  },
  {
   "cell_type": "markdown",
   "id": "82473db2",
   "metadata": {},
   "source": [
    "__BUILDING THE MODEL AND FORECASTING__"
   ]
  },
  {
   "cell_type": "markdown",
   "id": "44e16633",
   "metadata": {},
   "source": [
    "Building the model on the entire dataset. "
   ]
  },
  {
   "cell_type": "code",
   "execution_count": 27,
   "id": "1db17f07",
   "metadata": {},
   "outputs": [],
   "source": [
    "full_model = smf.ols('Sales ~ t+t_square+Q1+Q2+Q3+Q4', data=df1).fit()"
   ]
  },
  {
   "cell_type": "markdown",
   "id": "498c6486",
   "metadata": {},
   "source": [
    "Forecasting the data for the next 8 Quarters using the best model i.e. Additive Seasonality with Quadratic Trend.The forecasted data is stored in the variable 'Sales'."
   ]
  },
  {
   "cell_type": "code",
   "execution_count": 28,
   "id": "b496fb69",
   "metadata": {},
   "outputs": [
    {
     "name": "stderr",
     "output_type": "stream",
     "text": [
      "C:\\Users\\lenny\\AppData\\Local\\Temp\\ipykernel_25304\\2206157295.py:1: SettingWithCopyWarning: \n",
      "A value is trying to be set on a copy of a slice from a DataFrame.\n",
      "Try using .loc[row_indexer,col_indexer] = value instead\n",
      "\n",
      "See the caveats in the documentation: https://pandas.pydata.org/pandas-docs/stable/user_guide/indexing.html#returning-a-view-versus-a-copy\n",
      "  df_new['Sales']=pd.Series(full_model.predict(df_new))\n"
     ]
    },
    {
     "data": {
      "text/html": [
       "<div>\n",
       "<style scoped>\n",
       "    .dataframe tbody tr th:only-of-type {\n",
       "        vertical-align: middle;\n",
       "    }\n",
       "\n",
       "    .dataframe tbody tr th {\n",
       "        vertical-align: top;\n",
       "    }\n",
       "\n",
       "    .dataframe thead th {\n",
       "        text-align: right;\n",
       "    }\n",
       "</style>\n",
       "<table border=\"1\" class=\"dataframe\">\n",
       "  <thead>\n",
       "    <tr style=\"text-align: right;\">\n",
       "      <th></th>\n",
       "      <th>Q1</th>\n",
       "      <th>Q2</th>\n",
       "      <th>Q3</th>\n",
       "      <th>Q4</th>\n",
       "      <th>t</th>\n",
       "      <th>t_square</th>\n",
       "      <th>Sales</th>\n",
       "    </tr>\n",
       "  </thead>\n",
       "  <tbody>\n",
       "    <tr>\n",
       "      <th>0</th>\n",
       "      <td>0</td>\n",
       "      <td>0</td>\n",
       "      <td>1</td>\n",
       "      <td>0</td>\n",
       "      <td>43</td>\n",
       "      <td>1849</td>\n",
       "      <td>5319.754557</td>\n",
       "    </tr>\n",
       "    <tr>\n",
       "      <th>1</th>\n",
       "      <td>0</td>\n",
       "      <td>0</td>\n",
       "      <td>0</td>\n",
       "      <td>1</td>\n",
       "      <td>44</td>\n",
       "      <td>1936</td>\n",
       "      <td>5137.955882</td>\n",
       "    </tr>\n",
       "    <tr>\n",
       "      <th>2</th>\n",
       "      <td>1</td>\n",
       "      <td>0</td>\n",
       "      <td>0</td>\n",
       "      <td>0</td>\n",
       "      <td>45</td>\n",
       "      <td>2025</td>\n",
       "      <td>5069.668337</td>\n",
       "    </tr>\n",
       "    <tr>\n",
       "      <th>3</th>\n",
       "      <td>0</td>\n",
       "      <td>1</td>\n",
       "      <td>0</td>\n",
       "      <td>0</td>\n",
       "      <td>46</td>\n",
       "      <td>2116</td>\n",
       "      <td>5866.186600</td>\n",
       "    </tr>\n",
       "    <tr>\n",
       "      <th>4</th>\n",
       "      <td>0</td>\n",
       "      <td>0</td>\n",
       "      <td>1</td>\n",
       "      <td>0</td>\n",
       "      <td>47</td>\n",
       "      <td>2209</td>\n",
       "      <td>5942.178733</td>\n",
       "    </tr>\n",
       "  </tbody>\n",
       "</table>\n",
       "</div>"
      ],
      "text/plain": [
       "   Q1  Q2  Q3  Q4   t  t_square        Sales\n",
       "0   0   0   1   0  43      1849  5319.754557\n",
       "1   0   0   0   1  44      1936  5137.955882\n",
       "2   1   0   0   0  45      2025  5069.668337\n",
       "3   0   1   0   0  46      2116  5866.186600\n",
       "4   0   0   1   0  47      2209  5942.178733"
      ]
     },
     "execution_count": 28,
     "metadata": {},
     "output_type": "execute_result"
    }
   ],
   "source": [
    "df_new['Sales']=pd.Series(full_model.predict(df_new))\n",
    "df_new.head()"
   ]
  },
  {
   "cell_type": "markdown",
   "id": "9b254d79",
   "metadata": {},
   "source": [
    "The forecasted data is not free from erros so we will calculate the error value of the original dataset and use the auto regression to bring the error's to as low as possible and also forecast the errors for the next 8 Quarters which will then be added to the forecasted data. "
   ]
  },
  {
   "cell_type": "markdown",
   "id": "748b8b5d",
   "metadata": {},
   "source": [
    "Predicting the Passengers variable using the full_model and saving the results into a new variable. "
   ]
  },
  {
   "cell_type": "code",
   "execution_count": 29,
   "id": "8ef8923f",
   "metadata": {},
   "outputs": [
    {
     "data": {
      "text/html": [
       "<div>\n",
       "<style scoped>\n",
       "    .dataframe tbody tr th:only-of-type {\n",
       "        vertical-align: middle;\n",
       "    }\n",
       "\n",
       "    .dataframe tbody tr th {\n",
       "        vertical-align: top;\n",
       "    }\n",
       "\n",
       "    .dataframe thead th {\n",
       "        text-align: right;\n",
       "    }\n",
       "</style>\n",
       "<table border=\"1\" class=\"dataframe\">\n",
       "  <thead>\n",
       "    <tr style=\"text-align: right;\">\n",
       "      <th></th>\n",
       "      <th>Quarter</th>\n",
       "      <th>Sales</th>\n",
       "      <th>Quarters</th>\n",
       "      <th>t</th>\n",
       "      <th>t_square</th>\n",
       "      <th>log_Sales</th>\n",
       "      <th>Q1</th>\n",
       "      <th>Q2</th>\n",
       "      <th>Q3</th>\n",
       "      <th>Q4</th>\n",
       "      <th>Forecasted_Sales1</th>\n",
       "    </tr>\n",
       "  </thead>\n",
       "  <tbody>\n",
       "    <tr>\n",
       "      <th>0</th>\n",
       "      <td>Q1_86</td>\n",
       "      <td>1734.827000</td>\n",
       "      <td>Q1</td>\n",
       "      <td>1</td>\n",
       "      <td>1</td>\n",
       "      <td>7.458663</td>\n",
       "      <td>1</td>\n",
       "      <td>0</td>\n",
       "      <td>0</td>\n",
       "      <td>0</td>\n",
       "      <td>1626.592727</td>\n",
       "    </tr>\n",
       "    <tr>\n",
       "      <th>1</th>\n",
       "      <td>Q2_86</td>\n",
       "      <td>2244.960999</td>\n",
       "      <td>Q2</td>\n",
       "      <td>2</td>\n",
       "      <td>4</td>\n",
       "      <td>7.716443</td>\n",
       "      <td>0</td>\n",
       "      <td>1</td>\n",
       "      <td>0</td>\n",
       "      <td>0</td>\n",
       "      <td>2268.402339</td>\n",
       "    </tr>\n",
       "    <tr>\n",
       "      <th>2</th>\n",
       "      <td>Q3_86</td>\n",
       "      <td>2533.804993</td>\n",
       "      <td>Q3</td>\n",
       "      <td>3</td>\n",
       "      <td>9</td>\n",
       "      <td>7.837477</td>\n",
       "      <td>0</td>\n",
       "      <td>0</td>\n",
       "      <td>1</td>\n",
       "      <td>0</td>\n",
       "      <td>2189.685821</td>\n",
       "    </tr>\n",
       "    <tr>\n",
       "      <th>3</th>\n",
       "      <td>Q4_86</td>\n",
       "      <td>2154.962997</td>\n",
       "      <td>Q4</td>\n",
       "      <td>4</td>\n",
       "      <td>16</td>\n",
       "      <td>7.675529</td>\n",
       "      <td>0</td>\n",
       "      <td>0</td>\n",
       "      <td>0</td>\n",
       "      <td>1</td>\n",
       "      <td>1867.242917</td>\n",
       "    </tr>\n",
       "    <tr>\n",
       "      <th>4</th>\n",
       "      <td>Q1_87</td>\n",
       "      <td>1547.818996</td>\n",
       "      <td>Q1</td>\n",
       "      <td>5</td>\n",
       "      <td>25</td>\n",
       "      <td>7.344602</td>\n",
       "      <td>1</td>\n",
       "      <td>0</td>\n",
       "      <td>0</td>\n",
       "      <td>0</td>\n",
       "      <td>1658.311143</td>\n",
       "    </tr>\n",
       "  </tbody>\n",
       "</table>\n",
       "</div>"
      ],
      "text/plain": [
       "  Quarter        Sales Quarters  t  t_square  log_Sales  Q1  Q2  Q3  Q4  \\\n",
       "0   Q1_86  1734.827000       Q1  1         1   7.458663   1   0   0   0   \n",
       "1   Q2_86  2244.960999       Q2  2         4   7.716443   0   1   0   0   \n",
       "2   Q3_86  2533.804993       Q3  3         9   7.837477   0   0   1   0   \n",
       "3   Q4_86  2154.962997       Q4  4        16   7.675529   0   0   0   1   \n",
       "4   Q1_87  1547.818996       Q1  5        25   7.344602   1   0   0   0   \n",
       "\n",
       "   Forecasted_Sales1  \n",
       "0        1626.592727  \n",
       "1        2268.402339  \n",
       "2        2189.685821  \n",
       "3        1867.242917  \n",
       "4        1658.311143  "
      ]
     },
     "execution_count": 29,
     "metadata": {},
     "output_type": "execute_result"
    }
   ],
   "source": [
    "df1[\"Forecasted_Sales1\"]= pd.Series(full_model.predict(df1))\n",
    "df1.head(5)"
   ]
  },
  {
   "cell_type": "code",
   "execution_count": null,
   "id": "d79adb18",
   "metadata": {},
   "outputs": [],
   "source": []
  },
  {
   "cell_type": "markdown",
   "id": "482e08bd",
   "metadata": {},
   "source": [
    "### AUTOREGRESSION(AR)"
   ]
  },
  {
   "cell_type": "markdown",
   "id": "74923329",
   "metadata": {},
   "source": [
    "Using the autoregression model to reduce the errors, so will calculate the residuals(errors) from best model applied on full data. "
   ]
  },
  {
   "cell_type": "code",
   "execution_count": 30,
   "id": "933de8ca",
   "metadata": {},
   "outputs": [
    {
     "data": {
      "text/plain": [
       "0     108.234273\n",
       "1     -23.441340\n",
       "2     344.119172\n",
       "3     287.720080\n",
       "4    -110.492147\n",
       "5    -209.773183\n",
       "6    -235.170084\n",
       "7      50.592395\n",
       "8     122.762748\n",
       "9    -102.593713\n",
       "10   -237.318037\n",
       "11    -44.494981\n",
       "12     20.082945\n",
       "13   -243.358938\n",
       "14   -331.450687\n",
       "15    -83.783053\n",
       "16     57.265458\n",
       "17    -49.771846\n",
       "18     26.132979\n",
       "19     55.574188\n",
       "20    133.212275\n",
       "21    -20.370455\n",
       "22    120.616951\n",
       "23     79.622742\n",
       "24    111.231402\n",
       "25    163.035254\n",
       "26    115.365234\n",
       "27     89.281593\n",
       "28     25.966837\n",
       "29    128.706266\n",
       "30   -161.028177\n",
       "31   -193.036233\n",
       "32   -103.555419\n",
       "33    132.119586\n",
       "34    217.320721\n",
       "35    -16.751758\n",
       "36    -83.335367\n",
       "37    230.275216\n",
       "38    141.411928\n",
       "39   -224.724974\n",
       "40   -281.373006\n",
       "41     -4.826846\n",
       "dtype: float64"
      ]
     },
     "execution_count": 30,
     "metadata": {},
     "output_type": "execute_result"
    }
   ],
   "source": [
    "Residuals1 = df1.Sales - df1.Forecasted_Sales1\n",
    "Residuals1"
   ]
  },
  {
   "cell_type": "markdown",
   "id": "f505c9bb",
   "metadata": {},
   "source": [
    "Importing the library required to plot the ACF and PACF plots."
   ]
  },
  {
   "cell_type": "code",
   "execution_count": 31,
   "id": "dd6b1943",
   "metadata": {},
   "outputs": [],
   "source": [
    "import statsmodels.graphics.tsaplots as tsa_plots"
   ]
  },
  {
   "cell_type": "markdown",
   "id": "d84d023e",
   "metadata": {},
   "source": [
    "Plotting the ACF plot."
   ]
  },
  {
   "cell_type": "code",
   "execution_count": 32,
   "id": "d126378d",
   "metadata": {},
   "outputs": [
    {
     "data": {
      "text/plain": [
       "<Figure size 1800x1296 with 0 Axes>"
      ]
     },
     "metadata": {},
     "output_type": "display_data"
    },
    {
     "data": {
      "image/png": "[encoded data removed]",
      "text/plain": [
       "<Figure size 432x288 with 1 Axes>"
      ]
     },
     "metadata": {
      "needs_background": "light"
     },
     "output_type": "display_data"
    }
   ],
   "source": [
    "plt.figure(figsize=(25,18))\n",
    "tsa_plots.plot_acf(Residuals1, lags = 12)\n",
    "plt.title(\"ACF PLOT\")\n",
    "plt.show()"
   ]
  },
  {
   "cell_type": "markdown",
   "id": "a98fb60d",
   "metadata": {},
   "source": [
    "Plotting the PACF plot. "
   ]
  },
  {
   "cell_type": "code",
   "execution_count": 33,
   "id": "92eb4508",
   "metadata": {},
   "outputs": [
    {
     "name": "stderr",
     "output_type": "stream",
     "text": [
      "C:\\Users\\lenny\\anaconda3\\lib\\site-packages\\statsmodels\\graphics\\tsaplots.py:348: FutureWarning: The default method 'yw' can produce PACF values outside of the [-1,1] interval. After 0.13, the default will change tounadjusted Yule-Walker ('ywm'). You can use this method now by setting method='ywm'.\n",
      "  warnings.warn(\n"
     ]
    },
    {
     "data": {
      "text/plain": [
       "<Figure size 1080x576 with 0 Axes>"
      ]
     },
     "metadata": {},
     "output_type": "display_data"
    },
    {
     "data": {
      "image/png": "[encoded data removed]",
      "text/plain": [
       "<Figure size 432x288 with 1 Axes>"
      ]
     },
     "metadata": {
      "needs_background": "light"
     },
     "output_type": "display_data"
    }
   ],
   "source": [
    "plt.figure(figsize=(15,8))\n",
    "tsa_plots.plot_pacf(Residuals1, lags = 12)\n",
    "plt.title(\"PACF PLOT\")\n",
    "plt.show()"
   ]
  },
  {
   "cell_type": "markdown",
   "id": "ca9114c2",
   "metadata": {},
   "source": [
    "From the acf and pacf plot we can see that lag1 is the best option. "
   ]
  },
  {
   "cell_type": "markdown",
   "id": "05715678",
   "metadata": {},
   "source": [
    "Importing the library required to build the AR model."
   ]
  },
  {
   "cell_type": "code",
   "execution_count": 34,
   "id": "ead962dd",
   "metadata": {},
   "outputs": [],
   "source": [
    "from statsmodels.tsa.ar_model import AutoReg"
   ]
  },
  {
   "cell_type": "markdown",
   "id": "d00d98e9",
   "metadata": {},
   "source": [
    "Building the model on the first set of residuals obtained from the Additive seasonality with quadratic trend model. "
   ]
  },
  {
   "cell_type": "code",
   "execution_count": 35,
   "id": "2866021e",
   "metadata": {},
   "outputs": [],
   "source": [
    "model_ar = AutoReg(Residuals1, lags=[1])"
   ]
  },
  {
   "cell_type": "markdown",
   "id": "338b20bb",
   "metadata": {},
   "source": [
    "Fitting the model. "
   ]
  },
  {
   "cell_type": "code",
   "execution_count": 36,
   "id": "bfc7e6b5",
   "metadata": {},
   "outputs": [],
   "source": [
    "model_fit = model_ar.fit()"
   ]
  },
  {
   "cell_type": "markdown",
   "id": "aa3f3803",
   "metadata": {},
   "source": [
    "Checking the coefficients of the model. "
   ]
  },
  {
   "cell_type": "code",
   "execution_count": 37,
   "id": "644bb679",
   "metadata": {},
   "outputs": [
    {
     "name": "stdout",
     "output_type": "stream",
     "text": [
      "Coefficients: const   -2.684606\n",
      "y.L1     0.380074\n",
      "dtype: float64\n"
     ]
    }
   ],
   "source": [
    "print('Coefficients: %s' % model_fit.params)"
   ]
  },
  {
   "cell_type": "markdown",
   "id": "8357db6c",
   "metadata": {},
   "source": [
    "Predicting the errors using the autoregression model. "
   ]
  },
  {
   "cell_type": "code",
   "execution_count": 38,
   "id": "2b60b041",
   "metadata": {},
   "outputs": [
    {
     "data": {
      "text/plain": [
       "0            NaN\n",
       "1      38.452377\n",
       "2     -11.594039\n",
       "3     128.105984\n",
       "4     106.670182\n",
       "5     -44.679746\n",
       "6     -82.413841\n",
       "7     -92.066531\n",
       "8      16.544225\n",
       "9      43.974266\n",
       "10    -41.677761\n",
       "11    -92.882911\n",
       "12    -19.595970\n",
       "13      4.948390\n",
       "14    -95.178897\n",
       "15   -128.660240\n",
       "16    -34.528326\n",
       "17     19.080479\n",
       "18    -21.601567\n",
       "19      7.247848\n",
       "20     18.437672\n",
       "21     47.945855\n",
       "22    -10.426876\n",
       "23     43.158705\n",
       "24     27.577891\n",
       "25     39.591507\n",
       "26     59.280779\n",
       "27     41.162667\n",
       "28     31.248965\n",
       "29      7.184702\n",
       "30     46.233240\n",
       "31    -63.887154\n",
       "32    -76.052569\n",
       "33    -42.043280\n",
       "34     47.530553\n",
       "35     79.913249\n",
       "36     -9.051505\n",
       "37    -34.358173\n",
       "38     84.836910\n",
       "39     51.062326\n",
       "40    -88.096621\n",
       "41   -109.627038\n",
       "dtype: float64"
      ]
     },
     "execution_count": 38,
     "metadata": {},
     "output_type": "execute_result"
    }
   ],
   "source": [
    "pred_res = model_fit.predict()\n",
    "pred_res.reset_index(drop=True, inplace=True)\n",
    "pred_res"
   ]
  },
  {
   "cell_type": "markdown",
   "id": "cfe16668",
   "metadata": {},
   "source": [
    "The predicted errors are then added to the forecasted data and saved to another variable called forecasted_passenger2."
   ]
  },
  {
   "cell_type": "code",
   "execution_count": 39,
   "id": "217a74fa",
   "metadata": {},
   "outputs": [
    {
     "data": {
      "text/plain": [
       "0             NaN\n",
       "1     2306.854716\n",
       "2     2178.091782\n",
       "3     1995.348902\n",
       "4     1764.981326\n",
       "5     2269.505432\n",
       "6     2167.119243\n",
       "7     1849.088072\n",
       "8     1762.831476\n",
       "9     2460.199975\n",
       "10    2323.960276\n",
       "11    1978.441068\n",
       "12    1870.925081\n",
       "13    2579.472322\n",
       "14    2442.821785\n",
       "15    2129.090808\n",
       "16    2056.484215\n",
       "17    2808.160324\n",
       "18    2745.019452\n",
       "19    2507.683655\n",
       "20    2366.199396\n",
       "21    3107.839305\n",
       "22    3041.072170\n",
       "23    2842.536963\n",
       "24    2688.346489\n",
       "25    3426.556253\n",
       "26    3451.915545\n",
       "27    3195.741066\n",
       "28    3061.282128\n",
       "29    3777.478436\n",
       "30    3836.261416\n",
       "31    3502.149079\n",
       "32    3379.502850\n",
       "33    4167.837134\n",
       "34    4291.209831\n",
       "35    4113.665007\n",
       "36    3928.283861\n",
       "37    4671.366611\n",
       "38    4838.424982\n",
       "39    4608.787300\n",
       "40    4387.276385\n",
       "41    5148.199808\n",
       "dtype: float64"
      ]
     },
     "execution_count": 39,
     "metadata": {},
     "output_type": "execute_result"
    }
   ],
   "source": [
    "Forecasted_Sales2 = df1.Forecasted_Sales1 + pred_res\n",
    "Forecasted_Sales2"
   ]
  },
  {
   "cell_type": "code",
   "execution_count": 40,
   "id": "40ebec06",
   "metadata": {},
   "outputs": [
    {
     "data": {
      "text/html": [
       "<div>\n",
       "<style scoped>\n",
       "    .dataframe tbody tr th:only-of-type {\n",
       "        vertical-align: middle;\n",
       "    }\n",
       "\n",
       "    .dataframe tbody tr th {\n",
       "        vertical-align: top;\n",
       "    }\n",
       "\n",
       "    .dataframe thead th {\n",
       "        text-align: right;\n",
       "    }\n",
       "</style>\n",
       "<table border=\"1\" class=\"dataframe\">\n",
       "  <thead>\n",
       "    <tr style=\"text-align: right;\">\n",
       "      <th></th>\n",
       "      <th>Quarter</th>\n",
       "      <th>Sales</th>\n",
       "      <th>Quarters</th>\n",
       "      <th>t</th>\n",
       "      <th>t_square</th>\n",
       "      <th>log_Sales</th>\n",
       "      <th>Q1</th>\n",
       "      <th>Q2</th>\n",
       "      <th>Q3</th>\n",
       "      <th>Q4</th>\n",
       "      <th>Forecasted_Sales1</th>\n",
       "      <th>Forecasted_Sales2</th>\n",
       "    </tr>\n",
       "  </thead>\n",
       "  <tbody>\n",
       "    <tr>\n",
       "      <th>0</th>\n",
       "      <td>Q1_86</td>\n",
       "      <td>1734.827000</td>\n",
       "      <td>Q1</td>\n",
       "      <td>1</td>\n",
       "      <td>1</td>\n",
       "      <td>7.458663</td>\n",
       "      <td>1</td>\n",
       "      <td>0</td>\n",
       "      <td>0</td>\n",
       "      <td>0</td>\n",
       "      <td>1626.592727</td>\n",
       "      <td>NaN</td>\n",
       "    </tr>\n",
       "    <tr>\n",
       "      <th>1</th>\n",
       "      <td>Q2_86</td>\n",
       "      <td>2244.960999</td>\n",
       "      <td>Q2</td>\n",
       "      <td>2</td>\n",
       "      <td>4</td>\n",
       "      <td>7.716443</td>\n",
       "      <td>0</td>\n",
       "      <td>1</td>\n",
       "      <td>0</td>\n",
       "      <td>0</td>\n",
       "      <td>2268.402339</td>\n",
       "      <td>2306.854716</td>\n",
       "    </tr>\n",
       "    <tr>\n",
       "      <th>2</th>\n",
       "      <td>Q3_86</td>\n",
       "      <td>2533.804993</td>\n",
       "      <td>Q3</td>\n",
       "      <td>3</td>\n",
       "      <td>9</td>\n",
       "      <td>7.837477</td>\n",
       "      <td>0</td>\n",
       "      <td>0</td>\n",
       "      <td>1</td>\n",
       "      <td>0</td>\n",
       "      <td>2189.685821</td>\n",
       "      <td>2178.091782</td>\n",
       "    </tr>\n",
       "    <tr>\n",
       "      <th>3</th>\n",
       "      <td>Q4_86</td>\n",
       "      <td>2154.962997</td>\n",
       "      <td>Q4</td>\n",
       "      <td>4</td>\n",
       "      <td>16</td>\n",
       "      <td>7.675529</td>\n",
       "      <td>0</td>\n",
       "      <td>0</td>\n",
       "      <td>0</td>\n",
       "      <td>1</td>\n",
       "      <td>1867.242917</td>\n",
       "      <td>1995.348902</td>\n",
       "    </tr>\n",
       "    <tr>\n",
       "      <th>4</th>\n",
       "      <td>Q1_87</td>\n",
       "      <td>1547.818996</td>\n",
       "      <td>Q1</td>\n",
       "      <td>5</td>\n",
       "      <td>25</td>\n",
       "      <td>7.344602</td>\n",
       "      <td>1</td>\n",
       "      <td>0</td>\n",
       "      <td>0</td>\n",
       "      <td>0</td>\n",
       "      <td>1658.311143</td>\n",
       "      <td>1764.981326</td>\n",
       "    </tr>\n",
       "  </tbody>\n",
       "</table>\n",
       "</div>"
      ],
      "text/plain": [
       "  Quarter        Sales Quarters  t  t_square  log_Sales  Q1  Q2  Q3  Q4  \\\n",
       "0   Q1_86  1734.827000       Q1  1         1   7.458663   1   0   0   0   \n",
       "1   Q2_86  2244.960999       Q2  2         4   7.716443   0   1   0   0   \n",
       "2   Q3_86  2533.804993       Q3  3         9   7.837477   0   0   1   0   \n",
       "3   Q4_86  2154.962997       Q4  4        16   7.675529   0   0   0   1   \n",
       "4   Q1_87  1547.818996       Q1  5        25   7.344602   1   0   0   0   \n",
       "\n",
       "   Forecasted_Sales1  Forecasted_Sales2  \n",
       "0        1626.592727                NaN  \n",
       "1        2268.402339        2306.854716  \n",
       "2        2189.685821        2178.091782  \n",
       "3        1867.242917        1995.348902  \n",
       "4        1658.311143        1764.981326  "
      ]
     },
     "execution_count": 40,
     "metadata": {},
     "output_type": "execute_result"
    }
   ],
   "source": [
    "df1[\"Forecasted_Sales2\"] = pd.Series(Forecasted_Sales2)\n",
    "df1.head(5)"
   ]
  },
  {
   "cell_type": "markdown",
   "id": "73a1106d",
   "metadata": {},
   "source": [
    "Dropping the nan value from the dataset using the dropna function of the pandas library. "
   ]
  },
  {
   "cell_type": "code",
   "execution_count": 41,
   "id": "5f19433d",
   "metadata": {},
   "outputs": [],
   "source": [
    "df1.dropna(inplace=True)"
   ]
  },
  {
   "cell_type": "markdown",
   "id": "04f7f883",
   "metadata": {},
   "source": [
    "The RMSE value is calculated to check the improvement in the data after filtering the residuals. "
   ]
  },
  {
   "cell_type": "code",
   "execution_count": 42,
   "id": "c5575ca1",
   "metadata": {},
   "outputs": [
    {
     "data": {
      "text/plain": [
       "147.91664320832587"
      ]
     },
     "execution_count": 42,
     "metadata": {},
     "output_type": "execute_result"
    }
   ],
   "source": [
    "rmse1 = np.sqrt(np.mean((np.array(df1[\"Sales\"]) - np.array(df1[\"Forecasted_Sales2\"]))**2))\n",
    "rmse1"
   ]
  },
  {
   "cell_type": "markdown",
   "id": "8e49c507",
   "metadata": {},
   "source": [
    "From the rmse we can see that it is very low which is very helpful in forecasting the data accurately. "
   ]
  },
  {
   "cell_type": "markdown",
   "id": "13d035c9",
   "metadata": {},
   "source": [
    "Predicting the next 8 Quarters error using the same auto regression model. "
   ]
  },
  {
   "cell_type": "code",
   "execution_count": 43,
   "id": "9a7685de",
   "metadata": {},
   "outputs": [
    {
     "data": {
      "text/plain": [
       "0   -109.627038\n",
       "1     -4.519162\n",
       "2     -4.402220\n",
       "3     -4.357773\n",
       "4     -4.340880\n",
       "5     -4.334459\n",
       "6     -4.332019\n",
       "7     -4.331091\n",
       "dtype: float64"
      ]
     },
     "execution_count": 43,
     "metadata": {},
     "output_type": "execute_result"
    }
   ],
   "source": [
    "new_residuals = model_fit.predict(start=len(df1), end=len(df1)+8-1, dynamic=False)\n",
    "new_residuals.reset_index(drop=True, inplace=True)\n",
    "new_residuals"
   ]
  },
  {
   "cell_type": "markdown",
   "id": "cbf9ff50",
   "metadata": {},
   "source": [
    "The predicted errors are added to the passenger variable in the df_new dataset which has the forecasted passenger data. This data is then added as new passenger variable in the same dataframe. "
   ]
  },
  {
   "cell_type": "code",
   "execution_count": 44,
   "id": "4b228ee7",
   "metadata": {},
   "outputs": [
    {
     "data": {
      "text/plain": [
       "0    5210.127519\n",
       "1    5133.436720\n",
       "2    5065.266117\n",
       "3    5861.828827\n",
       "4    5937.837854\n",
       "5    5770.110022\n",
       "6    5715.889340\n",
       "7    6526.472953\n",
       "dtype: float64"
      ]
     },
     "execution_count": 44,
     "metadata": {},
     "output_type": "execute_result"
    }
   ],
   "source": [
    "final_pred = df_new.Sales + new_residuals\n",
    "final_pred"
   ]
  },
  {
   "cell_type": "code",
   "execution_count": 45,
   "id": "7a5c63d8",
   "metadata": {},
   "outputs": [
    {
     "name": "stderr",
     "output_type": "stream",
     "text": [
      "C:\\Users\\lenny\\AppData\\Local\\Temp\\ipykernel_25304\\1648309088.py:1: SettingWithCopyWarning: \n",
      "A value is trying to be set on a copy of a slice from a DataFrame.\n",
      "Try using .loc[row_indexer,col_indexer] = value instead\n",
      "\n",
      "See the caveats in the documentation: https://pandas.pydata.org/pandas-docs/stable/user_guide/indexing.html#returning-a-view-versus-a-copy\n",
      "  df_new['New_Sales']=pd.Series(final_pred)\n"
     ]
    },
    {
     "data": {
      "text/html": [
       "<div>\n",
       "<style scoped>\n",
       "    .dataframe tbody tr th:only-of-type {\n",
       "        vertical-align: middle;\n",
       "    }\n",
       "\n",
       "    .dataframe tbody tr th {\n",
       "        vertical-align: top;\n",
       "    }\n",
       "\n",
       "    .dataframe thead th {\n",
       "        text-align: right;\n",
       "    }\n",
       "</style>\n",
       "<table border=\"1\" class=\"dataframe\">\n",
       "  <thead>\n",
       "    <tr style=\"text-align: right;\">\n",
       "      <th></th>\n",
       "      <th>Q1</th>\n",
       "      <th>Q2</th>\n",
       "      <th>Q3</th>\n",
       "      <th>Q4</th>\n",
       "      <th>t</th>\n",
       "      <th>t_square</th>\n",
       "      <th>Sales</th>\n",
       "      <th>New_Sales</th>\n",
       "    </tr>\n",
       "  </thead>\n",
       "  <tbody>\n",
       "    <tr>\n",
       "      <th>0</th>\n",
       "      <td>0</td>\n",
       "      <td>0</td>\n",
       "      <td>1</td>\n",
       "      <td>0</td>\n",
       "      <td>43</td>\n",
       "      <td>1849</td>\n",
       "      <td>5319.754557</td>\n",
       "      <td>5210.127519</td>\n",
       "    </tr>\n",
       "    <tr>\n",
       "      <th>1</th>\n",
       "      <td>0</td>\n",
       "      <td>0</td>\n",
       "      <td>0</td>\n",
       "      <td>1</td>\n",
       "      <td>44</td>\n",
       "      <td>1936</td>\n",
       "      <td>5137.955882</td>\n",
       "      <td>5133.436720</td>\n",
       "    </tr>\n",
       "    <tr>\n",
       "      <th>2</th>\n",
       "      <td>1</td>\n",
       "      <td>0</td>\n",
       "      <td>0</td>\n",
       "      <td>0</td>\n",
       "      <td>45</td>\n",
       "      <td>2025</td>\n",
       "      <td>5069.668337</td>\n",
       "      <td>5065.266117</td>\n",
       "    </tr>\n",
       "    <tr>\n",
       "      <th>3</th>\n",
       "      <td>0</td>\n",
       "      <td>1</td>\n",
       "      <td>0</td>\n",
       "      <td>0</td>\n",
       "      <td>46</td>\n",
       "      <td>2116</td>\n",
       "      <td>5866.186600</td>\n",
       "      <td>5861.828827</td>\n",
       "    </tr>\n",
       "    <tr>\n",
       "      <th>4</th>\n",
       "      <td>0</td>\n",
       "      <td>0</td>\n",
       "      <td>1</td>\n",
       "      <td>0</td>\n",
       "      <td>47</td>\n",
       "      <td>2209</td>\n",
       "      <td>5942.178733</td>\n",
       "      <td>5937.837854</td>\n",
       "    </tr>\n",
       "  </tbody>\n",
       "</table>\n",
       "</div>"
      ],
      "text/plain": [
       "   Q1  Q2  Q3  Q4   t  t_square        Sales    New_Sales\n",
       "0   0   0   1   0  43      1849  5319.754557  5210.127519\n",
       "1   0   0   0   1  44      1936  5137.955882  5133.436720\n",
       "2   1   0   0   0  45      2025  5069.668337  5065.266117\n",
       "3   0   1   0   0  46      2116  5866.186600  5861.828827\n",
       "4   0   0   1   0  47      2209  5942.178733  5937.837854"
      ]
     },
     "execution_count": 45,
     "metadata": {},
     "output_type": "execute_result"
    }
   ],
   "source": [
    "df_new['New_Sales']=pd.Series(final_pred)\n",
    "df_new.head()"
   ]
  },
  {
   "cell_type": "code",
   "execution_count": null,
   "id": "42221060",
   "metadata": {},
   "outputs": [],
   "source": []
  },
  {
   "cell_type": "markdown",
   "id": "a21d345c",
   "metadata": {},
   "source": [
    "### CONCLUSION"
   ]
  },
  {
   "cell_type": "markdown",
   "id": "0b834251",
   "metadata": {},
   "source": [
    "Thus the next 2 years passenger data is forecasted using both Additive Seasonality Quadratic trend model and AutoRegression(1) model. The various models are checked and their rmse values are also documented. There are total 4 dummy variables used from Q1 to Q4 as the seasonality is 4 as the time series is based on Quarterly data. "
   ]
  },
  {
   "cell_type": "markdown",
   "id": "03218315",
   "metadata": {},
   "source": [
    "From the forecast we can see that there is a signficant in the sales of coco cola. "
   ]
  },
  {
   "cell_type": "code",
   "execution_count": null,
   "id": "31a8d363",
   "metadata": {},
   "outputs": [],
   "source": []
  }
 ],
 "metadata": {
  "kernelspec": {
   "display_name": "Python 3 (ipykernel)",
   "language": "python",
   "name": "python3"
  },
  "language_info": {
   "codemirror_mode": {
    "name": "ipython",
    "version": 3
   },
   "file_extension": ".py",
   "mimetype": "text/x-python",
   "name": "python",
   "nbconvert_exporter": "python",
   "pygments_lexer": "ipython3",
   "version": "3.9.12"
  }
 },
 "nbformat": 4,
 "nbformat_minor": 5
}

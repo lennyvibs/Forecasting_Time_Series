{
 "cells": [
  {
   "cell_type": "markdown",
   "id": "3b87ef03",
   "metadata": {},
   "source": [
    "# SOLAR POWER DATASET\n",
    "Using the above dataset to do time series forecasting."
   ]
  },
  {
   "cell_type": "markdown",
   "id": "862d5061",
   "metadata": {},
   "source": [
    "## BUSINESS OBJECTIVE\n",
    "* Maximize Savings\n",
    "* Minimize Loss\n",
    "* Minimize non renewable energy sources\n",
    "* Maximize renewable energy sources\n",
    "* Maximize Popularity"
   ]
  },
  {
   "cell_type": "markdown",
   "id": "13ec6d84",
   "metadata": {},
   "source": [
    "## CONSTRAINTS\n",
    "* Initial setting cost\n",
    "* Weather\n",
    "* Low sun exposure\n"
   ]
  },
  {
   "cell_type": "markdown",
   "id": "070c9b64",
   "metadata": {},
   "source": [
    "## DATA DICTIONARY"
   ]
  },
  {
   "cell_type": "markdown",
   "id": "1a47d442",
   "metadata": {},
   "source": [
    "| **slno** | **Name of Feature** | **Description**                                                                                                          | **Type** | **Relevance** |\n",
    "|:--------:|:-------------------|:--------------------------------------------------------------------------------------------------------------------------|:--------:|:-------------:|\n",
    "| 1 | date | It gives the date in which the power was noted | Nominal   | Relevant      |\n",
    "| 2 | cum_power | Daily Cumulative power consumption | Ratio   | Relevant      |"
   ]
  },
  {
   "cell_type": "markdown",
   "id": "46e5d637",
   "metadata": {},
   "source": [
    "Importing the required libraries."
   ]
  },
  {
   "cell_type": "code",
   "execution_count": 1,
   "id": "17e87c30",
   "metadata": {},
   "outputs": [],
   "source": [
    "import pandas as pd\n",
    "import numpy as np\n",
    "import matplotlib.pyplot as plt\n",
    "import seaborn as sns\n",
    "from scipy import stats\n",
    "from termcolor import colored"
   ]
  },
  {
   "cell_type": "markdown",
   "id": "e26adb47",
   "metadata": {},
   "source": [
    "Loading the dataset using the pandas library and confirming the dataset has been loaded properly using the 'head' function"
   ]
  },
  {
   "cell_type": "code",
   "execution_count": 2,
   "id": "3fd16244",
   "metadata": {},
   "outputs": [
    {
     "data": {
      "text/html": [
       "<div>\n",
       "<style scoped>\n",
       "    .dataframe tbody tr th:only-of-type {\n",
       "        vertical-align: middle;\n",
       "    }\n",
       "\n",
       "    .dataframe tbody tr th {\n",
       "        vertical-align: top;\n",
       "    }\n",
       "\n",
       "    .dataframe thead th {\n",
       "        text-align: right;\n",
       "    }\n",
       "</style>\n",
       "<table border=\"1\" class=\"dataframe\">\n",
       "  <thead>\n",
       "    <tr style=\"text-align: right;\">\n",
       "      <th></th>\n",
       "      <th>date</th>\n",
       "      <th>cum_power</th>\n",
       "    </tr>\n",
       "  </thead>\n",
       "  <tbody>\n",
       "    <tr>\n",
       "      <th>0</th>\n",
       "      <td>26/10/2011</td>\n",
       "      <td>0.1</td>\n",
       "    </tr>\n",
       "    <tr>\n",
       "      <th>1</th>\n",
       "      <td>27/10/2011</td>\n",
       "      <td>10.2</td>\n",
       "    </tr>\n",
       "    <tr>\n",
       "      <th>2</th>\n",
       "      <td>28/10/2011</td>\n",
       "      <td>20.2</td>\n",
       "    </tr>\n",
       "    <tr>\n",
       "      <th>3</th>\n",
       "      <td>29/10/2011</td>\n",
       "      <td>29.6</td>\n",
       "    </tr>\n",
       "    <tr>\n",
       "      <th>4</th>\n",
       "      <td>30/10/2011</td>\n",
       "      <td>34.2</td>\n",
       "    </tr>\n",
       "  </tbody>\n",
       "</table>\n",
       "</div>"
      ],
      "text/plain": [
       "         date  cum_power\n",
       "0  26/10/2011        0.1\n",
       "1  27/10/2011       10.2\n",
       "2  28/10/2011       20.2\n",
       "3  29/10/2011       29.6\n",
       "4  30/10/2011       34.2"
      ]
     },
     "execution_count": 2,
     "metadata": {},
     "output_type": "execute_result"
    }
   ],
   "source": [
    "df0 = pd.read_csv(r\"D:\\360Digitmg\\ASSIGNMENTS\\Ass28\\solarpower_cumuldaybyday2.csv\")\n",
    "df=df0.copy()\n",
    "df.head()"
   ]
  },
  {
   "cell_type": "markdown",
   "id": "6b969727",
   "metadata": {},
   "source": [
    "### DATA UNDERSTANDING & PREPROCESSING"
   ]
  },
  {
   "cell_type": "markdown",
   "id": "89606ccd",
   "metadata": {},
   "source": [
    "The below three lines give a general idea about the dataset like the shape, type and non null values."
   ]
  },
  {
   "cell_type": "code",
   "execution_count": 3,
   "id": "46c129c5",
   "metadata": {},
   "outputs": [
    {
     "data": {
      "text/plain": [
       "(2558, 2)"
      ]
     },
     "execution_count": 3,
     "metadata": {},
     "output_type": "execute_result"
    }
   ],
   "source": [
    "df.shape"
   ]
  },
  {
   "cell_type": "code",
   "execution_count": 4,
   "id": "16c1f67c",
   "metadata": {},
   "outputs": [
    {
     "data": {
      "text/plain": [
       "date          object\n",
       "cum_power    float64\n",
       "dtype: object"
      ]
     },
     "execution_count": 4,
     "metadata": {},
     "output_type": "execute_result"
    }
   ],
   "source": [
    "df.dtypes"
   ]
  },
  {
   "cell_type": "code",
   "execution_count": 5,
   "id": "414ae339",
   "metadata": {},
   "outputs": [
    {
     "name": "stdout",
     "output_type": "stream",
     "text": [
      "<class 'pandas.core.frame.DataFrame'>\n",
      "RangeIndex: 2558 entries, 0 to 2557\n",
      "Data columns (total 2 columns):\n",
      " #   Column     Non-Null Count  Dtype  \n",
      "---  ------     --------------  -----  \n",
      " 0   date       2558 non-null   object \n",
      " 1   cum_power  2558 non-null   float64\n",
      "dtypes: float64(1), object(1)\n",
      "memory usage: 40.1+ KB\n"
     ]
    }
   ],
   "source": [
    "df.info()"
   ]
  },
  {
   "cell_type": "markdown",
   "id": "78ee999b",
   "metadata": {},
   "source": [
    "The describe function gives the count, min, max, mean, standard deviation and quantile values of the dataset."
   ]
  },
  {
   "cell_type": "code",
   "execution_count": 6,
   "id": "12c467cc",
   "metadata": {},
   "outputs": [
    {
     "data": {
      "text/html": [
       "<div>\n",
       "<style scoped>\n",
       "    .dataframe tbody tr th:only-of-type {\n",
       "        vertical-align: middle;\n",
       "    }\n",
       "\n",
       "    .dataframe tbody tr th {\n",
       "        vertical-align: top;\n",
       "    }\n",
       "\n",
       "    .dataframe thead th {\n",
       "        text-align: right;\n",
       "    }\n",
       "</style>\n",
       "<table border=\"1\" class=\"dataframe\">\n",
       "  <thead>\n",
       "    <tr style=\"text-align: right;\">\n",
       "      <th></th>\n",
       "      <th>cum_power</th>\n",
       "    </tr>\n",
       "  </thead>\n",
       "  <tbody>\n",
       "    <tr>\n",
       "      <th>count</th>\n",
       "      <td>2558.000000</td>\n",
       "    </tr>\n",
       "    <tr>\n",
       "      <th>mean</th>\n",
       "      <td>13461.057349</td>\n",
       "    </tr>\n",
       "    <tr>\n",
       "      <th>std</th>\n",
       "      <td>8129.192104</td>\n",
       "    </tr>\n",
       "    <tr>\n",
       "      <th>min</th>\n",
       "      <td>0.100000</td>\n",
       "    </tr>\n",
       "    <tr>\n",
       "      <th>25%</th>\n",
       "      <td>6665.350000</td>\n",
       "    </tr>\n",
       "    <tr>\n",
       "      <th>50%</th>\n",
       "      <td>13000.500000</td>\n",
       "    </tr>\n",
       "    <tr>\n",
       "      <th>75%</th>\n",
       "      <td>20183.750000</td>\n",
       "    </tr>\n",
       "    <tr>\n",
       "      <th>max</th>\n",
       "      <td>28120.000000</td>\n",
       "    </tr>\n",
       "  </tbody>\n",
       "</table>\n",
       "</div>"
      ],
      "text/plain": [
       "          cum_power\n",
       "count   2558.000000\n",
       "mean   13461.057349\n",
       "std     8129.192104\n",
       "min        0.100000\n",
       "25%     6665.350000\n",
       "50%    13000.500000\n",
       "75%    20183.750000\n",
       "max    28120.000000"
      ]
     },
     "execution_count": 6,
     "metadata": {},
     "output_type": "execute_result"
    }
   ],
   "source": [
    "df.describe()"
   ]
  },
  {
   "cell_type": "markdown",
   "id": "f7717389",
   "metadata": {},
   "source": [
    "Checking the Number of Duplicates in the Dataset."
   ]
  },
  {
   "cell_type": "code",
   "execution_count": 7,
   "id": "7e5d1006",
   "metadata": {},
   "outputs": [
    {
     "name": "stdout",
     "output_type": "stream",
     "text": [
      "\u001b[1m\u001b[34m Number of Duplicate values: \u001b[0m 0\n"
     ]
    }
   ],
   "source": [
    "duplicate_values=df.duplicated(subset=None,keep='first').sum()\n",
    "print(colored(' Number of Duplicate values: ','blue',attrs=['bold']),duplicate_values)"
   ]
  },
  {
   "cell_type": "markdown",
   "id": "596b1b85",
   "metadata": {},
   "source": [
    "Checking the Number and Percentage of Missing Values in the Dataset."
   ]
  },
  {
   "cell_type": "code",
   "execution_count": 8,
   "id": "72d872c0",
   "metadata": {},
   "outputs": [
    {
     "name": "stdout",
     "output_type": "stream",
     "text": [
      "\u001b[1m\u001b[34mNumber of Missing Values\n",
      "\n",
      "\u001b[0m date         0\n",
      "cum_power    0\n",
      "dtype: int64\n"
     ]
    }
   ],
   "source": [
    "missing=df.isna().sum().sort_values(ascending=False)\n",
    "print(colored(\"Number of Missing Values\\n\\n\",'blue',attrs=['bold']),missing)"
   ]
  },
  {
   "cell_type": "markdown",
   "id": "3bc0a7f0",
   "metadata": {},
   "source": [
    "Converting the 'date' column from object datatype to datetime datatype. "
   ]
  },
  {
   "cell_type": "code",
   "execution_count": 9,
   "id": "6bd7dd8f",
   "metadata": {},
   "outputs": [
    {
     "name": "stdout",
     "output_type": "stream",
     "text": [
      "<class 'pandas.core.frame.DataFrame'>\n",
      "RangeIndex: 2558 entries, 0 to 2557\n",
      "Data columns (total 2 columns):\n",
      " #   Column     Non-Null Count  Dtype         \n",
      "---  ------     --------------  -----         \n",
      " 0   date       2558 non-null   datetime64[ns]\n",
      " 1   cum_power  2558 non-null   float64       \n",
      "dtypes: datetime64[ns](1), float64(1)\n",
      "memory usage: 40.1 KB\n"
     ]
    }
   ],
   "source": [
    "df['date']=pd.to_datetime(df['date'],dayfirst=True)\n",
    "df.info()"
   ]
  },
  {
   "cell_type": "markdown",
   "id": "667b84f7",
   "metadata": {},
   "source": [
    "Using the dt.day_name function from pandas to get the day name from the date variable and saving the names to newly created variable called dates"
   ]
  },
  {
   "cell_type": "code",
   "execution_count": 10,
   "id": "e4ad7d34",
   "metadata": {},
   "outputs": [
    {
     "data": {
      "text/html": [
       "<div>\n",
       "<style scoped>\n",
       "    .dataframe tbody tr th:only-of-type {\n",
       "        vertical-align: middle;\n",
       "    }\n",
       "\n",
       "    .dataframe tbody tr th {\n",
       "        vertical-align: top;\n",
       "    }\n",
       "\n",
       "    .dataframe thead th {\n",
       "        text-align: right;\n",
       "    }\n",
       "</style>\n",
       "<table border=\"1\" class=\"dataframe\">\n",
       "  <thead>\n",
       "    <tr style=\"text-align: right;\">\n",
       "      <th></th>\n",
       "      <th>date</th>\n",
       "      <th>cum_power</th>\n",
       "      <th>dates</th>\n",
       "    </tr>\n",
       "  </thead>\n",
       "  <tbody>\n",
       "    <tr>\n",
       "      <th>0</th>\n",
       "      <td>2011-10-26</td>\n",
       "      <td>0.1</td>\n",
       "      <td>Wednesday</td>\n",
       "    </tr>\n",
       "    <tr>\n",
       "      <th>1</th>\n",
       "      <td>2011-10-27</td>\n",
       "      <td>10.2</td>\n",
       "      <td>Thursday</td>\n",
       "    </tr>\n",
       "    <tr>\n",
       "      <th>2</th>\n",
       "      <td>2011-10-28</td>\n",
       "      <td>20.2</td>\n",
       "      <td>Friday</td>\n",
       "    </tr>\n",
       "    <tr>\n",
       "      <th>3</th>\n",
       "      <td>2011-10-29</td>\n",
       "      <td>29.6</td>\n",
       "      <td>Saturday</td>\n",
       "    </tr>\n",
       "    <tr>\n",
       "      <th>4</th>\n",
       "      <td>2011-10-30</td>\n",
       "      <td>34.2</td>\n",
       "      <td>Sunday</td>\n",
       "    </tr>\n",
       "  </tbody>\n",
       "</table>\n",
       "</div>"
      ],
      "text/plain": [
       "        date  cum_power      dates\n",
       "0 2011-10-26        0.1  Wednesday\n",
       "1 2011-10-27       10.2   Thursday\n",
       "2 2011-10-28       20.2     Friday\n",
       "3 2011-10-29       29.6   Saturday\n",
       "4 2011-10-30       34.2     Sunday"
      ]
     },
     "execution_count": 10,
     "metadata": {},
     "output_type": "execute_result"
    }
   ],
   "source": [
    "df['dates'] = df['date'].dt.day_name(locale='English')\n",
    "df.head(5)"
   ]
  },
  {
   "cell_type": "markdown",
   "id": "ef28be3c",
   "metadata": {},
   "source": [
    "Checking the number of unique values in each variable. "
   ]
  },
  {
   "cell_type": "code",
   "execution_count": 11,
   "id": "422f0bc7",
   "metadata": {},
   "outputs": [
    {
     "name": "stdout",
     "output_type": "stream",
     "text": [
      "\u001b[1m\u001b[34mNumber of Unique Values:\n",
      "\n",
      "\u001b[0m date         2558\n",
      "cum_power    2522\n",
      "dates           7\n",
      "dtype: int64\n"
     ]
    }
   ],
   "source": [
    "print(colored('Number of Unique Values:\\n\\n','blue',attrs=['bold']),df.nunique())"
   ]
  },
  {
   "cell_type": "markdown",
   "id": "1b4a3c64",
   "metadata": {},
   "source": [
    "creating a column t for time index , t_square for squared time index & log_cum_power for building exponential model"
   ]
  },
  {
   "cell_type": "code",
   "execution_count": 12,
   "id": "0238d4f3",
   "metadata": {},
   "outputs": [
    {
     "data": {
      "text/html": [
       "<div>\n",
       "<style scoped>\n",
       "    .dataframe tbody tr th:only-of-type {\n",
       "        vertical-align: middle;\n",
       "    }\n",
       "\n",
       "    .dataframe tbody tr th {\n",
       "        vertical-align: top;\n",
       "    }\n",
       "\n",
       "    .dataframe thead th {\n",
       "        text-align: right;\n",
       "    }\n",
       "</style>\n",
       "<table border=\"1\" class=\"dataframe\">\n",
       "  <thead>\n",
       "    <tr style=\"text-align: right;\">\n",
       "      <th></th>\n",
       "      <th>date</th>\n",
       "      <th>cum_power</th>\n",
       "      <th>dates</th>\n",
       "      <th>t</th>\n",
       "      <th>t_square</th>\n",
       "      <th>log_cum_power</th>\n",
       "    </tr>\n",
       "  </thead>\n",
       "  <tbody>\n",
       "    <tr>\n",
       "      <th>0</th>\n",
       "      <td>2011-10-26</td>\n",
       "      <td>0.1</td>\n",
       "      <td>Wednesday</td>\n",
       "      <td>1</td>\n",
       "      <td>1</td>\n",
       "      <td>-2.302585</td>\n",
       "    </tr>\n",
       "    <tr>\n",
       "      <th>1</th>\n",
       "      <td>2011-10-27</td>\n",
       "      <td>10.2</td>\n",
       "      <td>Thursday</td>\n",
       "      <td>2</td>\n",
       "      <td>4</td>\n",
       "      <td>2.322388</td>\n",
       "    </tr>\n",
       "    <tr>\n",
       "      <th>2</th>\n",
       "      <td>2011-10-28</td>\n",
       "      <td>20.2</td>\n",
       "      <td>Friday</td>\n",
       "      <td>3</td>\n",
       "      <td>9</td>\n",
       "      <td>3.005683</td>\n",
       "    </tr>\n",
       "    <tr>\n",
       "      <th>3</th>\n",
       "      <td>2011-10-29</td>\n",
       "      <td>29.6</td>\n",
       "      <td>Saturday</td>\n",
       "      <td>4</td>\n",
       "      <td>16</td>\n",
       "      <td>3.387774</td>\n",
       "    </tr>\n",
       "    <tr>\n",
       "      <th>4</th>\n",
       "      <td>2011-10-30</td>\n",
       "      <td>34.2</td>\n",
       "      <td>Sunday</td>\n",
       "      <td>5</td>\n",
       "      <td>25</td>\n",
       "      <td>3.532226</td>\n",
       "    </tr>\n",
       "  </tbody>\n",
       "</table>\n",
       "</div>"
      ],
      "text/plain": [
       "        date  cum_power      dates  t  t_square  log_cum_power\n",
       "0 2011-10-26        0.1  Wednesday  1         1      -2.302585\n",
       "1 2011-10-27       10.2   Thursday  2         4       2.322388\n",
       "2 2011-10-28       20.2     Friday  3         9       3.005683\n",
       "3 2011-10-29       29.6   Saturday  4        16       3.387774\n",
       "4 2011-10-30       34.2     Sunday  5        25       3.532226"
      ]
     },
     "execution_count": 12,
     "metadata": {},
     "output_type": "execute_result"
    }
   ],
   "source": [
    "df[\"t\"] = np.arange(1,2559)\n",
    "df[\"t_square\"] = df[\"t\"] * df[\"t\"]\n",
    "df[\"log_cum_power\"] = np.log(df[\"cum_power\"])\n",
    "df.head(5)"
   ]
  },
  {
   "cell_type": "markdown",
   "id": "017cd06a",
   "metadata": {},
   "source": [
    "Creating dummy variables of the months variable. "
   ]
  },
  {
   "cell_type": "code",
   "execution_count": 13,
   "id": "63a678c7",
   "metadata": {},
   "outputs": [
    {
     "data": {
      "text/html": [
       "<div>\n",
       "<style scoped>\n",
       "    .dataframe tbody tr th:only-of-type {\n",
       "        vertical-align: middle;\n",
       "    }\n",
       "\n",
       "    .dataframe tbody tr th {\n",
       "        vertical-align: top;\n",
       "    }\n",
       "\n",
       "    .dataframe thead th {\n",
       "        text-align: right;\n",
       "    }\n",
       "</style>\n",
       "<table border=\"1\" class=\"dataframe\">\n",
       "  <thead>\n",
       "    <tr style=\"text-align: right;\">\n",
       "      <th></th>\n",
       "      <th>date</th>\n",
       "      <th>cum_power</th>\n",
       "      <th>dates</th>\n",
       "      <th>t</th>\n",
       "      <th>t_square</th>\n",
       "      <th>log_cum_power</th>\n",
       "      <th>Friday</th>\n",
       "      <th>Monday</th>\n",
       "      <th>Saturday</th>\n",
       "      <th>Sunday</th>\n",
       "      <th>Thursday</th>\n",
       "      <th>Tuesday</th>\n",
       "      <th>Wednesday</th>\n",
       "    </tr>\n",
       "  </thead>\n",
       "  <tbody>\n",
       "    <tr>\n",
       "      <th>0</th>\n",
       "      <td>2011-10-26</td>\n",
       "      <td>0.1</td>\n",
       "      <td>Wednesday</td>\n",
       "      <td>1</td>\n",
       "      <td>1</td>\n",
       "      <td>-2.302585</td>\n",
       "      <td>0</td>\n",
       "      <td>0</td>\n",
       "      <td>0</td>\n",
       "      <td>0</td>\n",
       "      <td>0</td>\n",
       "      <td>0</td>\n",
       "      <td>1</td>\n",
       "    </tr>\n",
       "    <tr>\n",
       "      <th>1</th>\n",
       "      <td>2011-10-27</td>\n",
       "      <td>10.2</td>\n",
       "      <td>Thursday</td>\n",
       "      <td>2</td>\n",
       "      <td>4</td>\n",
       "      <td>2.322388</td>\n",
       "      <td>0</td>\n",
       "      <td>0</td>\n",
       "      <td>0</td>\n",
       "      <td>0</td>\n",
       "      <td>1</td>\n",
       "      <td>0</td>\n",
       "      <td>0</td>\n",
       "    </tr>\n",
       "    <tr>\n",
       "      <th>2</th>\n",
       "      <td>2011-10-28</td>\n",
       "      <td>20.2</td>\n",
       "      <td>Friday</td>\n",
       "      <td>3</td>\n",
       "      <td>9</td>\n",
       "      <td>3.005683</td>\n",
       "      <td>1</td>\n",
       "      <td>0</td>\n",
       "      <td>0</td>\n",
       "      <td>0</td>\n",
       "      <td>0</td>\n",
       "      <td>0</td>\n",
       "      <td>0</td>\n",
       "    </tr>\n",
       "    <tr>\n",
       "      <th>3</th>\n",
       "      <td>2011-10-29</td>\n",
       "      <td>29.6</td>\n",
       "      <td>Saturday</td>\n",
       "      <td>4</td>\n",
       "      <td>16</td>\n",
       "      <td>3.387774</td>\n",
       "      <td>0</td>\n",
       "      <td>0</td>\n",
       "      <td>1</td>\n",
       "      <td>0</td>\n",
       "      <td>0</td>\n",
       "      <td>0</td>\n",
       "      <td>0</td>\n",
       "    </tr>\n",
       "    <tr>\n",
       "      <th>4</th>\n",
       "      <td>2011-10-30</td>\n",
       "      <td>34.2</td>\n",
       "      <td>Sunday</td>\n",
       "      <td>5</td>\n",
       "      <td>25</td>\n",
       "      <td>3.532226</td>\n",
       "      <td>0</td>\n",
       "      <td>0</td>\n",
       "      <td>0</td>\n",
       "      <td>1</td>\n",
       "      <td>0</td>\n",
       "      <td>0</td>\n",
       "      <td>0</td>\n",
       "    </tr>\n",
       "  </tbody>\n",
       "</table>\n",
       "</div>"
      ],
      "text/plain": [
       "        date  cum_power      dates  t  t_square  log_cum_power  Friday  \\\n",
       "0 2011-10-26        0.1  Wednesday  1         1      -2.302585       0   \n",
       "1 2011-10-27       10.2   Thursday  2         4       2.322388       0   \n",
       "2 2011-10-28       20.2     Friday  3         9       3.005683       1   \n",
       "3 2011-10-29       29.6   Saturday  4        16       3.387774       0   \n",
       "4 2011-10-30       34.2     Sunday  5        25       3.532226       0   \n",
       "\n",
       "   Monday  Saturday  Sunday  Thursday  Tuesday  Wednesday  \n",
       "0       0         0       0         0        0          1  \n",
       "1       0         0       0         1        0          0  \n",
       "2       0         0       0         0        0          0  \n",
       "3       0         1       0         0        0          0  \n",
       "4       0         0       1         0        0          0  "
      ]
     },
     "execution_count": 13,
     "metadata": {},
     "output_type": "execute_result"
    }
   ],
   "source": [
    "week_dummies = pd.DataFrame(pd.get_dummies(df['dates']))\n",
    "df1 = pd.concat([df, week_dummies], axis = 1)\n",
    "df1.head(5)"
   ]
  },
  {
   "cell_type": "markdown",
   "id": "86b1d23a",
   "metadata": {},
   "source": [
    "Creating a new dataframe which would be used to forecast the data for the next 1 Years(365 days). "
   ]
  },
  {
   "cell_type": "code",
   "execution_count": 14,
   "id": "a95d346a",
   "metadata": {},
   "outputs": [
    {
     "name": "stderr",
     "output_type": "stream",
     "text": [
      "C:\\Users\\lenny\\AppData\\Local\\Temp\\ipykernel_39136\\3110733958.py:2: SettingWithCopyWarning: \n",
      "A value is trying to be set on a copy of a slice from a DataFrame\n",
      "\n",
      "See the caveats in the documentation: https://pandas.pydata.org/pandas-docs/stable/user_guide/indexing.html#returning-a-view-versus-a-copy\n",
      "  df_new.drop(['date','cum_power','dates','t','t_square','log_cum_power'],axis=1,inplace=True)\n",
      "C:\\Users\\lenny\\AppData\\Local\\Temp\\ipykernel_39136\\3110733958.py:3: SettingWithCopyWarning: \n",
      "A value is trying to be set on a copy of a slice from a DataFrame.\n",
      "Try using .loc[row_indexer,col_indexer] = value instead\n",
      "\n",
      "See the caveats in the documentation: https://pandas.pydata.org/pandas-docs/stable/user_guide/indexing.html#returning-a-view-versus-a-copy\n",
      "  df_new[\"t\"] = np.arange(2559,2924)\n",
      "C:\\Users\\lenny\\AppData\\Local\\Temp\\ipykernel_39136\\3110733958.py:4: SettingWithCopyWarning: \n",
      "A value is trying to be set on a copy of a slice from a DataFrame.\n",
      "Try using .loc[row_indexer,col_indexer] = value instead\n",
      "\n",
      "See the caveats in the documentation: https://pandas.pydata.org/pandas-docs/stable/user_guide/indexing.html#returning-a-view-versus-a-copy\n",
      "  df_new[\"t_square\"] = df_new[\"t\"] * df_new[\"t\"]\n"
     ]
    },
    {
     "data": {
      "text/html": [
       "<div>\n",
       "<style scoped>\n",
       "    .dataframe tbody tr th:only-of-type {\n",
       "        vertical-align: middle;\n",
       "    }\n",
       "\n",
       "    .dataframe tbody tr th {\n",
       "        vertical-align: top;\n",
       "    }\n",
       "\n",
       "    .dataframe thead th {\n",
       "        text-align: right;\n",
       "    }\n",
       "</style>\n",
       "<table border=\"1\" class=\"dataframe\">\n",
       "  <thead>\n",
       "    <tr style=\"text-align: right;\">\n",
       "      <th></th>\n",
       "      <th>Friday</th>\n",
       "      <th>Monday</th>\n",
       "      <th>Saturday</th>\n",
       "      <th>Sunday</th>\n",
       "      <th>Thursday</th>\n",
       "      <th>Tuesday</th>\n",
       "      <th>Wednesday</th>\n",
       "      <th>t</th>\n",
       "      <th>t_square</th>\n",
       "    </tr>\n",
       "  </thead>\n",
       "  <tbody>\n",
       "    <tr>\n",
       "      <th>0</th>\n",
       "      <td>0</td>\n",
       "      <td>1</td>\n",
       "      <td>0</td>\n",
       "      <td>0</td>\n",
       "      <td>0</td>\n",
       "      <td>0</td>\n",
       "      <td>0</td>\n",
       "      <td>2559</td>\n",
       "      <td>6548481</td>\n",
       "    </tr>\n",
       "    <tr>\n",
       "      <th>1</th>\n",
       "      <td>0</td>\n",
       "      <td>0</td>\n",
       "      <td>0</td>\n",
       "      <td>0</td>\n",
       "      <td>0</td>\n",
       "      <td>1</td>\n",
       "      <td>0</td>\n",
       "      <td>2560</td>\n",
       "      <td>6553600</td>\n",
       "    </tr>\n",
       "    <tr>\n",
       "      <th>2</th>\n",
       "      <td>0</td>\n",
       "      <td>0</td>\n",
       "      <td>0</td>\n",
       "      <td>0</td>\n",
       "      <td>0</td>\n",
       "      <td>0</td>\n",
       "      <td>1</td>\n",
       "      <td>2561</td>\n",
       "      <td>6558721</td>\n",
       "    </tr>\n",
       "    <tr>\n",
       "      <th>3</th>\n",
       "      <td>0</td>\n",
       "      <td>0</td>\n",
       "      <td>0</td>\n",
       "      <td>0</td>\n",
       "      <td>1</td>\n",
       "      <td>0</td>\n",
       "      <td>0</td>\n",
       "      <td>2562</td>\n",
       "      <td>6563844</td>\n",
       "    </tr>\n",
       "    <tr>\n",
       "      <th>4</th>\n",
       "      <td>1</td>\n",
       "      <td>0</td>\n",
       "      <td>0</td>\n",
       "      <td>0</td>\n",
       "      <td>0</td>\n",
       "      <td>0</td>\n",
       "      <td>0</td>\n",
       "      <td>2563</td>\n",
       "      <td>6568969</td>\n",
       "    </tr>\n",
       "  </tbody>\n",
       "</table>\n",
       "</div>"
      ],
      "text/plain": [
       "   Friday  Monday  Saturday  Sunday  Thursday  Tuesday  Wednesday     t  \\\n",
       "0       0       1         0       0         0        0          0  2559   \n",
       "1       0       0         0       0         0        1          0  2560   \n",
       "2       0       0         0       0         0        0          1  2561   \n",
       "3       0       0         0       0         1        0          0  2562   \n",
       "4       1       0         0       0         0        0          0  2563   \n",
       "\n",
       "   t_square  \n",
       "0   6548481  \n",
       "1   6553600  \n",
       "2   6558721  \n",
       "3   6563844  \n",
       "4   6568969  "
      ]
     },
     "execution_count": 14,
     "metadata": {},
     "output_type": "execute_result"
    }
   ],
   "source": [
    "df_new = df1.iloc[5:370,:] \n",
    "df_new.drop(['date','cum_power','dates','t','t_square','log_cum_power'],axis=1,inplace=True)\n",
    "df_new[\"t\"] = np.arange(2559,2924)\n",
    "df_new[\"t_square\"] = df_new[\"t\"] * df_new[\"t\"]\n",
    "df_new.reset_index(drop=True, inplace=True)\n",
    "df_new.head()"
   ]
  },
  {
   "cell_type": "markdown",
   "id": "a5ae2e95",
   "metadata": {},
   "source": [
    "### VISUALIZATION - TIME PLOT\n",
    "Plotting the time plot. "
   ]
  },
  {
   "cell_type": "code",
   "execution_count": 15,
   "id": "b5164623",
   "metadata": {},
   "outputs": [
    {
     "data": {
      "image/png": "[encoded data removed]",
      "text/plain": [
       "<Figure size 1080x576 with 1 Axes>"
      ]
     },
     "metadata": {
      "needs_background": "light"
     },
     "output_type": "display_data"
    }
   ],
   "source": [
    "plt.figure(figsize=(15,8))\n",
    "df1.cum_power.plot()\n",
    "plt.title(\"TIME PLOT\")\n",
    "plt.show()"
   ]
  },
  {
   "cell_type": "markdown",
   "id": "c5cbdac1",
   "metadata": {},
   "source": [
    "From the time plot we can see that it has an upwards trend but not sure if seasonality is present. "
   ]
  },
  {
   "cell_type": "markdown",
   "id": "f252e5b4",
   "metadata": {},
   "source": [
    "### DATA PARTITION\n",
    "Partioning the data into train and test data. "
   ]
  },
  {
   "cell_type": "code",
   "execution_count": 16,
   "id": "acacb22f",
   "metadata": {},
   "outputs": [],
   "source": [
    "Train = df1.head(2193)\n",
    "Test = df1.tail(365)"
   ]
  },
  {
   "cell_type": "markdown",
   "id": "25f6691c",
   "metadata": {},
   "source": [
    "### MODEL BUILDING"
   ]
  },
  {
   "cell_type": "markdown",
   "id": "df9d0700",
   "metadata": {},
   "source": [
    "__TESTING DIFFERENT MODELS__"
   ]
  },
  {
   "cell_type": "markdown",
   "id": "d10fe71b",
   "metadata": {},
   "source": [
    "Importing the library required for building the model."
   ]
  },
  {
   "cell_type": "code",
   "execution_count": 17,
   "id": "6b995c64",
   "metadata": {},
   "outputs": [],
   "source": [
    "import statsmodels.formula.api as smf "
   ]
  },
  {
   "cell_type": "markdown",
   "id": "71d37855",
   "metadata": {},
   "source": [
    "__Linear Model__"
   ]
  },
  {
   "cell_type": "code",
   "execution_count": 18,
   "id": "480ff149",
   "metadata": {},
   "outputs": [
    {
     "data": {
      "text/plain": [
       "441.2128945378352"
      ]
     },
     "execution_count": 18,
     "metadata": {},
     "output_type": "execute_result"
    }
   ],
   "source": [
    "linear_model = smf.ols('cum_power ~ t', data = Train).fit()\n",
    "pred_linear =  pd.Series(linear_model.predict(pd.DataFrame(Test['t'])))\n",
    "rmse_linear = np.sqrt(np.mean((np.array(Test['cum_power']) - np.array(pred_linear))**2))\n",
    "rmse_linear"
   ]
  },
  {
   "cell_type": "markdown",
   "id": "5395241e",
   "metadata": {},
   "source": [
    "__Exponential Model__"
   ]
  },
  {
   "cell_type": "code",
   "execution_count": 19,
   "id": "144e3aea",
   "metadata": {},
   "outputs": [
    {
     "data": {
      "text/plain": [
       "37012.42218981048"
      ]
     },
     "execution_count": 19,
     "metadata": {},
     "output_type": "execute_result"
    }
   ],
   "source": [
    "Exp = smf.ols('log_cum_power ~ t', data = Train).fit()\n",
    "pred_Exp = pd.Series(Exp.predict(pd.DataFrame(Test['t'])))\n",
    "rmse_Exp = np.sqrt(np.mean((np.array(Test['cum_power']) - np.array(np.exp(pred_Exp)))**2))\n",
    "rmse_Exp"
   ]
  },
  {
   "cell_type": "markdown",
   "id": "621442f6",
   "metadata": {},
   "source": [
    "__Quadratic Model__"
   ]
  },
  {
   "cell_type": "code",
   "execution_count": 20,
   "id": "60f38c23",
   "metadata": {},
   "outputs": [
    {
     "data": {
      "text/plain": [
       "465.4925167106908"
      ]
     },
     "execution_count": 20,
     "metadata": {},
     "output_type": "execute_result"
    }
   ],
   "source": [
    "Quad = smf.ols('cum_power ~ t + t_square', data = Train).fit()\n",
    "pred_Quad = pd.Series(Quad.predict(Test[[\"t\", \"t_square\"]]))\n",
    "rmse_Quad = np.sqrt(np.mean((np.array(Test['cum_power']) - np.array(pred_Quad))**2))\n",
    "rmse_Quad"
   ]
  },
  {
   "cell_type": "markdown",
   "id": "77b2ac8a",
   "metadata": {},
   "source": [
    "__Additive Seasonality__"
   ]
  },
  {
   "cell_type": "code",
   "execution_count": 21,
   "id": "9b9b26d5",
   "metadata": {},
   "outputs": [
    {
     "data": {
      "text/plain": [
       "14120.44591629301"
      ]
     },
     "execution_count": 21,
     "metadata": {},
     "output_type": "execute_result"
    }
   ],
   "source": [
    "add_sea = smf.ols('cum_power ~ Monday+Tuesday+Wednesday+Thursday+Friday+Saturday+Sunday', data=Train).fit()\n",
    "pred_add_sea = pd.Series(add_sea.predict(Test[['Friday', 'Monday', 'Saturday', 'Sunday', 'Thursday', 'Tuesday','Wednesday']]))\n",
    "rmse_add_sea = np.sqrt(np.mean((np.array(Test['cum_power']) - np.array(pred_add_sea))**2))\n",
    "rmse_add_sea"
   ]
  },
  {
   "cell_type": "markdown",
   "id": "fdbf174e",
   "metadata": {},
   "source": [
    "__Multiplicative Seasonality__"
   ]
  },
  {
   "cell_type": "code",
   "execution_count": 22,
   "id": "aeaf16d5",
   "metadata": {},
   "outputs": [
    {
     "data": {
      "text/plain": [
       "17884.43149320604"
      ]
     },
     "execution_count": 22,
     "metadata": {},
     "output_type": "execute_result"
    }
   ],
   "source": [
    "Mul_sea = smf.ols('log_cum_power ~ Monday+Tuesday+Wednesday+Thursday+Friday+Saturday+Sunday',data = Train).fit()\n",
    "pred_Mult_sea = pd.Series(Mul_sea.predict(Test))\n",
    "rmse_Mult_sea = np.sqrt(np.mean((np.array(Test['cum_power']) - np.array(np.exp(pred_Mult_sea)))**2))\n",
    "rmse_Mult_sea"
   ]
  },
  {
   "cell_type": "markdown",
   "id": "136c36d2",
   "metadata": {},
   "source": [
    "__Additive Seasonality with Linear Trend__"
   ]
  },
  {
   "cell_type": "code",
   "execution_count": 23,
   "id": "6486d850",
   "metadata": {},
   "outputs": [
    {
     "data": {
      "text/plain": [
       "441.212855877306"
      ]
     },
     "execution_count": 23,
     "metadata": {},
     "output_type": "execute_result"
    }
   ],
   "source": [
    "add_sea_lin = smf.ols('cum_power ~ t+Monday+Tuesday+Wednesday+Thursday+Friday+Saturday+Sunday',data=Train).fit()\n",
    "pred_add_sea_lin = pd.Series(add_sea_lin.predict(Test[['Friday', 'Monday', 'Saturday', 'Sunday', 'Thursday', 'Tuesday','Wednesday','t']]))\n",
    "rmse_add_sea_lin = np.sqrt(np.mean((np.array(Test['cum_power'])-np.array(pred_add_sea_lin))**2))\n",
    "rmse_add_sea_lin "
   ]
  },
  {
   "cell_type": "markdown",
   "id": "e7ffdb80",
   "metadata": {},
   "source": [
    "__Additive Seasonality with Quadratic Trend__"
   ]
  },
  {
   "cell_type": "code",
   "execution_count": 24,
   "id": "bd3acb28",
   "metadata": {},
   "outputs": [
    {
     "data": {
      "text/plain": [
       "465.490826563618"
      ]
     },
     "execution_count": 24,
     "metadata": {},
     "output_type": "execute_result"
    }
   ],
   "source": [
    "add_sea_Quad = smf.ols('cum_power ~ t+t_square+Monday+Tuesday+Wednesday+Thursday+Friday+Saturday+Sunday',data=Train).fit()\n",
    "pred_add_sea_quad = pd.Series(add_sea_Quad.predict(Test[['Friday', 'Monday', 'Saturday', 'Sunday', 'Thursday', 'Tuesday','Wednesday','t','t_square']]))\n",
    "rmse_add_sea_quad = np.sqrt(np.mean((np.array(Test['cum_power'])-np.array(pred_add_sea_quad))**2))\n",
    "rmse_add_sea_quad "
   ]
  },
  {
   "cell_type": "markdown",
   "id": "80c499c6",
   "metadata": {},
   "source": [
    "__Multiplicative Seasonality with Linear Trend__"
   ]
  },
  {
   "cell_type": "code",
   "execution_count": 25,
   "id": "fbf466a0",
   "metadata": {},
   "outputs": [
    {
     "data": {
      "text/plain": [
       "37017.526384528304"
      ]
     },
     "execution_count": 25,
     "metadata": {},
     "output_type": "execute_result"
    }
   ],
   "source": [
    "Mul_Add_sea = smf.ols('log_cum_power ~ t+Monday+Tuesday+Wednesday+Thursday+Friday+Saturday+Sunday',data = Train).fit()\n",
    "pred_Mult_add_sea = pd.Series(Mul_Add_sea.predict(Test))\n",
    "rmse_Mult_add_sea = np.sqrt(np.mean((np.array(Test['cum_power'])-np.array(np.exp(pred_Mult_add_sea)))**2))\n",
    "rmse_Mult_add_sea "
   ]
  },
  {
   "cell_type": "markdown",
   "id": "bd079e6b",
   "metadata": {},
   "source": [
    "__Multiplicative Seasonality with Quadratic Trend__"
   ]
  },
  {
   "cell_type": "code",
   "execution_count": 26,
   "id": "a2d77b28",
   "metadata": {},
   "outputs": [
    {
     "data": {
      "text/plain": [
       "15226.33260004625"
      ]
     },
     "execution_count": 26,
     "metadata": {},
     "output_type": "execute_result"
    }
   ],
   "source": [
    "Mul_Add_sea_quad = smf.ols('log_cum_power ~ t+t_square+Monday+Tuesday+Wednesday+Thursday+Friday+Saturday+Sunday',data = Train).fit()\n",
    "pred_Mult_add_sea_quad = pd.Series(Mul_Add_sea_quad.predict(Test))\n",
    "rmse_Mult_add_sea_quad = np.sqrt(np.mean((np.array(Test['cum_power'])-np.array(np.exp(pred_Mult_add_sea_quad)))**2))\n",
    "rmse_Mult_add_sea_quad "
   ]
  },
  {
   "cell_type": "markdown",
   "id": "0fb18b70",
   "metadata": {},
   "source": [
    "__MODEL COMPARISONS__"
   ]
  },
  {
   "cell_type": "code",
   "execution_count": 27,
   "id": "747a2ec6",
   "metadata": {},
   "outputs": [
    {
     "data": {
      "text/html": [
       "<div>\n",
       "<style scoped>\n",
       "    .dataframe tbody tr th:only-of-type {\n",
       "        vertical-align: middle;\n",
       "    }\n",
       "\n",
       "    .dataframe tbody tr th {\n",
       "        vertical-align: top;\n",
       "    }\n",
       "\n",
       "    .dataframe thead th {\n",
       "        text-align: right;\n",
       "    }\n",
       "</style>\n",
       "<table border=\"1\" class=\"dataframe\">\n",
       "  <thead>\n",
       "    <tr style=\"text-align: right;\">\n",
       "      <th></th>\n",
       "      <th>MODEL</th>\n",
       "      <th>RMSE_Values</th>\n",
       "    </tr>\n",
       "  </thead>\n",
       "  <tbody>\n",
       "    <tr>\n",
       "      <th>0</th>\n",
       "      <td>Linear Model RMSE</td>\n",
       "      <td>441.212895</td>\n",
       "    </tr>\n",
       "    <tr>\n",
       "      <th>1</th>\n",
       "      <td>Exponential Model RMSE</td>\n",
       "      <td>37012.422190</td>\n",
       "    </tr>\n",
       "    <tr>\n",
       "      <th>2</th>\n",
       "      <td>Quadratic Model RMSE</td>\n",
       "      <td>465.492517</td>\n",
       "    </tr>\n",
       "    <tr>\n",
       "      <th>3</th>\n",
       "      <td>Additive Seasonality Model RMSE</td>\n",
       "      <td>14120.445916</td>\n",
       "    </tr>\n",
       "    <tr>\n",
       "      <th>4</th>\n",
       "      <td>Additive Seasonality with Linear Trend RMSE</td>\n",
       "      <td>441.212856</td>\n",
       "    </tr>\n",
       "    <tr>\n",
       "      <th>5</th>\n",
       "      <td>Additive Seasonality with Quadratic Trend RMSE</td>\n",
       "      <td>465.490827</td>\n",
       "    </tr>\n",
       "    <tr>\n",
       "      <th>6</th>\n",
       "      <td>Multiplicative Seasonality Model RMSE</td>\n",
       "      <td>17884.431493</td>\n",
       "    </tr>\n",
       "    <tr>\n",
       "      <th>7</th>\n",
       "      <td>Multiplicative Seasonality with Linear Trend RMSE</td>\n",
       "      <td>37017.526385</td>\n",
       "    </tr>\n",
       "    <tr>\n",
       "      <th>8</th>\n",
       "      <td>Multiplicative Seasonality with Quadratic Tren...</td>\n",
       "      <td>15226.332600</td>\n",
       "    </tr>\n",
       "  </tbody>\n",
       "</table>\n",
       "</div>"
      ],
      "text/plain": [
       "                                               MODEL   RMSE_Values\n",
       "0                                  Linear Model RMSE    441.212895\n",
       "1                             Exponential Model RMSE  37012.422190\n",
       "2                               Quadratic Model RMSE    465.492517\n",
       "3                    Additive Seasonality Model RMSE  14120.445916\n",
       "4        Additive Seasonality with Linear Trend RMSE    441.212856\n",
       "5     Additive Seasonality with Quadratic Trend RMSE    465.490827\n",
       "6              Multiplicative Seasonality Model RMSE  17884.431493\n",
       "7  Multiplicative Seasonality with Linear Trend RMSE  37017.526385\n",
       "8  Multiplicative Seasonality with Quadratic Tren...  15226.332600"
      ]
     },
     "execution_count": 27,
     "metadata": {},
     "output_type": "execute_result"
    }
   ],
   "source": [
    "data = {\"MODEL\":pd.Series([\"Linear Model RMSE\",\"Exponential Model RMSE\",\"Quadratic Model RMSE\",\"Additive Seasonality Model RMSE\",\"Additive Seasonality with Linear Trend RMSE\",\"Additive Seasonality with Quadratic Trend RMSE\",\"Multiplicative Seasonality Model RMSE\",\"Multiplicative Seasonality with Linear Trend RMSE\",\"Multiplicative Seasonality with Quadratic Trend RMSE\"]),\"RMSE_Values\":pd.Series([rmse_linear,rmse_Exp,rmse_Quad,rmse_add_sea,rmse_add_sea_lin,rmse_add_sea_quad,rmse_Mult_sea,rmse_Mult_add_sea,rmse_Mult_add_sea_quad])}\n",
    "table_rmse = pd.DataFrame(data)\n",
    "table_rmse"
   ]
  },
  {
   "cell_type": "markdown",
   "id": "8c02e460",
   "metadata": {},
   "source": [
    "On comparison of the different models the Linear and Additive Seasonality with Linear Trend is giving the lowest RMSE value so using the Additive seasonality with Linear trend model for Model building"
   ]
  },
  {
   "cell_type": "markdown",
   "id": "96521d0d",
   "metadata": {},
   "source": [
    "__BUILDING THE MODEL AND FORECASTING__"
   ]
  },
  {
   "cell_type": "markdown",
   "id": "e66a0698",
   "metadata": {},
   "source": [
    "Building the model on the entire dataset. "
   ]
  },
  {
   "cell_type": "code",
   "execution_count": 28,
   "id": "ab50027e",
   "metadata": {},
   "outputs": [],
   "source": [
    "full_model = smf.ols('cum_power ~ t+Monday+Tuesday+Wednesday+Thursday+Friday+Saturday+Sunday', data=df1).fit()"
   ]
  },
  {
   "cell_type": "markdown",
   "id": "10c9d697",
   "metadata": {},
   "source": [
    "Forecasting the data for the next 365 days using the best model i.e. Additive seasonality Linear trend Model.The forecasted data is stored in the variable 'cum_power'."
   ]
  },
  {
   "cell_type": "code",
   "execution_count": 29,
   "id": "ca5e617f",
   "metadata": {},
   "outputs": [
    {
     "name": "stderr",
     "output_type": "stream",
     "text": [
      "C:\\Users\\lenny\\AppData\\Local\\Temp\\ipykernel_39136\\1743704241.py:1: SettingWithCopyWarning: \n",
      "A value is trying to be set on a copy of a slice from a DataFrame.\n",
      "Try using .loc[row_indexer,col_indexer] = value instead\n",
      "\n",
      "See the caveats in the documentation: https://pandas.pydata.org/pandas-docs/stable/user_guide/indexing.html#returning-a-view-versus-a-copy\n",
      "  df_new['cum_power']=pd.Series(full_model.predict(df_new))\n"
     ]
    },
    {
     "data": {
      "text/html": [
       "<div>\n",
       "<style scoped>\n",
       "    .dataframe tbody tr th:only-of-type {\n",
       "        vertical-align: middle;\n",
       "    }\n",
       "\n",
       "    .dataframe tbody tr th {\n",
       "        vertical-align: top;\n",
       "    }\n",
       "\n",
       "    .dataframe thead th {\n",
       "        text-align: right;\n",
       "    }\n",
       "</style>\n",
       "<table border=\"1\" class=\"dataframe\">\n",
       "  <thead>\n",
       "    <tr style=\"text-align: right;\">\n",
       "      <th></th>\n",
       "      <th>Friday</th>\n",
       "      <th>Monday</th>\n",
       "      <th>Saturday</th>\n",
       "      <th>Sunday</th>\n",
       "      <th>Thursday</th>\n",
       "      <th>Tuesday</th>\n",
       "      <th>Wednesday</th>\n",
       "      <th>t</th>\n",
       "      <th>t_square</th>\n",
       "      <th>cum_power</th>\n",
       "    </tr>\n",
       "  </thead>\n",
       "  <tbody>\n",
       "    <tr>\n",
       "      <th>0</th>\n",
       "      <td>0</td>\n",
       "      <td>1</td>\n",
       "      <td>0</td>\n",
       "      <td>0</td>\n",
       "      <td>0</td>\n",
       "      <td>0</td>\n",
       "      <td>0</td>\n",
       "      <td>2559</td>\n",
       "      <td>6548481</td>\n",
       "      <td>27527.109162</td>\n",
       "    </tr>\n",
       "    <tr>\n",
       "      <th>1</th>\n",
       "      <td>0</td>\n",
       "      <td>0</td>\n",
       "      <td>0</td>\n",
       "      <td>0</td>\n",
       "      <td>0</td>\n",
       "      <td>1</td>\n",
       "      <td>0</td>\n",
       "      <td>2560</td>\n",
       "      <td>6553600</td>\n",
       "      <td>27537.940395</td>\n",
       "    </tr>\n",
       "    <tr>\n",
       "      <th>2</th>\n",
       "      <td>0</td>\n",
       "      <td>0</td>\n",
       "      <td>0</td>\n",
       "      <td>0</td>\n",
       "      <td>0</td>\n",
       "      <td>0</td>\n",
       "      <td>1</td>\n",
       "      <td>2561</td>\n",
       "      <td>6558721</td>\n",
       "      <td>27550.366149</td>\n",
       "    </tr>\n",
       "    <tr>\n",
       "      <th>3</th>\n",
       "      <td>0</td>\n",
       "      <td>0</td>\n",
       "      <td>0</td>\n",
       "      <td>0</td>\n",
       "      <td>1</td>\n",
       "      <td>0</td>\n",
       "      <td>0</td>\n",
       "      <td>2562</td>\n",
       "      <td>6563844</td>\n",
       "      <td>27561.588007</td>\n",
       "    </tr>\n",
       "    <tr>\n",
       "      <th>4</th>\n",
       "      <td>1</td>\n",
       "      <td>0</td>\n",
       "      <td>0</td>\n",
       "      <td>0</td>\n",
       "      <td>0</td>\n",
       "      <td>0</td>\n",
       "      <td>0</td>\n",
       "      <td>2563</td>\n",
       "      <td>6568969</td>\n",
       "      <td>27572.850849</td>\n",
       "    </tr>\n",
       "  </tbody>\n",
       "</table>\n",
       "</div>"
      ],
      "text/plain": [
       "   Friday  Monday  Saturday  Sunday  Thursday  Tuesday  Wednesday     t  \\\n",
       "0       0       1         0       0         0        0          0  2559   \n",
       "1       0       0         0       0         0        1          0  2560   \n",
       "2       0       0         0       0         0        0          1  2561   \n",
       "3       0       0         0       0         1        0          0  2562   \n",
       "4       1       0         0       0         0        0          0  2563   \n",
       "\n",
       "   t_square     cum_power  \n",
       "0   6548481  27527.109162  \n",
       "1   6553600  27537.940395  \n",
       "2   6558721  27550.366149  \n",
       "3   6563844  27561.588007  \n",
       "4   6568969  27572.850849  "
      ]
     },
     "execution_count": 29,
     "metadata": {},
     "output_type": "execute_result"
    }
   ],
   "source": [
    "df_new['cum_power']=pd.Series(full_model.predict(df_new))\n",
    "df_new.head()"
   ]
  },
  {
   "cell_type": "markdown",
   "id": "b324938a",
   "metadata": {},
   "source": [
    "The forecasted data is not free from erros so we will calculate the error value of the original dataset and use the auto regression to bring the error's to as low as possible and also forecast the errors for the next 365 days which will then be added to the forecasted data. "
   ]
  },
  {
   "cell_type": "markdown",
   "id": "b8da6326",
   "metadata": {},
   "source": [
    "Predicting the Passengers variable using the full_model and saving the results into a new variable. "
   ]
  },
  {
   "cell_type": "code",
   "execution_count": 30,
   "id": "769c9c98",
   "metadata": {},
   "outputs": [
    {
     "data": {
      "text/html": [
       "<div>\n",
       "<style scoped>\n",
       "    .dataframe tbody tr th:only-of-type {\n",
       "        vertical-align: middle;\n",
       "    }\n",
       "\n",
       "    .dataframe tbody tr th {\n",
       "        vertical-align: top;\n",
       "    }\n",
       "\n",
       "    .dataframe thead th {\n",
       "        text-align: right;\n",
       "    }\n",
       "</style>\n",
       "<table border=\"1\" class=\"dataframe\">\n",
       "  <thead>\n",
       "    <tr style=\"text-align: right;\">\n",
       "      <th></th>\n",
       "      <th>date</th>\n",
       "      <th>cum_power</th>\n",
       "      <th>dates</th>\n",
       "      <th>t</th>\n",
       "      <th>t_square</th>\n",
       "      <th>log_cum_power</th>\n",
       "      <th>Friday</th>\n",
       "      <th>Monday</th>\n",
       "      <th>Saturday</th>\n",
       "      <th>Sunday</th>\n",
       "      <th>Thursday</th>\n",
       "      <th>Tuesday</th>\n",
       "      <th>Wednesday</th>\n",
       "      <th>Forecasted_cum_power1</th>\n",
       "    </tr>\n",
       "  </thead>\n",
       "  <tbody>\n",
       "    <tr>\n",
       "      <th>0</th>\n",
       "      <td>2011-10-26</td>\n",
       "      <td>0.1</td>\n",
       "      <td>Wednesday</td>\n",
       "      <td>1</td>\n",
       "      <td>1</td>\n",
       "      <td>-2.302585</td>\n",
       "      <td>0</td>\n",
       "      <td>0</td>\n",
       "      <td>0</td>\n",
       "      <td>0</td>\n",
       "      <td>0</td>\n",
       "      <td>0</td>\n",
       "      <td>1</td>\n",
       "      <td>-593.900158</td>\n",
       "    </tr>\n",
       "    <tr>\n",
       "      <th>1</th>\n",
       "      <td>2011-10-27</td>\n",
       "      <td>10.2</td>\n",
       "      <td>Thursday</td>\n",
       "      <td>2</td>\n",
       "      <td>4</td>\n",
       "      <td>2.322388</td>\n",
       "      <td>0</td>\n",
       "      <td>0</td>\n",
       "      <td>0</td>\n",
       "      <td>0</td>\n",
       "      <td>1</td>\n",
       "      <td>0</td>\n",
       "      <td>0</td>\n",
       "      <td>-582.678300</td>\n",
       "    </tr>\n",
       "    <tr>\n",
       "      <th>2</th>\n",
       "      <td>2011-10-28</td>\n",
       "      <td>20.2</td>\n",
       "      <td>Friday</td>\n",
       "      <td>3</td>\n",
       "      <td>9</td>\n",
       "      <td>3.005683</td>\n",
       "      <td>1</td>\n",
       "      <td>0</td>\n",
       "      <td>0</td>\n",
       "      <td>0</td>\n",
       "      <td>0</td>\n",
       "      <td>0</td>\n",
       "      <td>0</td>\n",
       "      <td>-571.415458</td>\n",
       "    </tr>\n",
       "    <tr>\n",
       "      <th>3</th>\n",
       "      <td>2011-10-29</td>\n",
       "      <td>29.6</td>\n",
       "      <td>Saturday</td>\n",
       "      <td>4</td>\n",
       "      <td>16</td>\n",
       "      <td>3.387774</td>\n",
       "      <td>0</td>\n",
       "      <td>0</td>\n",
       "      <td>1</td>\n",
       "      <td>0</td>\n",
       "      <td>0</td>\n",
       "      <td>0</td>\n",
       "      <td>0</td>\n",
       "      <td>-562.274139</td>\n",
       "    </tr>\n",
       "    <tr>\n",
       "      <th>4</th>\n",
       "      <td>2011-10-30</td>\n",
       "      <td>34.2</td>\n",
       "      <td>Sunday</td>\n",
       "      <td>5</td>\n",
       "      <td>25</td>\n",
       "      <td>3.532226</td>\n",
       "      <td>0</td>\n",
       "      <td>0</td>\n",
       "      <td>0</td>\n",
       "      <td>1</td>\n",
       "      <td>0</td>\n",
       "      <td>0</td>\n",
       "      <td>0</td>\n",
       "      <td>-551.394687</td>\n",
       "    </tr>\n",
       "  </tbody>\n",
       "</table>\n",
       "</div>"
      ],
      "text/plain": [
       "        date  cum_power      dates  t  t_square  log_cum_power  Friday  \\\n",
       "0 2011-10-26        0.1  Wednesday  1         1      -2.302585       0   \n",
       "1 2011-10-27       10.2   Thursday  2         4       2.322388       0   \n",
       "2 2011-10-28       20.2     Friday  3         9       3.005683       1   \n",
       "3 2011-10-29       29.6   Saturday  4        16       3.387774       0   \n",
       "4 2011-10-30       34.2     Sunday  5        25       3.532226       0   \n",
       "\n",
       "   Monday  Saturday  Sunday  Thursday  Tuesday  Wednesday  \\\n",
       "0       0         0       0         0        0          1   \n",
       "1       0         0       0         1        0          0   \n",
       "2       0         0       0         0        0          0   \n",
       "3       0         1       0         0        0          0   \n",
       "4       0         0       1         0        0          0   \n",
       "\n",
       "   Forecasted_cum_power1  \n",
       "0            -593.900158  \n",
       "1            -582.678300  \n",
       "2            -571.415458  \n",
       "3            -562.274139  \n",
       "4            -551.394687  "
      ]
     },
     "execution_count": 30,
     "metadata": {},
     "output_type": "execute_result"
    }
   ],
   "source": [
    "df1[\"Forecasted_cum_power1\"]= pd.Series(full_model.predict(df1))\n",
    "df1.head(5)"
   ]
  },
  {
   "cell_type": "code",
   "execution_count": null,
   "id": "7e1429ce",
   "metadata": {},
   "outputs": [],
   "source": []
  },
  {
   "cell_type": "markdown",
   "id": "ae3e50a0",
   "metadata": {},
   "source": [
    "### AUTOREGRESSION(AR)"
   ]
  },
  {
   "cell_type": "markdown",
   "id": "8797e7f8",
   "metadata": {},
   "source": [
    "Using the autoregression model to reduce the errors, so will calculate the residuals(errors) from best model applied on full data. "
   ]
  },
  {
   "cell_type": "code",
   "execution_count": 31,
   "id": "5607c885",
   "metadata": {},
   "outputs": [
    {
     "data": {
      "text/plain": [
       "0       594.000158\n",
       "1       592.878300\n",
       "2       591.615458\n",
       "3       591.874139\n",
       "4       585.594687\n",
       "           ...    \n",
       "2553    628.860108\n",
       "2554    626.028875\n",
       "2555    619.603121\n",
       "2556    610.381263\n",
       "2557    602.118422\n",
       "Length: 2558, dtype: float64"
      ]
     },
     "execution_count": 31,
     "metadata": {},
     "output_type": "execute_result"
    }
   ],
   "source": [
    "Residuals1 = df1.cum_power - df1.Forecasted_cum_power1\n",
    "Residuals1"
   ]
  },
  {
   "cell_type": "markdown",
   "id": "a12e5626",
   "metadata": {},
   "source": [
    "Importing the library required to plot the ACF and PACF plots."
   ]
  },
  {
   "cell_type": "code",
   "execution_count": 32,
   "id": "4d317dfe",
   "metadata": {},
   "outputs": [],
   "source": [
    "import statsmodels.graphics.tsaplots as tsa_plots"
   ]
  },
  {
   "cell_type": "markdown",
   "id": "9bb5f022",
   "metadata": {},
   "source": [
    "Plotting the ACF plot."
   ]
  },
  {
   "cell_type": "code",
   "execution_count": 33,
   "id": "8fb7a249",
   "metadata": {},
   "outputs": [
    {
     "data": {
      "text/plain": [
       "<Figure size 1800x1296 with 0 Axes>"
      ]
     },
     "metadata": {},
     "output_type": "display_data"
    },
    {
     "data": {
      "image/png": "[encoded data removed]",
      "text/plain": [
       "<Figure size 432x288 with 1 Axes>"
      ]
     },
     "metadata": {
      "needs_background": "light"
     },
     "output_type": "display_data"
    }
   ],
   "source": [
    "plt.figure(figsize=(25,18))\n",
    "tsa_plots.plot_acf(Residuals1, lags = 12)\n",
    "plt.title(\"ACF PLOT\")\n",
    "plt.show()"
   ]
  },
  {
   "cell_type": "markdown",
   "id": "3a2b690f",
   "metadata": {},
   "source": [
    "Plotting the PACF plot. "
   ]
  },
  {
   "cell_type": "code",
   "execution_count": 34,
   "id": "f633d13c",
   "metadata": {},
   "outputs": [
    {
     "name": "stderr",
     "output_type": "stream",
     "text": [
      "C:\\Users\\lenny\\anaconda3\\lib\\site-packages\\statsmodels\\graphics\\tsaplots.py:348: FutureWarning: The default method 'yw' can produce PACF values outside of the [-1,1] interval. After 0.13, the default will change tounadjusted Yule-Walker ('ywm'). You can use this method now by setting method='ywm'.\n",
      "  warnings.warn(\n"
     ]
    },
    {
     "data": {
      "text/plain": [
       "<Figure size 1080x576 with 0 Axes>"
      ]
     },
     "metadata": {},
     "output_type": "display_data"
    },
    {
     "data": {
      "image/png": "[encoded data removed]",
      "text/plain": [
       "<Figure size 432x288 with 1 Axes>"
      ]
     },
     "metadata": {
      "needs_background": "light"
     },
     "output_type": "display_data"
    }
   ],
   "source": [
    "plt.figure(figsize=(15,8))\n",
    "tsa_plots.plot_pacf(Residuals1, lags = 12)\n",
    "plt.title(\"PACF PLOT\")\n",
    "plt.show()"
   ]
  },
  {
   "cell_type": "markdown",
   "id": "38cefb51",
   "metadata": {},
   "source": [
    "From the acf and pacf plot we can see that lag1 is the best option. "
   ]
  },
  {
   "cell_type": "markdown",
   "id": "e484dbce",
   "metadata": {},
   "source": [
    "Importing the library required to build the AR model."
   ]
  },
  {
   "cell_type": "code",
   "execution_count": 35,
   "id": "2abdd25b",
   "metadata": {},
   "outputs": [],
   "source": [
    "from statsmodels.tsa.ar_model import AutoReg"
   ]
  },
  {
   "cell_type": "markdown",
   "id": "2febdf51",
   "metadata": {},
   "source": [
    "Building the model on the first set of residuals obtained from the Additive seasonality with Linear trend model. "
   ]
  },
  {
   "cell_type": "code",
   "execution_count": 36,
   "id": "86ab2a2a",
   "metadata": {},
   "outputs": [],
   "source": [
    "model_ar = AutoReg(Residuals1, lags=[1])"
   ]
  },
  {
   "cell_type": "markdown",
   "id": "fa7a0e4d",
   "metadata": {},
   "source": [
    "Fitting the model. "
   ]
  },
  {
   "cell_type": "code",
   "execution_count": 37,
   "id": "a795100d",
   "metadata": {},
   "outputs": [],
   "source": [
    "model_fit = model_ar.fit()"
   ]
  },
  {
   "cell_type": "markdown",
   "id": "7a4b0651",
   "metadata": {},
   "source": [
    "Checking the coefficients of the model. "
   ]
  },
  {
   "cell_type": "code",
   "execution_count": 38,
   "id": "a1ab700d",
   "metadata": {},
   "outputs": [
    {
     "name": "stdout",
     "output_type": "stream",
     "text": [
      "Coefficients: const    0.003125\n",
      "y.L1     0.999789\n",
      "dtype: float64\n"
     ]
    }
   ],
   "source": [
    "print('Coefficients: %s' % model_fit.params)"
   ]
  },
  {
   "cell_type": "markdown",
   "id": "a21d345c",
   "metadata": {},
   "source": [
    "### CONCLUSION"
   ]
  },
  {
   "cell_type": "markdown",
   "id": "4f2b68c3",
   "metadata": {},
   "source": [
    "We tried using both linear and Additive seasonality linear trend but both are giving the same Beta1 function. "
   ]
  },
  {
   "cell_type": "markdown",
   "id": "51d976e3",
   "metadata": {},
   "source": [
    "Here we can see that the Beta1 function is almost equal to one which satisfies the Random walk condition. As we know random walk is unpredictable so a reasonable forecast is not possible. Therefore further steps are also not necessary and the forecasting is abandoned. "
   ]
  },
  {
   "cell_type": "code",
   "execution_count": null,
   "id": "feee07d4",
   "metadata": {},
   "outputs": [],
   "source": []
  }
 ],
 "metadata": {
  "kernelspec": {
   "display_name": "Python 3 (ipykernel)",
   "language": "python",
   "name": "python3"
  },
  "language_info": {
   "codemirror_mode": {
    "name": "ipython",
    "version": 3
   },
   "file_extension": ".py",
   "mimetype": "text/x-python",
   "name": "python",
   "nbconvert_exporter": "python",
   "pygments_lexer": "ipython3",
   "version": "3.9.12"
  }
 },
 "nbformat": 4,
 "nbformat_minor": 5
}

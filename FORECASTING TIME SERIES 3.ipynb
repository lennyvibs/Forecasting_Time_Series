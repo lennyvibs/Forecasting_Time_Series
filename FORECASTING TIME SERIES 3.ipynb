{
 "cells": [
  {
   "cell_type": "markdown",
   "id": "3b87ef03",
   "metadata": {},
   "source": [
    "# PLASTIC SALES DATASET\n",
    "Using the above dataset to do time series forecasting."
   ]
  },
  {
   "cell_type": "markdown",
   "id": "862d5061",
   "metadata": {},
   "source": [
    "## BUSINESS OBJECTIVE\n",
    "* Maximize Profit\n",
    "* Minimize Loss\n",
    "* Maximize Quality\n",
    "* Maximize Sales"
   ]
  },
  {
   "cell_type": "markdown",
   "id": "13ec6d84",
   "metadata": {},
   "source": [
    "## CONSTRAINTS\n",
    "* Raw material availability\n",
    "* High competition\n"
   ]
  },
  {
   "cell_type": "markdown",
   "id": "070c9b64",
   "metadata": {},
   "source": [
    "## DATA DICTIONARY"
   ]
  },
  {
   "cell_type": "markdown",
   "id": "1a47d442",
   "metadata": {},
   "source": [
    "| **slno** | **Name of Feature** | **Description**                                                                                                          | **Type** | **Relevance** |\n",
    "|:--------:|:-------------------|:--------------------------------------------------------------------------------------------------------------------------|:--------:|:-------------:|\n",
    "| 1 | Month | It gives the month in which the data was gathered | Nominal   | Relevant      |\n",
    "| 2 | Sales | The number of Sales in the Quarter | Ratio   | Relevant      |"
   ]
  },
  {
   "cell_type": "markdown",
   "id": "46e5d637",
   "metadata": {},
   "source": [
    "Importing the required libraries."
   ]
  },
  {
   "cell_type": "code",
   "execution_count": 1,
   "id": "17e87c30",
   "metadata": {},
   "outputs": [],
   "source": [
    "import pandas as pd\n",
    "import numpy as np\n",
    "import matplotlib.pyplot as plt\n",
    "import seaborn as sns\n",
    "from scipy import stats\n",
    "from termcolor import colored"
   ]
  },
  {
   "cell_type": "markdown",
   "id": "e26adb47",
   "metadata": {},
   "source": [
    "Loading the dataset using the pandas library and confirming the dataset has been loaded properly using the 'head' function"
   ]
  },
  {
   "cell_type": "code",
   "execution_count": 2,
   "id": "3fd16244",
   "metadata": {},
   "outputs": [
    {
     "data": {
      "text/html": [
       "<div>\n",
       "<style scoped>\n",
       "    .dataframe tbody tr th:only-of-type {\n",
       "        vertical-align: middle;\n",
       "    }\n",
       "\n",
       "    .dataframe tbody tr th {\n",
       "        vertical-align: top;\n",
       "    }\n",
       "\n",
       "    .dataframe thead th {\n",
       "        text-align: right;\n",
       "    }\n",
       "</style>\n",
       "<table border=\"1\" class=\"dataframe\">\n",
       "  <thead>\n",
       "    <tr style=\"text-align: right;\">\n",
       "      <th></th>\n",
       "      <th>Month</th>\n",
       "      <th>Sales</th>\n",
       "    </tr>\n",
       "  </thead>\n",
       "  <tbody>\n",
       "    <tr>\n",
       "      <th>0</th>\n",
       "      <td>Jan-49</td>\n",
       "      <td>742</td>\n",
       "    </tr>\n",
       "    <tr>\n",
       "      <th>1</th>\n",
       "      <td>Feb-49</td>\n",
       "      <td>697</td>\n",
       "    </tr>\n",
       "    <tr>\n",
       "      <th>2</th>\n",
       "      <td>Mar-49</td>\n",
       "      <td>776</td>\n",
       "    </tr>\n",
       "    <tr>\n",
       "      <th>3</th>\n",
       "      <td>Apr-49</td>\n",
       "      <td>898</td>\n",
       "    </tr>\n",
       "    <tr>\n",
       "      <th>4</th>\n",
       "      <td>May-49</td>\n",
       "      <td>1030</td>\n",
       "    </tr>\n",
       "  </tbody>\n",
       "</table>\n",
       "</div>"
      ],
      "text/plain": [
       "    Month  Sales\n",
       "0  Jan-49    742\n",
       "1  Feb-49    697\n",
       "2  Mar-49    776\n",
       "3  Apr-49    898\n",
       "4  May-49   1030"
      ]
     },
     "execution_count": 2,
     "metadata": {},
     "output_type": "execute_result"
    }
   ],
   "source": [
    "df0 = pd.read_csv(r\"D:\\360Digitmg\\ASSIGNMENTS\\Ass28\\PlasticSales.csv\")\n",
    "df=df0.copy()\n",
    "df.head()"
   ]
  },
  {
   "cell_type": "markdown",
   "id": "6b969727",
   "metadata": {},
   "source": [
    "### DATA UNDERSTANDING & PREPROCESSING"
   ]
  },
  {
   "cell_type": "markdown",
   "id": "89606ccd",
   "metadata": {},
   "source": [
    "The below three lines give a general idea about the dataset like the shape, type and non null values."
   ]
  },
  {
   "cell_type": "code",
   "execution_count": 3,
   "id": "46c129c5",
   "metadata": {},
   "outputs": [
    {
     "data": {
      "text/plain": [
       "(60, 2)"
      ]
     },
     "execution_count": 3,
     "metadata": {},
     "output_type": "execute_result"
    }
   ],
   "source": [
    "df.shape"
   ]
  },
  {
   "cell_type": "code",
   "execution_count": 4,
   "id": "16c1f67c",
   "metadata": {},
   "outputs": [
    {
     "data": {
      "text/plain": [
       "Month    object\n",
       "Sales     int64\n",
       "dtype: object"
      ]
     },
     "execution_count": 4,
     "metadata": {},
     "output_type": "execute_result"
    }
   ],
   "source": [
    "df.dtypes"
   ]
  },
  {
   "cell_type": "code",
   "execution_count": 5,
   "id": "414ae339",
   "metadata": {},
   "outputs": [
    {
     "name": "stdout",
     "output_type": "stream",
     "text": [
      "<class 'pandas.core.frame.DataFrame'>\n",
      "RangeIndex: 60 entries, 0 to 59\n",
      "Data columns (total 2 columns):\n",
      " #   Column  Non-Null Count  Dtype \n",
      "---  ------  --------------  ----- \n",
      " 0   Month   60 non-null     object\n",
      " 1   Sales   60 non-null     int64 \n",
      "dtypes: int64(1), object(1)\n",
      "memory usage: 1.1+ KB\n"
     ]
    }
   ],
   "source": [
    "df.info()"
   ]
  },
  {
   "cell_type": "markdown",
   "id": "78ee999b",
   "metadata": {},
   "source": [
    "The describe function gives the count, min, max, mean, standard deviation and quantile values of the dataset."
   ]
  },
  {
   "cell_type": "code",
   "execution_count": 6,
   "id": "12c467cc",
   "metadata": {},
   "outputs": [
    {
     "data": {
      "text/html": [
       "<div>\n",
       "<style scoped>\n",
       "    .dataframe tbody tr th:only-of-type {\n",
       "        vertical-align: middle;\n",
       "    }\n",
       "\n",
       "    .dataframe tbody tr th {\n",
       "        vertical-align: top;\n",
       "    }\n",
       "\n",
       "    .dataframe thead th {\n",
       "        text-align: right;\n",
       "    }\n",
       "</style>\n",
       "<table border=\"1\" class=\"dataframe\">\n",
       "  <thead>\n",
       "    <tr style=\"text-align: right;\">\n",
       "      <th></th>\n",
       "      <th>Sales</th>\n",
       "    </tr>\n",
       "  </thead>\n",
       "  <tbody>\n",
       "    <tr>\n",
       "      <th>count</th>\n",
       "      <td>60.000000</td>\n",
       "    </tr>\n",
       "    <tr>\n",
       "      <th>mean</th>\n",
       "      <td>1162.366667</td>\n",
       "    </tr>\n",
       "    <tr>\n",
       "      <th>std</th>\n",
       "      <td>266.431469</td>\n",
       "    </tr>\n",
       "    <tr>\n",
       "      <th>min</th>\n",
       "      <td>697.000000</td>\n",
       "    </tr>\n",
       "    <tr>\n",
       "      <th>25%</th>\n",
       "      <td>947.750000</td>\n",
       "    </tr>\n",
       "    <tr>\n",
       "      <th>50%</th>\n",
       "      <td>1148.000000</td>\n",
       "    </tr>\n",
       "    <tr>\n",
       "      <th>75%</th>\n",
       "      <td>1362.500000</td>\n",
       "    </tr>\n",
       "    <tr>\n",
       "      <th>max</th>\n",
       "      <td>1637.000000</td>\n",
       "    </tr>\n",
       "  </tbody>\n",
       "</table>\n",
       "</div>"
      ],
      "text/plain": [
       "             Sales\n",
       "count    60.000000\n",
       "mean   1162.366667\n",
       "std     266.431469\n",
       "min     697.000000\n",
       "25%     947.750000\n",
       "50%    1148.000000\n",
       "75%    1362.500000\n",
       "max    1637.000000"
      ]
     },
     "execution_count": 6,
     "metadata": {},
     "output_type": "execute_result"
    }
   ],
   "source": [
    "df.describe()"
   ]
  },
  {
   "cell_type": "markdown",
   "id": "f7717389",
   "metadata": {},
   "source": [
    "Checking the Number of Duplicates in the Dataset."
   ]
  },
  {
   "cell_type": "code",
   "execution_count": 7,
   "id": "7e5d1006",
   "metadata": {},
   "outputs": [
    {
     "name": "stdout",
     "output_type": "stream",
     "text": [
      "\u001b[1m\u001b[34m Number of Duplicate values: \u001b[0m 0\n"
     ]
    }
   ],
   "source": [
    "duplicate_values=df.duplicated(subset=None,keep='first').sum()\n",
    "print(colored(' Number of Duplicate values: ','blue',attrs=['bold']),duplicate_values)"
   ]
  },
  {
   "cell_type": "markdown",
   "id": "596b1b85",
   "metadata": {},
   "source": [
    "Checking the Number and Percentage of Missing Values in the Dataset."
   ]
  },
  {
   "cell_type": "code",
   "execution_count": 8,
   "id": "72d872c0",
   "metadata": {},
   "outputs": [
    {
     "name": "stdout",
     "output_type": "stream",
     "text": [
      "\u001b[1m\u001b[34mNumber of Missing Values\n",
      "\n",
      "\u001b[0m Month    0\n",
      "Sales    0\n",
      "dtype: int64\n"
     ]
    }
   ],
   "source": [
    "missing=df.isna().sum().sort_values(ascending=False)\n",
    "print(colored(\"Number of Missing Values\\n\\n\",'blue',attrs=['bold']),missing)"
   ]
  },
  {
   "cell_type": "markdown",
   "id": "ebc8d520",
   "metadata": {},
   "source": [
    "Using the custom function to get the first two characters of the Quarter variable and saving it to another variable called Months."
   ]
  },
  {
   "cell_type": "code",
   "execution_count": 9,
   "id": "3620d81b",
   "metadata": {},
   "outputs": [
    {
     "name": "stderr",
     "output_type": "stream",
     "text": [
      "C:\\Users\\lenny\\AppData\\Local\\Temp\\ipykernel_5524\\2489545327.py:5: SettingWithCopyWarning: \n",
      "A value is trying to be set on a copy of a slice from a DataFrame\n",
      "\n",
      "See the caveats in the documentation: https://pandas.pydata.org/pandas-docs/stable/user_guide/indexing.html#returning-a-view-versus-a-copy\n",
      "  df['Months'][i]= p[0:3]\n"
     ]
    },
    {
     "data": {
      "text/html": [
       "<div>\n",
       "<style scoped>\n",
       "    .dataframe tbody tr th:only-of-type {\n",
       "        vertical-align: middle;\n",
       "    }\n",
       "\n",
       "    .dataframe tbody tr th {\n",
       "        vertical-align: top;\n",
       "    }\n",
       "\n",
       "    .dataframe thead th {\n",
       "        text-align: right;\n",
       "    }\n",
       "</style>\n",
       "<table border=\"1\" class=\"dataframe\">\n",
       "  <thead>\n",
       "    <tr style=\"text-align: right;\">\n",
       "      <th></th>\n",
       "      <th>Month</th>\n",
       "      <th>Sales</th>\n",
       "      <th>Months</th>\n",
       "    </tr>\n",
       "  </thead>\n",
       "  <tbody>\n",
       "    <tr>\n",
       "      <th>0</th>\n",
       "      <td>Jan-49</td>\n",
       "      <td>742</td>\n",
       "      <td>Jan</td>\n",
       "    </tr>\n",
       "    <tr>\n",
       "      <th>1</th>\n",
       "      <td>Feb-49</td>\n",
       "      <td>697</td>\n",
       "      <td>Feb</td>\n",
       "    </tr>\n",
       "    <tr>\n",
       "      <th>2</th>\n",
       "      <td>Mar-49</td>\n",
       "      <td>776</td>\n",
       "      <td>Mar</td>\n",
       "    </tr>\n",
       "    <tr>\n",
       "      <th>3</th>\n",
       "      <td>Apr-49</td>\n",
       "      <td>898</td>\n",
       "      <td>Apr</td>\n",
       "    </tr>\n",
       "    <tr>\n",
       "      <th>4</th>\n",
       "      <td>May-49</td>\n",
       "      <td>1030</td>\n",
       "      <td>May</td>\n",
       "    </tr>\n",
       "  </tbody>\n",
       "</table>\n",
       "</div>"
      ],
      "text/plain": [
       "    Month  Sales Months\n",
       "0  Jan-49    742    Jan\n",
       "1  Feb-49    697    Feb\n",
       "2  Mar-49    776    Mar\n",
       "3  Apr-49    898    Apr\n",
       "4  May-49   1030    May"
      ]
     },
     "execution_count": 9,
     "metadata": {},
     "output_type": "execute_result"
    }
   ],
   "source": [
    "df['Months']= 0\n",
    "\n",
    "for i in range(60):\n",
    "    p = df['Month'][i]\n",
    "    df['Months'][i]= p[0:3]\n",
    "df.head()"
   ]
  },
  {
   "cell_type": "markdown",
   "id": "1b9dc068",
   "metadata": {},
   "source": [
    "Checking the number of unique values in each variable. "
   ]
  },
  {
   "cell_type": "code",
   "execution_count": 10,
   "id": "422f0bc7",
   "metadata": {},
   "outputs": [
    {
     "name": "stdout",
     "output_type": "stream",
     "text": [
      "\u001b[1m\u001b[34mNumber of Unique Values:\n",
      "\n",
      "\u001b[0m Month     60\n",
      "Sales     59\n",
      "Months    12\n",
      "dtype: int64\n"
     ]
    }
   ],
   "source": [
    "print(colored('Number of Unique Values:\\n\\n','blue',attrs=['bold']),df.nunique())"
   ]
  },
  {
   "cell_type": "markdown",
   "id": "7f6f8d09",
   "metadata": {},
   "source": [
    "creating a column t for time index , t_square for squared time index & log_sales for building exponential model"
   ]
  },
  {
   "cell_type": "code",
   "execution_count": 11,
   "id": "b9a3ed39",
   "metadata": {},
   "outputs": [
    {
     "data": {
      "text/html": [
       "<div>\n",
       "<style scoped>\n",
       "    .dataframe tbody tr th:only-of-type {\n",
       "        vertical-align: middle;\n",
       "    }\n",
       "\n",
       "    .dataframe tbody tr th {\n",
       "        vertical-align: top;\n",
       "    }\n",
       "\n",
       "    .dataframe thead th {\n",
       "        text-align: right;\n",
       "    }\n",
       "</style>\n",
       "<table border=\"1\" class=\"dataframe\">\n",
       "  <thead>\n",
       "    <tr style=\"text-align: right;\">\n",
       "      <th></th>\n",
       "      <th>Month</th>\n",
       "      <th>Sales</th>\n",
       "      <th>Months</th>\n",
       "      <th>t</th>\n",
       "      <th>t_square</th>\n",
       "      <th>log_Sales</th>\n",
       "    </tr>\n",
       "  </thead>\n",
       "  <tbody>\n",
       "    <tr>\n",
       "      <th>0</th>\n",
       "      <td>Jan-49</td>\n",
       "      <td>742</td>\n",
       "      <td>Jan</td>\n",
       "      <td>1</td>\n",
       "      <td>1</td>\n",
       "      <td>6.609349</td>\n",
       "    </tr>\n",
       "    <tr>\n",
       "      <th>1</th>\n",
       "      <td>Feb-49</td>\n",
       "      <td>697</td>\n",
       "      <td>Feb</td>\n",
       "      <td>2</td>\n",
       "      <td>4</td>\n",
       "      <td>6.546785</td>\n",
       "    </tr>\n",
       "    <tr>\n",
       "      <th>2</th>\n",
       "      <td>Mar-49</td>\n",
       "      <td>776</td>\n",
       "      <td>Mar</td>\n",
       "      <td>3</td>\n",
       "      <td>9</td>\n",
       "      <td>6.654153</td>\n",
       "    </tr>\n",
       "    <tr>\n",
       "      <th>3</th>\n",
       "      <td>Apr-49</td>\n",
       "      <td>898</td>\n",
       "      <td>Apr</td>\n",
       "      <td>4</td>\n",
       "      <td>16</td>\n",
       "      <td>6.800170</td>\n",
       "    </tr>\n",
       "    <tr>\n",
       "      <th>4</th>\n",
       "      <td>May-49</td>\n",
       "      <td>1030</td>\n",
       "      <td>May</td>\n",
       "      <td>5</td>\n",
       "      <td>25</td>\n",
       "      <td>6.937314</td>\n",
       "    </tr>\n",
       "  </tbody>\n",
       "</table>\n",
       "</div>"
      ],
      "text/plain": [
       "    Month  Sales Months  t  t_square  log_Sales\n",
       "0  Jan-49    742    Jan  1         1   6.609349\n",
       "1  Feb-49    697    Feb  2         4   6.546785\n",
       "2  Mar-49    776    Mar  3         9   6.654153\n",
       "3  Apr-49    898    Apr  4        16   6.800170\n",
       "4  May-49   1030    May  5        25   6.937314"
      ]
     },
     "execution_count": 11,
     "metadata": {},
     "output_type": "execute_result"
    }
   ],
   "source": [
    "df[\"t\"] = np.arange(1,61)\n",
    "df[\"t_square\"] = df[\"t\"] * df[\"t\"]\n",
    "df[\"log_Sales\"] = np.log(df[\"Sales\"])\n",
    "df.head(5)"
   ]
  },
  {
   "cell_type": "markdown",
   "id": "ce0d8741",
   "metadata": {},
   "source": [
    "Creating dummy variables of the months variable. "
   ]
  },
  {
   "cell_type": "code",
   "execution_count": 12,
   "id": "86e3842f",
   "metadata": {},
   "outputs": [
    {
     "data": {
      "text/html": [
       "<div>\n",
       "<style scoped>\n",
       "    .dataframe tbody tr th:only-of-type {\n",
       "        vertical-align: middle;\n",
       "    }\n",
       "\n",
       "    .dataframe tbody tr th {\n",
       "        vertical-align: top;\n",
       "    }\n",
       "\n",
       "    .dataframe thead th {\n",
       "        text-align: right;\n",
       "    }\n",
       "</style>\n",
       "<table border=\"1\" class=\"dataframe\">\n",
       "  <thead>\n",
       "    <tr style=\"text-align: right;\">\n",
       "      <th></th>\n",
       "      <th>Month</th>\n",
       "      <th>Sales</th>\n",
       "      <th>Months</th>\n",
       "      <th>t</th>\n",
       "      <th>t_square</th>\n",
       "      <th>log_Sales</th>\n",
       "      <th>Apr</th>\n",
       "      <th>Aug</th>\n",
       "      <th>Dec</th>\n",
       "      <th>Feb</th>\n",
       "      <th>Jan</th>\n",
       "      <th>Jul</th>\n",
       "      <th>Jun</th>\n",
       "      <th>Mar</th>\n",
       "      <th>May</th>\n",
       "      <th>Nov</th>\n",
       "      <th>Oct</th>\n",
       "      <th>Sep</th>\n",
       "    </tr>\n",
       "  </thead>\n",
       "  <tbody>\n",
       "    <tr>\n",
       "      <th>0</th>\n",
       "      <td>Jan-49</td>\n",
       "      <td>742</td>\n",
       "      <td>Jan</td>\n",
       "      <td>1</td>\n",
       "      <td>1</td>\n",
       "      <td>6.609349</td>\n",
       "      <td>0</td>\n",
       "      <td>0</td>\n",
       "      <td>0</td>\n",
       "      <td>0</td>\n",
       "      <td>1</td>\n",
       "      <td>0</td>\n",
       "      <td>0</td>\n",
       "      <td>0</td>\n",
       "      <td>0</td>\n",
       "      <td>0</td>\n",
       "      <td>0</td>\n",
       "      <td>0</td>\n",
       "    </tr>\n",
       "    <tr>\n",
       "      <th>1</th>\n",
       "      <td>Feb-49</td>\n",
       "      <td>697</td>\n",
       "      <td>Feb</td>\n",
       "      <td>2</td>\n",
       "      <td>4</td>\n",
       "      <td>6.546785</td>\n",
       "      <td>0</td>\n",
       "      <td>0</td>\n",
       "      <td>0</td>\n",
       "      <td>1</td>\n",
       "      <td>0</td>\n",
       "      <td>0</td>\n",
       "      <td>0</td>\n",
       "      <td>0</td>\n",
       "      <td>0</td>\n",
       "      <td>0</td>\n",
       "      <td>0</td>\n",
       "      <td>0</td>\n",
       "    </tr>\n",
       "    <tr>\n",
       "      <th>2</th>\n",
       "      <td>Mar-49</td>\n",
       "      <td>776</td>\n",
       "      <td>Mar</td>\n",
       "      <td>3</td>\n",
       "      <td>9</td>\n",
       "      <td>6.654153</td>\n",
       "      <td>0</td>\n",
       "      <td>0</td>\n",
       "      <td>0</td>\n",
       "      <td>0</td>\n",
       "      <td>0</td>\n",
       "      <td>0</td>\n",
       "      <td>0</td>\n",
       "      <td>1</td>\n",
       "      <td>0</td>\n",
       "      <td>0</td>\n",
       "      <td>0</td>\n",
       "      <td>0</td>\n",
       "    </tr>\n",
       "    <tr>\n",
       "      <th>3</th>\n",
       "      <td>Apr-49</td>\n",
       "      <td>898</td>\n",
       "      <td>Apr</td>\n",
       "      <td>4</td>\n",
       "      <td>16</td>\n",
       "      <td>6.800170</td>\n",
       "      <td>1</td>\n",
       "      <td>0</td>\n",
       "      <td>0</td>\n",
       "      <td>0</td>\n",
       "      <td>0</td>\n",
       "      <td>0</td>\n",
       "      <td>0</td>\n",
       "      <td>0</td>\n",
       "      <td>0</td>\n",
       "      <td>0</td>\n",
       "      <td>0</td>\n",
       "      <td>0</td>\n",
       "    </tr>\n",
       "    <tr>\n",
       "      <th>4</th>\n",
       "      <td>May-49</td>\n",
       "      <td>1030</td>\n",
       "      <td>May</td>\n",
       "      <td>5</td>\n",
       "      <td>25</td>\n",
       "      <td>6.937314</td>\n",
       "      <td>0</td>\n",
       "      <td>0</td>\n",
       "      <td>0</td>\n",
       "      <td>0</td>\n",
       "      <td>0</td>\n",
       "      <td>0</td>\n",
       "      <td>0</td>\n",
       "      <td>0</td>\n",
       "      <td>1</td>\n",
       "      <td>0</td>\n",
       "      <td>0</td>\n",
       "      <td>0</td>\n",
       "    </tr>\n",
       "  </tbody>\n",
       "</table>\n",
       "</div>"
      ],
      "text/plain": [
       "    Month  Sales Months  t  t_square  log_Sales  Apr  Aug  Dec  Feb  Jan  Jul  \\\n",
       "0  Jan-49    742    Jan  1         1   6.609349    0    0    0    0    1    0   \n",
       "1  Feb-49    697    Feb  2         4   6.546785    0    0    0    1    0    0   \n",
       "2  Mar-49    776    Mar  3         9   6.654153    0    0    0    0    0    0   \n",
       "3  Apr-49    898    Apr  4        16   6.800170    1    0    0    0    0    0   \n",
       "4  May-49   1030    May  5        25   6.937314    0    0    0    0    0    0   \n",
       "\n",
       "   Jun  Mar  May  Nov  Oct  Sep  \n",
       "0    0    0    0    0    0    0  \n",
       "1    0    0    0    0    0    0  \n",
       "2    0    1    0    0    0    0  \n",
       "3    0    0    0    0    0    0  \n",
       "4    0    0    1    0    0    0  "
      ]
     },
     "execution_count": 12,
     "metadata": {},
     "output_type": "execute_result"
    }
   ],
   "source": [
    "Quarter_dummies = pd.DataFrame(pd.get_dummies(df['Months']))\n",
    "df1 = pd.concat([df, Quarter_dummies], axis = 1)\n",
    "df1.head(5)"
   ]
  },
  {
   "cell_type": "markdown",
   "id": "cb973715",
   "metadata": {},
   "source": [
    "Creating a new dataframe which would be used to forecast the data for the next 1 Year(12 months). "
   ]
  },
  {
   "cell_type": "code",
   "execution_count": 13,
   "id": "340981e8",
   "metadata": {},
   "outputs": [
    {
     "name": "stderr",
     "output_type": "stream",
     "text": [
      "C:\\Users\\lenny\\AppData\\Local\\Temp\\ipykernel_5524\\1513180097.py:2: SettingWithCopyWarning: \n",
      "A value is trying to be set on a copy of a slice from a DataFrame\n",
      "\n",
      "See the caveats in the documentation: https://pandas.pydata.org/pandas-docs/stable/user_guide/indexing.html#returning-a-view-versus-a-copy\n",
      "  df_new.drop(['Month','Sales','Months','t','t_square','log_Sales'],axis=1,inplace=True)\n",
      "C:\\Users\\lenny\\AppData\\Local\\Temp\\ipykernel_5524\\1513180097.py:3: SettingWithCopyWarning: \n",
      "A value is trying to be set on a copy of a slice from a DataFrame.\n",
      "Try using .loc[row_indexer,col_indexer] = value instead\n",
      "\n",
      "See the caveats in the documentation: https://pandas.pydata.org/pandas-docs/stable/user_guide/indexing.html#returning-a-view-versus-a-copy\n",
      "  df_new[\"t\"] = np.arange(61,73)\n",
      "C:\\Users\\lenny\\AppData\\Local\\Temp\\ipykernel_5524\\1513180097.py:4: SettingWithCopyWarning: \n",
      "A value is trying to be set on a copy of a slice from a DataFrame.\n",
      "Try using .loc[row_indexer,col_indexer] = value instead\n",
      "\n",
      "See the caveats in the documentation: https://pandas.pydata.org/pandas-docs/stable/user_guide/indexing.html#returning-a-view-versus-a-copy\n",
      "  df_new[\"t_square\"] = df_new[\"t\"] * df_new[\"t\"]\n"
     ]
    },
    {
     "data": {
      "text/html": [
       "<div>\n",
       "<style scoped>\n",
       "    .dataframe tbody tr th:only-of-type {\n",
       "        vertical-align: middle;\n",
       "    }\n",
       "\n",
       "    .dataframe tbody tr th {\n",
       "        vertical-align: top;\n",
       "    }\n",
       "\n",
       "    .dataframe thead th {\n",
       "        text-align: right;\n",
       "    }\n",
       "</style>\n",
       "<table border=\"1\" class=\"dataframe\">\n",
       "  <thead>\n",
       "    <tr style=\"text-align: right;\">\n",
       "      <th></th>\n",
       "      <th>Apr</th>\n",
       "      <th>Aug</th>\n",
       "      <th>Dec</th>\n",
       "      <th>Feb</th>\n",
       "      <th>Jan</th>\n",
       "      <th>Jul</th>\n",
       "      <th>Jun</th>\n",
       "      <th>Mar</th>\n",
       "      <th>May</th>\n",
       "      <th>Nov</th>\n",
       "      <th>Oct</th>\n",
       "      <th>Sep</th>\n",
       "      <th>t</th>\n",
       "      <th>t_square</th>\n",
       "    </tr>\n",
       "  </thead>\n",
       "  <tbody>\n",
       "    <tr>\n",
       "      <th>0</th>\n",
       "      <td>0</td>\n",
       "      <td>0</td>\n",
       "      <td>0</td>\n",
       "      <td>0</td>\n",
       "      <td>1</td>\n",
       "      <td>0</td>\n",
       "      <td>0</td>\n",
       "      <td>0</td>\n",
       "      <td>0</td>\n",
       "      <td>0</td>\n",
       "      <td>0</td>\n",
       "      <td>0</td>\n",
       "      <td>61</td>\n",
       "      <td>3721</td>\n",
       "    </tr>\n",
       "    <tr>\n",
       "      <th>1</th>\n",
       "      <td>0</td>\n",
       "      <td>0</td>\n",
       "      <td>0</td>\n",
       "      <td>1</td>\n",
       "      <td>0</td>\n",
       "      <td>0</td>\n",
       "      <td>0</td>\n",
       "      <td>0</td>\n",
       "      <td>0</td>\n",
       "      <td>0</td>\n",
       "      <td>0</td>\n",
       "      <td>0</td>\n",
       "      <td>62</td>\n",
       "      <td>3844</td>\n",
       "    </tr>\n",
       "    <tr>\n",
       "      <th>2</th>\n",
       "      <td>0</td>\n",
       "      <td>0</td>\n",
       "      <td>0</td>\n",
       "      <td>0</td>\n",
       "      <td>0</td>\n",
       "      <td>0</td>\n",
       "      <td>0</td>\n",
       "      <td>1</td>\n",
       "      <td>0</td>\n",
       "      <td>0</td>\n",
       "      <td>0</td>\n",
       "      <td>0</td>\n",
       "      <td>63</td>\n",
       "      <td>3969</td>\n",
       "    </tr>\n",
       "    <tr>\n",
       "      <th>3</th>\n",
       "      <td>1</td>\n",
       "      <td>0</td>\n",
       "      <td>0</td>\n",
       "      <td>0</td>\n",
       "      <td>0</td>\n",
       "      <td>0</td>\n",
       "      <td>0</td>\n",
       "      <td>0</td>\n",
       "      <td>0</td>\n",
       "      <td>0</td>\n",
       "      <td>0</td>\n",
       "      <td>0</td>\n",
       "      <td>64</td>\n",
       "      <td>4096</td>\n",
       "    </tr>\n",
       "    <tr>\n",
       "      <th>4</th>\n",
       "      <td>0</td>\n",
       "      <td>0</td>\n",
       "      <td>0</td>\n",
       "      <td>0</td>\n",
       "      <td>0</td>\n",
       "      <td>0</td>\n",
       "      <td>0</td>\n",
       "      <td>0</td>\n",
       "      <td>1</td>\n",
       "      <td>0</td>\n",
       "      <td>0</td>\n",
       "      <td>0</td>\n",
       "      <td>65</td>\n",
       "      <td>4225</td>\n",
       "    </tr>\n",
       "  </tbody>\n",
       "</table>\n",
       "</div>"
      ],
      "text/plain": [
       "   Apr  Aug  Dec  Feb  Jan  Jul  Jun  Mar  May  Nov  Oct  Sep   t  t_square\n",
       "0    0    0    0    0    1    0    0    0    0    0    0    0  61      3721\n",
       "1    0    0    0    1    0    0    0    0    0    0    0    0  62      3844\n",
       "2    0    0    0    0    0    0    0    1    0    0    0    0  63      3969\n",
       "3    1    0    0    0    0    0    0    0    0    0    0    0  64      4096\n",
       "4    0    0    0    0    0    0    0    0    1    0    0    0  65      4225"
      ]
     },
     "execution_count": 13,
     "metadata": {},
     "output_type": "execute_result"
    }
   ],
   "source": [
    "df_new = df1.iloc[0:12,:] \n",
    "df_new.drop(['Month','Sales','Months','t','t_square','log_Sales'],axis=1,inplace=True)\n",
    "df_new[\"t\"] = np.arange(61,73)\n",
    "df_new[\"t_square\"] = df_new[\"t\"] * df_new[\"t\"]\n",
    "df_new.reset_index(drop=True, inplace=True)\n",
    "df_new.head()"
   ]
  },
  {
   "cell_type": "markdown",
   "id": "e4f59d83",
   "metadata": {},
   "source": [
    "### VISUALIZATION - TIME PLOT\n",
    "Plotting the time plot. "
   ]
  },
  {
   "cell_type": "code",
   "execution_count": 14,
   "id": "1eb6849a",
   "metadata": {},
   "outputs": [
    {
     "data": {
      "image/png": "[encoded data removed]",
      "text/plain": [
       "<Figure size 1080x576 with 1 Axes>"
      ]
     },
     "metadata": {
      "needs_background": "light"
     },
     "output_type": "display_data"
    }
   ],
   "source": [
    "plt.figure(figsize=(15,8))\n",
    "df1.Sales.plot()\n",
    "plt.title(\"TIME PLOT\")\n",
    "plt.show()"
   ]
  },
  {
   "cell_type": "markdown",
   "id": "6e5b8126",
   "metadata": {},
   "source": [
    "From the above plot we can see that it has level , an upward Trend and Seasonality is present. "
   ]
  },
  {
   "cell_type": "markdown",
   "id": "95d916a4",
   "metadata": {},
   "source": [
    "### DATA PARTITION\n",
    "Partioning the data into train and test data. "
   ]
  },
  {
   "cell_type": "code",
   "execution_count": 15,
   "id": "0cb988e1",
   "metadata": {},
   "outputs": [],
   "source": [
    "Train = df1.head(48)\n",
    "Test = df1.tail(12)"
   ]
  },
  {
   "cell_type": "markdown",
   "id": "25f6691c",
   "metadata": {},
   "source": [
    "### MODEL BUILDING"
   ]
  },
  {
   "cell_type": "markdown",
   "id": "a8945f9c",
   "metadata": {},
   "source": [
    "__TESTING DIFFERENT MODELS__"
   ]
  },
  {
   "cell_type": "markdown",
   "id": "386cbde0",
   "metadata": {},
   "source": [
    "Importing the library required for building the model."
   ]
  },
  {
   "cell_type": "code",
   "execution_count": 16,
   "id": "832c9dd7",
   "metadata": {},
   "outputs": [],
   "source": [
    "import statsmodels.formula.api as smf "
   ]
  },
  {
   "cell_type": "markdown",
   "id": "d7e401d7",
   "metadata": {},
   "source": [
    "__Linear Model__"
   ]
  },
  {
   "cell_type": "code",
   "execution_count": 17,
   "id": "cf7c8bce",
   "metadata": {},
   "outputs": [
    {
     "data": {
      "text/plain": [
       "260.93781425111246"
      ]
     },
     "execution_count": 17,
     "metadata": {},
     "output_type": "execute_result"
    }
   ],
   "source": [
    "linear_model = smf.ols('Sales ~ t', data = Train).fit()\n",
    "pred_linear =  pd.Series(linear_model.predict(pd.DataFrame(Test['t'])))\n",
    "rmse_linear = np.sqrt(np.mean((np.array(Test['Sales']) - np.array(pred_linear))**2))\n",
    "rmse_linear"
   ]
  },
  {
   "cell_type": "markdown",
   "id": "d3b1e95f",
   "metadata": {},
   "source": [
    "__Exponential Model__"
   ]
  },
  {
   "cell_type": "code",
   "execution_count": 18,
   "id": "a2a00021",
   "metadata": {},
   "outputs": [
    {
     "data": {
      "text/plain": [
       "268.6938385002614"
      ]
     },
     "execution_count": 18,
     "metadata": {},
     "output_type": "execute_result"
    }
   ],
   "source": [
    "Exp = smf.ols('log_Sales ~ t', data = Train).fit()\n",
    "pred_Exp = pd.Series(Exp.predict(pd.DataFrame(Test['t'])))\n",
    "rmse_Exp = np.sqrt(np.mean((np.array(Test['Sales']) - np.array(np.exp(pred_Exp)))**2))\n",
    "rmse_Exp"
   ]
  },
  {
   "cell_type": "markdown",
   "id": "f73084d6",
   "metadata": {},
   "source": [
    "__Quadratic Model__"
   ]
  },
  {
   "cell_type": "code",
   "execution_count": 19,
   "id": "eb963f65",
   "metadata": {},
   "outputs": [
    {
     "data": {
      "text/plain": [
       "297.40670972721136"
      ]
     },
     "execution_count": 19,
     "metadata": {},
     "output_type": "execute_result"
    }
   ],
   "source": [
    "Quad = smf.ols('Sales ~ t + t_square', data = Train).fit()\n",
    "pred_Quad = pd.Series(Quad.predict(Test[[\"t\", \"t_square\"]]))\n",
    "rmse_Quad = np.sqrt(np.mean((np.array(Test['Sales']) - np.array(pred_Quad))**2))\n",
    "rmse_Quad"
   ]
  },
  {
   "cell_type": "markdown",
   "id": "d747643e",
   "metadata": {},
   "source": [
    "__Additive Seasonality__"
   ]
  },
  {
   "cell_type": "code",
   "execution_count": 20,
   "id": "4be6541c",
   "metadata": {},
   "outputs": [
    {
     "data": {
      "text/plain": [
       "Index(['Month', 'Sales', 'Months', 't', 't_square', 'log_Sales', 'Apr', 'Aug',\n",
       "       'Dec', 'Feb', 'Jan', 'Jul', 'Jun', 'Mar', 'May', 'Nov', 'Oct', 'Sep'],\n",
       "      dtype='object')"
      ]
     },
     "execution_count": 20,
     "metadata": {},
     "output_type": "execute_result"
    }
   ],
   "source": [
    "df1.columns"
   ]
  },
  {
   "cell_type": "code",
   "execution_count": 21,
   "id": "2de6d8fa",
   "metadata": {},
   "outputs": [
    {
     "data": {
      "text/plain": [
       "235.6026735664656"
      ]
     },
     "execution_count": 21,
     "metadata": {},
     "output_type": "execute_result"
    }
   ],
   "source": [
    "add_sea = smf.ols('Sales ~ Jan+Feb+Mar+Apr+May+Jun+Jul+Aug+Sep+Oct+Nov+Dec', data=Train).fit()\n",
    "pred_add_sea = pd.Series(add_sea.predict(Test[['Apr', 'Aug','Dec', 'Feb', 'Jan', 'Jul', 'Jun', 'Mar', 'May', 'Nov', 'Oct', 'Sep']]))\n",
    "rmse_add_sea = np.sqrt(np.mean((np.array(Test['Sales']) - np.array(pred_add_sea))**2))\n",
    "rmse_add_sea"
   ]
  },
  {
   "cell_type": "markdown",
   "id": "c2735a68",
   "metadata": {},
   "source": [
    "__Multiplicative Seasonality__"
   ]
  },
  {
   "cell_type": "code",
   "execution_count": 22,
   "id": "b60d2373",
   "metadata": {},
   "outputs": [
    {
     "data": {
      "text/plain": [
       "239.6543214312118"
      ]
     },
     "execution_count": 22,
     "metadata": {},
     "output_type": "execute_result"
    }
   ],
   "source": [
    "Mul_sea = smf.ols('log_Sales ~ Jan+Feb+Mar+Apr+May+Jun+Jul+Aug+Sep+Oct+Nov+Dec',data = Train).fit()\n",
    "pred_Mult_sea = pd.Series(Mul_sea.predict(Test))\n",
    "rmse_Mult_sea = np.sqrt(np.mean((np.array(Test['Sales']) - np.array(np.exp(pred_Mult_sea)))**2))\n",
    "rmse_Mult_sea"
   ]
  },
  {
   "cell_type": "markdown",
   "id": "67187787",
   "metadata": {},
   "source": [
    "__Additive Seasonality with Linear Trend__"
   ]
  },
  {
   "cell_type": "code",
   "execution_count": 23,
   "id": "f2501977",
   "metadata": {},
   "outputs": [
    {
     "data": {
      "text/plain": [
       "135.55359583482164"
      ]
     },
     "execution_count": 23,
     "metadata": {},
     "output_type": "execute_result"
    }
   ],
   "source": [
    "add_sea_lin = smf.ols('Sales ~ t+Jan+Feb+Mar+Apr+May+Jun+Jul+Aug+Sep+Oct+Nov+Dec',data=Train).fit()\n",
    "pred_add_sea_lin = pd.Series(add_sea_lin.predict(Test[['Apr', 'Aug','Dec', 'Feb', 'Jan', 'Jul', 'Jun', 'Mar', 'May', 'Nov', 'Oct', 'Sep','t']]))\n",
    "rmse_add_sea_lin = np.sqrt(np.mean((np.array(Test['Sales'])-np.array(pred_add_sea_lin))**2))\n",
    "rmse_add_sea_lin "
   ]
  },
  {
   "cell_type": "markdown",
   "id": "d2d987aa",
   "metadata": {},
   "source": [
    "__Additive Seasonality with Quadratic Trend__"
   ]
  },
  {
   "cell_type": "code",
   "execution_count": 24,
   "id": "ed487023",
   "metadata": {},
   "outputs": [
    {
     "data": {
      "text/plain": [
       "218.19387584892843"
      ]
     },
     "execution_count": 24,
     "metadata": {},
     "output_type": "execute_result"
    }
   ],
   "source": [
    "add_sea_Quad = smf.ols('Sales ~ t+t_square+Jan+Feb+Mar+Apr+May+Jun+Jul+Aug+Sep+Oct+Nov+Dec',data=Train).fit()\n",
    "pred_add_sea_quad = pd.Series(add_sea_Quad.predict(Test[['Apr', 'Aug','Dec', 'Feb', 'Jan', 'Jul', 'Jun', 'Mar', 'May', 'Nov', 'Oct', 'Sep','t','t_square']]))\n",
    "rmse_add_sea_quad = np.sqrt(np.mean((np.array(Test['Sales'])-np.array(pred_add_sea_quad))**2))\n",
    "rmse_add_sea_quad "
   ]
  },
  {
   "cell_type": "markdown",
   "id": "5911b358",
   "metadata": {},
   "source": [
    "__Multiplicative Seasonality with Linear Trend__"
   ]
  },
  {
   "cell_type": "code",
   "execution_count": 25,
   "id": "3f39af9a",
   "metadata": {},
   "outputs": [
    {
     "data": {
      "text/plain": [
       "160.6833294719332"
      ]
     },
     "execution_count": 25,
     "metadata": {},
     "output_type": "execute_result"
    }
   ],
   "source": [
    "Mul_Add_sea = smf.ols('log_Sales ~ t+Jan+Feb+Mar+Apr+May+Jun+Jul+Aug+Sep+Oct+Nov+Dec',data = Train).fit()\n",
    "pred_Mult_add_sea = pd.Series(Mul_Add_sea.predict(Test))\n",
    "rmse_Mult_add_sea = np.sqrt(np.mean((np.array(Test['Sales'])-np.array(np.exp(pred_Mult_add_sea)))**2))\n",
    "rmse_Mult_add_sea "
   ]
  },
  {
   "cell_type": "markdown",
   "id": "98578cc9",
   "metadata": {},
   "source": [
    "__Multiplicative Seasonality with Quadratic Trend__"
   ]
  },
  {
   "cell_type": "code",
   "execution_count": 26,
   "id": "8d286192",
   "metadata": {},
   "outputs": [
    {
     "data": {
      "text/plain": [
       "239.60602992997434"
      ]
     },
     "execution_count": 26,
     "metadata": {},
     "output_type": "execute_result"
    }
   ],
   "source": [
    "Mul_Add_sea_quad = smf.ols('log_Sales ~ t+t_square+Jan+Feb+Mar+Apr+May+Jun+Jul+Aug+Sep+Oct+Nov+Dec',data = Train).fit()\n",
    "pred_Mult_add_sea_quad = pd.Series(Mul_Add_sea_quad.predict(Test))\n",
    "rmse_Mult_add_sea_quad = np.sqrt(np.mean((np.array(Test['Sales'])-np.array(np.exp(pred_Mult_add_sea_quad)))**2))\n",
    "rmse_Mult_add_sea_quad "
   ]
  },
  {
   "cell_type": "markdown",
   "id": "24d6ac2b",
   "metadata": {},
   "source": [
    "__MODEL COMPARISONS__"
   ]
  },
  {
   "cell_type": "code",
   "execution_count": 27,
   "id": "da965cfc",
   "metadata": {},
   "outputs": [
    {
     "data": {
      "text/html": [
       "<div>\n",
       "<style scoped>\n",
       "    .dataframe tbody tr th:only-of-type {\n",
       "        vertical-align: middle;\n",
       "    }\n",
       "\n",
       "    .dataframe tbody tr th {\n",
       "        vertical-align: top;\n",
       "    }\n",
       "\n",
       "    .dataframe thead th {\n",
       "        text-align: right;\n",
       "    }\n",
       "</style>\n",
       "<table border=\"1\" class=\"dataframe\">\n",
       "  <thead>\n",
       "    <tr style=\"text-align: right;\">\n",
       "      <th></th>\n",
       "      <th>MODEL</th>\n",
       "      <th>RMSE_Values</th>\n",
       "    </tr>\n",
       "  </thead>\n",
       "  <tbody>\n",
       "    <tr>\n",
       "      <th>0</th>\n",
       "      <td>Linear Model RMSE</td>\n",
       "      <td>260.937814</td>\n",
       "    </tr>\n",
       "    <tr>\n",
       "      <th>1</th>\n",
       "      <td>Exponential Model RMSE</td>\n",
       "      <td>268.693839</td>\n",
       "    </tr>\n",
       "    <tr>\n",
       "      <th>2</th>\n",
       "      <td>Quadratic Model RMSE</td>\n",
       "      <td>297.406710</td>\n",
       "    </tr>\n",
       "    <tr>\n",
       "      <th>3</th>\n",
       "      <td>Additive Seasonality Model RMSE</td>\n",
       "      <td>235.602674</td>\n",
       "    </tr>\n",
       "    <tr>\n",
       "      <th>4</th>\n",
       "      <td>Additive Seasonality with Linear Trend RMSE</td>\n",
       "      <td>135.553596</td>\n",
       "    </tr>\n",
       "    <tr>\n",
       "      <th>5</th>\n",
       "      <td>Additive Seasonality with Quadratic Trend RMSE</td>\n",
       "      <td>218.193876</td>\n",
       "    </tr>\n",
       "    <tr>\n",
       "      <th>6</th>\n",
       "      <td>Multiplicative Seasonality Model RMSE</td>\n",
       "      <td>239.654321</td>\n",
       "    </tr>\n",
       "    <tr>\n",
       "      <th>7</th>\n",
       "      <td>Multiplicative Seasonality with Linear Trend RMSE</td>\n",
       "      <td>160.683329</td>\n",
       "    </tr>\n",
       "    <tr>\n",
       "      <th>8</th>\n",
       "      <td>Multiplicative Seasonality with Quadratic Tren...</td>\n",
       "      <td>239.606030</td>\n",
       "    </tr>\n",
       "  </tbody>\n",
       "</table>\n",
       "</div>"
      ],
      "text/plain": [
       "                                               MODEL  RMSE_Values\n",
       "0                                  Linear Model RMSE   260.937814\n",
       "1                             Exponential Model RMSE   268.693839\n",
       "2                               Quadratic Model RMSE   297.406710\n",
       "3                    Additive Seasonality Model RMSE   235.602674\n",
       "4        Additive Seasonality with Linear Trend RMSE   135.553596\n",
       "5     Additive Seasonality with Quadratic Trend RMSE   218.193876\n",
       "6              Multiplicative Seasonality Model RMSE   239.654321\n",
       "7  Multiplicative Seasonality with Linear Trend RMSE   160.683329\n",
       "8  Multiplicative Seasonality with Quadratic Tren...   239.606030"
      ]
     },
     "execution_count": 27,
     "metadata": {},
     "output_type": "execute_result"
    }
   ],
   "source": [
    "data = {\"MODEL\":pd.Series([\"Linear Model RMSE\",\"Exponential Model RMSE\",\"Quadratic Model RMSE\",\"Additive Seasonality Model RMSE\",\"Additive Seasonality with Linear Trend RMSE\",\"Additive Seasonality with Quadratic Trend RMSE\",\"Multiplicative Seasonality Model RMSE\",\"Multiplicative Seasonality with Linear Trend RMSE\",\"Multiplicative Seasonality with Quadratic Trend RMSE\"]),\"RMSE_Values\":pd.Series([rmse_linear,rmse_Exp,rmse_Quad,rmse_add_sea,rmse_add_sea_lin,rmse_add_sea_quad,rmse_Mult_sea,rmse_Mult_add_sea,rmse_Mult_add_sea_quad])}\n",
    "table_rmse = pd.DataFrame(data)\n",
    "table_rmse"
   ]
  },
  {
   "cell_type": "markdown",
   "id": "ee3108d2",
   "metadata": {},
   "source": [
    "On comparison of the different models the Additive Seasonality with Linear Trend Model is giving the lowest RMSE value so using this model for Model building"
   ]
  },
  {
   "cell_type": "markdown",
   "id": "82473db2",
   "metadata": {},
   "source": [
    "__BUILDING THE MODEL AND FORECASTING__"
   ]
  },
  {
   "cell_type": "markdown",
   "id": "44e16633",
   "metadata": {},
   "source": [
    "Building the model on the entire dataset. "
   ]
  },
  {
   "cell_type": "code",
   "execution_count": 28,
   "id": "1db17f07",
   "metadata": {},
   "outputs": [],
   "source": [
    "full_model = smf.ols('Sales ~ t+Jan+Feb+Mar+Apr+May+Jun+Jul+Aug+Sep+Oct+Nov+Dec', data=df1).fit()"
   ]
  },
  {
   "cell_type": "markdown",
   "id": "498c6486",
   "metadata": {},
   "source": [
    "Forecasting the data for the next 12 months using the best model i.e. Additive Seasonality with Linear Trend.The forecasted data is stored in the variable 'Sales'."
   ]
  },
  {
   "cell_type": "code",
   "execution_count": 29,
   "id": "b496fb69",
   "metadata": {},
   "outputs": [
    {
     "name": "stderr",
     "output_type": "stream",
     "text": [
      "C:\\Users\\lenny\\AppData\\Local\\Temp\\ipykernel_5524\\2206157295.py:1: SettingWithCopyWarning: \n",
      "A value is trying to be set on a copy of a slice from a DataFrame.\n",
      "Try using .loc[row_indexer,col_indexer] = value instead\n",
      "\n",
      "See the caveats in the documentation: https://pandas.pydata.org/pandas-docs/stable/user_guide/indexing.html#returning-a-view-versus-a-copy\n",
      "  df_new['Sales']=pd.Series(full_model.predict(df_new))\n"
     ]
    },
    {
     "data": {
      "text/html": [
       "<div>\n",
       "<style scoped>\n",
       "    .dataframe tbody tr th:only-of-type {\n",
       "        vertical-align: middle;\n",
       "    }\n",
       "\n",
       "    .dataframe tbody tr th {\n",
       "        vertical-align: top;\n",
       "    }\n",
       "\n",
       "    .dataframe thead th {\n",
       "        text-align: right;\n",
       "    }\n",
       "</style>\n",
       "<table border=\"1\" class=\"dataframe\">\n",
       "  <thead>\n",
       "    <tr style=\"text-align: right;\">\n",
       "      <th></th>\n",
       "      <th>Apr</th>\n",
       "      <th>Aug</th>\n",
       "      <th>Dec</th>\n",
       "      <th>Feb</th>\n",
       "      <th>Jan</th>\n",
       "      <th>Jul</th>\n",
       "      <th>Jun</th>\n",
       "      <th>Mar</th>\n",
       "      <th>May</th>\n",
       "      <th>Nov</th>\n",
       "      <th>Oct</th>\n",
       "      <th>Sep</th>\n",
       "      <th>t</th>\n",
       "      <th>t_square</th>\n",
       "      <th>Sales</th>\n",
       "    </tr>\n",
       "  </thead>\n",
       "  <tbody>\n",
       "    <tr>\n",
       "      <th>0</th>\n",
       "      <td>0</td>\n",
       "      <td>0</td>\n",
       "      <td>0</td>\n",
       "      <td>0</td>\n",
       "      <td>1</td>\n",
       "      <td>0</td>\n",
       "      <td>0</td>\n",
       "      <td>0</td>\n",
       "      <td>0</td>\n",
       "      <td>0</td>\n",
       "      <td>0</td>\n",
       "      <td>0</td>\n",
       "      <td>61</td>\n",
       "      <td>3721</td>\n",
       "      <td>1147.15</td>\n",
       "    </tr>\n",
       "    <tr>\n",
       "      <th>1</th>\n",
       "      <td>0</td>\n",
       "      <td>0</td>\n",
       "      <td>0</td>\n",
       "      <td>1</td>\n",
       "      <td>0</td>\n",
       "      <td>0</td>\n",
       "      <td>0</td>\n",
       "      <td>0</td>\n",
       "      <td>0</td>\n",
       "      <td>0</td>\n",
       "      <td>0</td>\n",
       "      <td>0</td>\n",
       "      <td>62</td>\n",
       "      <td>3844</td>\n",
       "      <td>1091.75</td>\n",
       "    </tr>\n",
       "    <tr>\n",
       "      <th>2</th>\n",
       "      <td>0</td>\n",
       "      <td>0</td>\n",
       "      <td>0</td>\n",
       "      <td>0</td>\n",
       "      <td>0</td>\n",
       "      <td>0</td>\n",
       "      <td>0</td>\n",
       "      <td>1</td>\n",
       "      <td>0</td>\n",
       "      <td>0</td>\n",
       "      <td>0</td>\n",
       "      <td>0</td>\n",
       "      <td>63</td>\n",
       "      <td>3969</td>\n",
       "      <td>1174.95</td>\n",
       "    </tr>\n",
       "    <tr>\n",
       "      <th>3</th>\n",
       "      <td>1</td>\n",
       "      <td>0</td>\n",
       "      <td>0</td>\n",
       "      <td>0</td>\n",
       "      <td>0</td>\n",
       "      <td>0</td>\n",
       "      <td>0</td>\n",
       "      <td>0</td>\n",
       "      <td>0</td>\n",
       "      <td>0</td>\n",
       "      <td>0</td>\n",
       "      <td>0</td>\n",
       "      <td>64</td>\n",
       "      <td>4096</td>\n",
       "      <td>1330.95</td>\n",
       "    </tr>\n",
       "    <tr>\n",
       "      <th>4</th>\n",
       "      <td>0</td>\n",
       "      <td>0</td>\n",
       "      <td>0</td>\n",
       "      <td>0</td>\n",
       "      <td>0</td>\n",
       "      <td>0</td>\n",
       "      <td>0</td>\n",
       "      <td>0</td>\n",
       "      <td>1</td>\n",
       "      <td>0</td>\n",
       "      <td>0</td>\n",
       "      <td>0</td>\n",
       "      <td>65</td>\n",
       "      <td>4225</td>\n",
       "      <td>1490.15</td>\n",
       "    </tr>\n",
       "  </tbody>\n",
       "</table>\n",
       "</div>"
      ],
      "text/plain": [
       "   Apr  Aug  Dec  Feb  Jan  Jul  Jun  Mar  May  Nov  Oct  Sep   t  t_square  \\\n",
       "0    0    0    0    0    1    0    0    0    0    0    0    0  61      3721   \n",
       "1    0    0    0    1    0    0    0    0    0    0    0    0  62      3844   \n",
       "2    0    0    0    0    0    0    0    1    0    0    0    0  63      3969   \n",
       "3    1    0    0    0    0    0    0    0    0    0    0    0  64      4096   \n",
       "4    0    0    0    0    0    0    0    0    1    0    0    0  65      4225   \n",
       "\n",
       "     Sales  \n",
       "0  1147.15  \n",
       "1  1091.75  \n",
       "2  1174.95  \n",
       "3  1330.95  \n",
       "4  1490.15  "
      ]
     },
     "execution_count": 29,
     "metadata": {},
     "output_type": "execute_result"
    }
   ],
   "source": [
    "df_new['Sales']=pd.Series(full_model.predict(df_new))\n",
    "df_new.head()"
   ]
  },
  {
   "cell_type": "markdown",
   "id": "9b254d79",
   "metadata": {},
   "source": [
    "The forecasted data is not free from erros so we will calculate the error value of the original dataset and use the auto regression to bring the error's to as low as possible and also forecast the errors for the next 12 Months which will then be added to the forecasted data. "
   ]
  },
  {
   "cell_type": "markdown",
   "id": "748b8b5d",
   "metadata": {},
   "source": [
    "Predicting the Passengers variable using the full_model and saving the results into a new variable. "
   ]
  },
  {
   "cell_type": "code",
   "execution_count": 30,
   "id": "8ef8923f",
   "metadata": {},
   "outputs": [
    {
     "data": {
      "text/html": [
       "<div>\n",
       "<style scoped>\n",
       "    .dataframe tbody tr th:only-of-type {\n",
       "        vertical-align: middle;\n",
       "    }\n",
       "\n",
       "    .dataframe tbody tr th {\n",
       "        vertical-align: top;\n",
       "    }\n",
       "\n",
       "    .dataframe thead th {\n",
       "        text-align: right;\n",
       "    }\n",
       "</style>\n",
       "<table border=\"1\" class=\"dataframe\">\n",
       "  <thead>\n",
       "    <tr style=\"text-align: right;\">\n",
       "      <th></th>\n",
       "      <th>Month</th>\n",
       "      <th>Sales</th>\n",
       "      <th>Months</th>\n",
       "      <th>t</th>\n",
       "      <th>t_square</th>\n",
       "      <th>log_Sales</th>\n",
       "      <th>Apr</th>\n",
       "      <th>Aug</th>\n",
       "      <th>Dec</th>\n",
       "      <th>Feb</th>\n",
       "      <th>Jan</th>\n",
       "      <th>Jul</th>\n",
       "      <th>Jun</th>\n",
       "      <th>Mar</th>\n",
       "      <th>May</th>\n",
       "      <th>Nov</th>\n",
       "      <th>Oct</th>\n",
       "      <th>Sep</th>\n",
       "      <th>Forecasted_Sales1</th>\n",
       "    </tr>\n",
       "  </thead>\n",
       "  <tbody>\n",
       "    <tr>\n",
       "      <th>0</th>\n",
       "      <td>Jan-49</td>\n",
       "      <td>742</td>\n",
       "      <td>Jan</td>\n",
       "      <td>1</td>\n",
       "      <td>1</td>\n",
       "      <td>6.609349</td>\n",
       "      <td>0</td>\n",
       "      <td>0</td>\n",
       "      <td>0</td>\n",
       "      <td>0</td>\n",
       "      <td>1</td>\n",
       "      <td>0</td>\n",
       "      <td>0</td>\n",
       "      <td>0</td>\n",
       "      <td>0</td>\n",
       "      <td>0</td>\n",
       "      <td>0</td>\n",
       "      <td>0</td>\n",
       "      <td>688.566667</td>\n",
       "    </tr>\n",
       "    <tr>\n",
       "      <th>1</th>\n",
       "      <td>Feb-49</td>\n",
       "      <td>697</td>\n",
       "      <td>Feb</td>\n",
       "      <td>2</td>\n",
       "      <td>4</td>\n",
       "      <td>6.546785</td>\n",
       "      <td>0</td>\n",
       "      <td>0</td>\n",
       "      <td>0</td>\n",
       "      <td>1</td>\n",
       "      <td>0</td>\n",
       "      <td>0</td>\n",
       "      <td>0</td>\n",
       "      <td>0</td>\n",
       "      <td>0</td>\n",
       "      <td>0</td>\n",
       "      <td>0</td>\n",
       "      <td>0</td>\n",
       "      <td>633.166667</td>\n",
       "    </tr>\n",
       "    <tr>\n",
       "      <th>2</th>\n",
       "      <td>Mar-49</td>\n",
       "      <td>776</td>\n",
       "      <td>Mar</td>\n",
       "      <td>3</td>\n",
       "      <td>9</td>\n",
       "      <td>6.654153</td>\n",
       "      <td>0</td>\n",
       "      <td>0</td>\n",
       "      <td>0</td>\n",
       "      <td>0</td>\n",
       "      <td>0</td>\n",
       "      <td>0</td>\n",
       "      <td>0</td>\n",
       "      <td>1</td>\n",
       "      <td>0</td>\n",
       "      <td>0</td>\n",
       "      <td>0</td>\n",
       "      <td>0</td>\n",
       "      <td>716.366667</td>\n",
       "    </tr>\n",
       "    <tr>\n",
       "      <th>3</th>\n",
       "      <td>Apr-49</td>\n",
       "      <td>898</td>\n",
       "      <td>Apr</td>\n",
       "      <td>4</td>\n",
       "      <td>16</td>\n",
       "      <td>6.800170</td>\n",
       "      <td>1</td>\n",
       "      <td>0</td>\n",
       "      <td>0</td>\n",
       "      <td>0</td>\n",
       "      <td>0</td>\n",
       "      <td>0</td>\n",
       "      <td>0</td>\n",
       "      <td>0</td>\n",
       "      <td>0</td>\n",
       "      <td>0</td>\n",
       "      <td>0</td>\n",
       "      <td>0</td>\n",
       "      <td>872.366667</td>\n",
       "    </tr>\n",
       "    <tr>\n",
       "      <th>4</th>\n",
       "      <td>May-49</td>\n",
       "      <td>1030</td>\n",
       "      <td>May</td>\n",
       "      <td>5</td>\n",
       "      <td>25</td>\n",
       "      <td>6.937314</td>\n",
       "      <td>0</td>\n",
       "      <td>0</td>\n",
       "      <td>0</td>\n",
       "      <td>0</td>\n",
       "      <td>0</td>\n",
       "      <td>0</td>\n",
       "      <td>0</td>\n",
       "      <td>0</td>\n",
       "      <td>1</td>\n",
       "      <td>0</td>\n",
       "      <td>0</td>\n",
       "      <td>0</td>\n",
       "      <td>1031.566667</td>\n",
       "    </tr>\n",
       "  </tbody>\n",
       "</table>\n",
       "</div>"
      ],
      "text/plain": [
       "    Month  Sales Months  t  t_square  log_Sales  Apr  Aug  Dec  Feb  Jan  Jul  \\\n",
       "0  Jan-49    742    Jan  1         1   6.609349    0    0    0    0    1    0   \n",
       "1  Feb-49    697    Feb  2         4   6.546785    0    0    0    1    0    0   \n",
       "2  Mar-49    776    Mar  3         9   6.654153    0    0    0    0    0    0   \n",
       "3  Apr-49    898    Apr  4        16   6.800170    1    0    0    0    0    0   \n",
       "4  May-49   1030    May  5        25   6.937314    0    0    0    0    0    0   \n",
       "\n",
       "   Jun  Mar  May  Nov  Oct  Sep  Forecasted_Sales1  \n",
       "0    0    0    0    0    0    0         688.566667  \n",
       "1    0    0    0    0    0    0         633.166667  \n",
       "2    0    1    0    0    0    0         716.366667  \n",
       "3    0    0    0    0    0    0         872.366667  \n",
       "4    0    0    1    0    0    0        1031.566667  "
      ]
     },
     "execution_count": 30,
     "metadata": {},
     "output_type": "execute_result"
    }
   ],
   "source": [
    "df1[\"Forecasted_Sales1\"]= pd.Series(full_model.predict(df1))\n",
    "df1.head(5)"
   ]
  },
  {
   "cell_type": "code",
   "execution_count": null,
   "id": "d79adb18",
   "metadata": {},
   "outputs": [],
   "source": []
  },
  {
   "cell_type": "markdown",
   "id": "482e08bd",
   "metadata": {},
   "source": [
    "### AUTOREGRESSION(AR)"
   ]
  },
  {
   "cell_type": "markdown",
   "id": "74923329",
   "metadata": {},
   "source": [
    "Using the autoregression model to reduce the errors, so will calculate the residuals(errors) from best model applied on full data. "
   ]
  },
  {
   "cell_type": "code",
   "execution_count": 31,
   "id": "933de8ca",
   "metadata": {},
   "outputs": [
    {
     "data": {
      "text/plain": [
       "0      53.433333\n",
       "1      63.833333\n",
       "2      59.633333\n",
       "3      25.633333\n",
       "4      -1.566667\n",
       "5     -52.566667\n",
       "6     -22.566667\n",
       "7     -33.366667\n",
       "8     -39.366667\n",
       "9     -65.566667\n",
       "10      8.633333\n",
       "11    -19.366667\n",
       "12    -39.283333\n",
       "13    -24.883333\n",
       "14    -34.083333\n",
       "15    -32.083333\n",
       "16    -24.283333\n",
       "17    -28.283333\n",
       "18     10.716667\n",
       "19      7.916667\n",
       "20      1.916667\n",
       "21      7.716667\n",
       "22     11.916667\n",
       "23      6.916667\n",
       "24     24.000000\n",
       "25    -23.600000\n",
       "26    -14.800000\n",
       "27     -0.800000\n",
       "28    -11.000000\n",
       "29    -17.000000\n",
       "30    -68.000000\n",
       "31      3.200000\n",
       "32     42.200000\n",
       "33     73.000000\n",
       "34     24.200000\n",
       "35     37.200000\n",
       "36    -12.716667\n",
       "37    -47.316667\n",
       "38    -53.516667\n",
       "39    -38.516667\n",
       "40    -32.716667\n",
       "41    -12.716667\n",
       "42     23.283333\n",
       "43     30.483333\n",
       "44     81.483333\n",
       "45    128.283333\n",
       "46    165.483333\n",
       "47    131.483333\n",
       "48    -25.433333\n",
       "49     31.966667\n",
       "50     42.766667\n",
       "51     45.766667\n",
       "52     69.566667\n",
       "53    110.566667\n",
       "54     56.566667\n",
       "55     -8.233333\n",
       "56    -86.233333\n",
       "57   -143.433333\n",
       "58   -210.233333\n",
       "59   -156.233333\n",
       "dtype: float64"
      ]
     },
     "execution_count": 31,
     "metadata": {},
     "output_type": "execute_result"
    }
   ],
   "source": [
    "Residuals1 = df1.Sales - df1.Forecasted_Sales1\n",
    "Residuals1"
   ]
  },
  {
   "cell_type": "markdown",
   "id": "f505c9bb",
   "metadata": {},
   "source": [
    "Importing the library required to plot the ACF and PACF plots."
   ]
  },
  {
   "cell_type": "code",
   "execution_count": 32,
   "id": "dd6b1943",
   "metadata": {},
   "outputs": [],
   "source": [
    "import statsmodels.graphics.tsaplots as tsa_plots"
   ]
  },
  {
   "cell_type": "markdown",
   "id": "d84d023e",
   "metadata": {},
   "source": [
    "Plotting the ACF plot."
   ]
  },
  {
   "cell_type": "code",
   "execution_count": 33,
   "id": "d126378d",
   "metadata": {},
   "outputs": [
    {
     "data": {
      "text/plain": [
       "<Figure size 1800x1296 with 0 Axes>"
      ]
     },
     "metadata": {},
     "output_type": "display_data"
    },
    {
     "data": {
      "image/png": "[encoded data removed]",
      "text/plain": [
       "<Figure size 432x288 with 1 Axes>"
      ]
     },
     "metadata": {
      "needs_background": "light"
     },
     "output_type": "display_data"
    }
   ],
   "source": [
    "plt.figure(figsize=(25,18))\n",
    "tsa_plots.plot_acf(Residuals1, lags = 12)\n",
    "plt.title(\"ACF PLOT\")\n",
    "plt.show()"
   ]
  },
  {
   "cell_type": "markdown",
   "id": "a98fb60d",
   "metadata": {},
   "source": [
    "Plotting the PACF plot. "
   ]
  },
  {
   "cell_type": "code",
   "execution_count": 34,
   "id": "92eb4508",
   "metadata": {},
   "outputs": [
    {
     "name": "stderr",
     "output_type": "stream",
     "text": [
      "C:\\Users\\lenny\\anaconda3\\lib\\site-packages\\statsmodels\\graphics\\tsaplots.py:348: FutureWarning: The default method 'yw' can produce PACF values outside of the [-1,1] interval. After 0.13, the default will change tounadjusted Yule-Walker ('ywm'). You can use this method now by setting method='ywm'.\n",
      "  warnings.warn(\n"
     ]
    },
    {
     "data": {
      "text/plain": [
       "<Figure size 1080x576 with 0 Axes>"
      ]
     },
     "metadata": {},
     "output_type": "display_data"
    },
    {
     "data": {
      "image/png": "[encoded data removed]",
      "text/plain": [
       "<Figure size 432x288 with 1 Axes>"
      ]
     },
     "metadata": {
      "needs_background": "light"
     },
     "output_type": "display_data"
    }
   ],
   "source": [
    "plt.figure(figsize=(15,8))\n",
    "tsa_plots.plot_pacf(Residuals1, lags = 12)\n",
    "plt.title(\"PACF PLOT\")\n",
    "plt.show()"
   ]
  },
  {
   "cell_type": "markdown",
   "id": "ca9114c2",
   "metadata": {},
   "source": [
    "From the acf and pacf plot we can see that lag1 is the best option. "
   ]
  },
  {
   "cell_type": "markdown",
   "id": "05715678",
   "metadata": {},
   "source": [
    "Importing the library required to build the AR model."
   ]
  },
  {
   "cell_type": "code",
   "execution_count": 35,
   "id": "ead962dd",
   "metadata": {},
   "outputs": [],
   "source": [
    "from statsmodels.tsa.ar_model import AutoReg"
   ]
  },
  {
   "cell_type": "markdown",
   "id": "d00d98e9",
   "metadata": {},
   "source": [
    "Building the model on the first set of residuals obtained from the Additive seasonality with linear trend model. "
   ]
  },
  {
   "cell_type": "code",
   "execution_count": 36,
   "id": "2866021e",
   "metadata": {},
   "outputs": [],
   "source": [
    "model_ar = AutoReg(Residuals1, lags=[1])"
   ]
  },
  {
   "cell_type": "markdown",
   "id": "338b20bb",
   "metadata": {},
   "source": [
    "Fitting the model. "
   ]
  },
  {
   "cell_type": "code",
   "execution_count": 37,
   "id": "bfc7e6b5",
   "metadata": {},
   "outputs": [],
   "source": [
    "model_fit = model_ar.fit()"
   ]
  },
  {
   "cell_type": "markdown",
   "id": "aa3f3803",
   "metadata": {},
   "source": [
    "Checking the coefficients of the model. "
   ]
  },
  {
   "cell_type": "code",
   "execution_count": 38,
   "id": "644bb679",
   "metadata": {},
   "outputs": [
    {
     "name": "stdout",
     "output_type": "stream",
     "text": [
      "Coefficients: const   -3.097434\n",
      "y.L1     0.827706\n",
      "dtype: float64\n"
     ]
    }
   ],
   "source": [
    "print('Coefficients: %s' % model_fit.params)"
   ]
  },
  {
   "cell_type": "markdown",
   "id": "8357db6c",
   "metadata": {},
   "source": [
    "Predicting the errors using the autoregression model. "
   ]
  },
  {
   "cell_type": "code",
   "execution_count": 39,
   "id": "2b60b041",
   "metadata": {},
   "outputs": [
    {
     "data": {
      "text/plain": [
       "0            NaN\n",
       "1      41.129664\n",
       "2      49.737808\n",
       "3      46.261442\n",
       "4      18.119433\n",
       "5      -4.394174\n",
       "6     -46.607187\n",
       "7     -21.776003\n",
       "8     -30.715229\n",
       "9     -35.681466\n",
       "10    -57.367367\n",
       "11      4.048429\n",
       "12    -19.127343\n",
       "13    -35.612491\n",
       "14    -23.693522\n",
       "15    -31.308419\n",
       "16    -29.653006\n",
       "17    -23.196899\n",
       "18    -26.507723\n",
       "19      5.772817\n",
       "20      3.455239\n",
       "21     -1.510998\n",
       "22      3.289698\n",
       "23      6.766064\n",
       "24      2.627533\n",
       "25     16.767513\n",
       "26    -22.631299\n",
       "27    -15.347485\n",
       "28     -3.759599\n",
       "29    -12.202202\n",
       "30    -17.168439\n",
       "31    -59.381452\n",
       "32     -0.448775\n",
       "33     31.831765\n",
       "34     57.325114\n",
       "35     16.933054\n",
       "36     27.693234\n",
       "37    -13.623097\n",
       "38    -42.261730\n",
       "39    -47.393508\n",
       "40    -34.977916\n",
       "41    -30.177220\n",
       "42    -13.623097\n",
       "43     16.174324\n",
       "44     22.133808\n",
       "45     64.346821\n",
       "46    103.083469\n",
       "47    133.874138\n",
       "48    105.732129\n",
       "49    -24.148761\n",
       "50     23.361572\n",
       "51     32.300799\n",
       "52     34.783917\n",
       "53     54.483323\n",
       "54     88.419275\n",
       "55     43.723143\n",
       "56     -9.912215\n",
       "57    -74.473294\n",
       "58   -121.818086\n",
       "59   -177.108856\n",
       "dtype: float64"
      ]
     },
     "execution_count": 39,
     "metadata": {},
     "output_type": "execute_result"
    }
   ],
   "source": [
    "pred_res = model_fit.predict()\n",
    "pred_res.reset_index(drop=True, inplace=True)\n",
    "pred_res"
   ]
  },
  {
   "cell_type": "markdown",
   "id": "cfe16668",
   "metadata": {},
   "source": [
    "The predicted errors are then added to the forecasted data and saved to another variable called forecasted_passenger2."
   ]
  },
  {
   "cell_type": "code",
   "execution_count": 40,
   "id": "217a74fa",
   "metadata": {},
   "outputs": [
    {
     "data": {
      "text/plain": [
       "0             NaN\n",
       "1      674.296331\n",
       "2      766.104475\n",
       "3      918.628109\n",
       "4     1049.686100\n",
       "5     1155.172493\n",
       "6     1140.959479\n",
       "7     1227.590664\n",
       "8     1216.651437\n",
       "9     1160.885200\n",
       "10     904.999299\n",
       "11     806.415095\n",
       "12     761.155990\n",
       "13     689.270843\n",
       "14     784.389811\n",
       "15     932.774915\n",
       "16    1093.630327\n",
       "17    1228.086435\n",
       "18    1252.775610\n",
       "19    1346.856150\n",
       "20    1342.538573\n",
       "21    1286.772336\n",
       "22    1057.373031\n",
       "23     900.849397\n",
       "24     874.627533\n",
       "25     833.367513\n",
       "26     877.168701\n",
       "27    1040.452515\n",
       "28    1211.240401\n",
       "29    1330.797798\n",
       "30    1353.831561\n",
       "31    1373.418548\n",
       "32    1430.351225\n",
       "33    1411.831765\n",
       "34    1203.125114\n",
       "35    1002.733054\n",
       "36     991.409901\n",
       "37     894.693569\n",
       "38     949.254937\n",
       "39    1100.123158\n",
       "40    1271.738751\n",
       "41    1404.539446\n",
       "42    1449.093569\n",
       "43    1540.690990\n",
       "44    1544.650475\n",
       "45    1536.063488\n",
       "46    1340.600136\n",
       "47    1211.390804\n",
       "48    1161.165462\n",
       "49     975.884573\n",
       "50    1106.594905\n",
       "51    1271.534132\n",
       "52    1433.217250\n",
       "53    1580.916657\n",
       "54    1642.852609\n",
       "55    1659.956477\n",
       "56    1604.321118\n",
       "57    1488.960039\n",
       "58    1207.415248\n",
       "59     992.124477\n",
       "dtype: float64"
      ]
     },
     "execution_count": 40,
     "metadata": {},
     "output_type": "execute_result"
    }
   ],
   "source": [
    "Forecasted_Sales2 = df1.Forecasted_Sales1 + pred_res\n",
    "Forecasted_Sales2"
   ]
  },
  {
   "cell_type": "code",
   "execution_count": 41,
   "id": "40ebec06",
   "metadata": {},
   "outputs": [
    {
     "data": {
      "text/html": [
       "<div>\n",
       "<style scoped>\n",
       "    .dataframe tbody tr th:only-of-type {\n",
       "        vertical-align: middle;\n",
       "    }\n",
       "\n",
       "    .dataframe tbody tr th {\n",
       "        vertical-align: top;\n",
       "    }\n",
       "\n",
       "    .dataframe thead th {\n",
       "        text-align: right;\n",
       "    }\n",
       "</style>\n",
       "<table border=\"1\" class=\"dataframe\">\n",
       "  <thead>\n",
       "    <tr style=\"text-align: right;\">\n",
       "      <th></th>\n",
       "      <th>Month</th>\n",
       "      <th>Sales</th>\n",
       "      <th>Months</th>\n",
       "      <th>t</th>\n",
       "      <th>t_square</th>\n",
       "      <th>log_Sales</th>\n",
       "      <th>Apr</th>\n",
       "      <th>Aug</th>\n",
       "      <th>Dec</th>\n",
       "      <th>Feb</th>\n",
       "      <th>Jan</th>\n",
       "      <th>Jul</th>\n",
       "      <th>Jun</th>\n",
       "      <th>Mar</th>\n",
       "      <th>May</th>\n",
       "      <th>Nov</th>\n",
       "      <th>Oct</th>\n",
       "      <th>Sep</th>\n",
       "      <th>Forecasted_Sales1</th>\n",
       "      <th>Forecasted_Sales2</th>\n",
       "    </tr>\n",
       "  </thead>\n",
       "  <tbody>\n",
       "    <tr>\n",
       "      <th>0</th>\n",
       "      <td>Jan-49</td>\n",
       "      <td>742</td>\n",
       "      <td>Jan</td>\n",
       "      <td>1</td>\n",
       "      <td>1</td>\n",
       "      <td>6.609349</td>\n",
       "      <td>0</td>\n",
       "      <td>0</td>\n",
       "      <td>0</td>\n",
       "      <td>0</td>\n",
       "      <td>1</td>\n",
       "      <td>0</td>\n",
       "      <td>0</td>\n",
       "      <td>0</td>\n",
       "      <td>0</td>\n",
       "      <td>0</td>\n",
       "      <td>0</td>\n",
       "      <td>0</td>\n",
       "      <td>688.566667</td>\n",
       "      <td>NaN</td>\n",
       "    </tr>\n",
       "    <tr>\n",
       "      <th>1</th>\n",
       "      <td>Feb-49</td>\n",
       "      <td>697</td>\n",
       "      <td>Feb</td>\n",
       "      <td>2</td>\n",
       "      <td>4</td>\n",
       "      <td>6.546785</td>\n",
       "      <td>0</td>\n",
       "      <td>0</td>\n",
       "      <td>0</td>\n",
       "      <td>1</td>\n",
       "      <td>0</td>\n",
       "      <td>0</td>\n",
       "      <td>0</td>\n",
       "      <td>0</td>\n",
       "      <td>0</td>\n",
       "      <td>0</td>\n",
       "      <td>0</td>\n",
       "      <td>0</td>\n",
       "      <td>633.166667</td>\n",
       "      <td>674.296331</td>\n",
       "    </tr>\n",
       "    <tr>\n",
       "      <th>2</th>\n",
       "      <td>Mar-49</td>\n",
       "      <td>776</td>\n",
       "      <td>Mar</td>\n",
       "      <td>3</td>\n",
       "      <td>9</td>\n",
       "      <td>6.654153</td>\n",
       "      <td>0</td>\n",
       "      <td>0</td>\n",
       "      <td>0</td>\n",
       "      <td>0</td>\n",
       "      <td>0</td>\n",
       "      <td>0</td>\n",
       "      <td>0</td>\n",
       "      <td>1</td>\n",
       "      <td>0</td>\n",
       "      <td>0</td>\n",
       "      <td>0</td>\n",
       "      <td>0</td>\n",
       "      <td>716.366667</td>\n",
       "      <td>766.104475</td>\n",
       "    </tr>\n",
       "    <tr>\n",
       "      <th>3</th>\n",
       "      <td>Apr-49</td>\n",
       "      <td>898</td>\n",
       "      <td>Apr</td>\n",
       "      <td>4</td>\n",
       "      <td>16</td>\n",
       "      <td>6.800170</td>\n",
       "      <td>1</td>\n",
       "      <td>0</td>\n",
       "      <td>0</td>\n",
       "      <td>0</td>\n",
       "      <td>0</td>\n",
       "      <td>0</td>\n",
       "      <td>0</td>\n",
       "      <td>0</td>\n",
       "      <td>0</td>\n",
       "      <td>0</td>\n",
       "      <td>0</td>\n",
       "      <td>0</td>\n",
       "      <td>872.366667</td>\n",
       "      <td>918.628109</td>\n",
       "    </tr>\n",
       "    <tr>\n",
       "      <th>4</th>\n",
       "      <td>May-49</td>\n",
       "      <td>1030</td>\n",
       "      <td>May</td>\n",
       "      <td>5</td>\n",
       "      <td>25</td>\n",
       "      <td>6.937314</td>\n",
       "      <td>0</td>\n",
       "      <td>0</td>\n",
       "      <td>0</td>\n",
       "      <td>0</td>\n",
       "      <td>0</td>\n",
       "      <td>0</td>\n",
       "      <td>0</td>\n",
       "      <td>0</td>\n",
       "      <td>1</td>\n",
       "      <td>0</td>\n",
       "      <td>0</td>\n",
       "      <td>0</td>\n",
       "      <td>1031.566667</td>\n",
       "      <td>1049.686100</td>\n",
       "    </tr>\n",
       "  </tbody>\n",
       "</table>\n",
       "</div>"
      ],
      "text/plain": [
       "    Month  Sales Months  t  t_square  log_Sales  Apr  Aug  Dec  Feb  Jan  Jul  \\\n",
       "0  Jan-49    742    Jan  1         1   6.609349    0    0    0    0    1    0   \n",
       "1  Feb-49    697    Feb  2         4   6.546785    0    0    0    1    0    0   \n",
       "2  Mar-49    776    Mar  3         9   6.654153    0    0    0    0    0    0   \n",
       "3  Apr-49    898    Apr  4        16   6.800170    1    0    0    0    0    0   \n",
       "4  May-49   1030    May  5        25   6.937314    0    0    0    0    0    0   \n",
       "\n",
       "   Jun  Mar  May  Nov  Oct  Sep  Forecasted_Sales1  Forecasted_Sales2  \n",
       "0    0    0    0    0    0    0         688.566667                NaN  \n",
       "1    0    0    0    0    0    0         633.166667         674.296331  \n",
       "2    0    1    0    0    0    0         716.366667         766.104475  \n",
       "3    0    0    0    0    0    0         872.366667         918.628109  \n",
       "4    0    0    1    0    0    0        1031.566667        1049.686100  "
      ]
     },
     "execution_count": 41,
     "metadata": {},
     "output_type": "execute_result"
    }
   ],
   "source": [
    "df1[\"Forecasted_Sales2\"] = pd.Series(Forecasted_Sales2)\n",
    "df1.head(5)"
   ]
  },
  {
   "cell_type": "markdown",
   "id": "73a1106d",
   "metadata": {},
   "source": [
    "Dropping the nan value from the dataset using the dropna function of the pandas library. "
   ]
  },
  {
   "cell_type": "code",
   "execution_count": 42,
   "id": "5f19433d",
   "metadata": {},
   "outputs": [],
   "source": [
    "df1.dropna(inplace=True)"
   ]
  },
  {
   "cell_type": "markdown",
   "id": "04f7f883",
   "metadata": {},
   "source": [
    "The RMSE value is calculated to check the improvement in the data after filtering the residuals. "
   ]
  },
  {
   "cell_type": "code",
   "execution_count": 43,
   "id": "c5575ca1",
   "metadata": {},
   "outputs": [
    {
     "data": {
      "text/plain": [
       "39.20813021776819"
      ]
     },
     "execution_count": 43,
     "metadata": {},
     "output_type": "execute_result"
    }
   ],
   "source": [
    "rmse1 = np.sqrt(np.mean((np.array(df1[\"Sales\"]) - np.array(df1[\"Forecasted_Sales2\"]))**2))\n",
    "rmse1"
   ]
  },
  {
   "cell_type": "markdown",
   "id": "8e49c507",
   "metadata": {},
   "source": [
    "From the rmse we can see that it is very low which is very helpful in forecasting the data accurately. "
   ]
  },
  {
   "cell_type": "markdown",
   "id": "13d035c9",
   "metadata": {},
   "source": [
    "Predicting the next 12 months error using the same auto regression model. "
   ]
  },
  {
   "cell_type": "code",
   "execution_count": 44,
   "id": "9a7685de",
   "metadata": {},
   "outputs": [
    {
     "data": {
      "text/plain": [
       "0    -177.108856\n",
       "1    -132.412724\n",
       "2    -112.696260\n",
       "3     -96.376821\n",
       "4     -82.869122\n",
       "5     -71.688715\n",
       "6     -62.434625\n",
       "7     -54.774957\n",
       "8     -48.435003\n",
       "9     -43.187384\n",
       "10    -38.843897\n",
       "11    -35.248767\n",
       "dtype: float64"
      ]
     },
     "execution_count": 44,
     "metadata": {},
     "output_type": "execute_result"
    }
   ],
   "source": [
    "new_residuals = model_fit.predict(start=len(df1), end=len(df1)+12-1, dynamic=False)\n",
    "new_residuals.reset_index(drop=True, inplace=True)\n",
    "new_residuals"
   ]
  },
  {
   "cell_type": "markdown",
   "id": "cbf9ff50",
   "metadata": {},
   "source": [
    "The predicted errors are added to the passenger variable in the df_new dataset which has the forecasted passenger data. This data is then added as new passenger variable in the same dataframe. "
   ]
  },
  {
   "cell_type": "code",
   "execution_count": 45,
   "id": "4b228ee7",
   "metadata": {},
   "outputs": [
    {
     "data": {
      "text/plain": [
       "0      970.041144\n",
       "1      959.337276\n",
       "2     1062.253740\n",
       "3     1234.573179\n",
       "4     1407.280878\n",
       "5     1546.461285\n",
       "6     1583.715375\n",
       "7     1653.175043\n",
       "8     1657.514997\n",
       "9     1611.962616\n",
       "10    1382.106103\n",
       "11    1225.701233\n",
       "dtype: float64"
      ]
     },
     "execution_count": 45,
     "metadata": {},
     "output_type": "execute_result"
    }
   ],
   "source": [
    "final_pred = df_new.Sales + new_residuals\n",
    "final_pred"
   ]
  },
  {
   "cell_type": "code",
   "execution_count": 46,
   "id": "7a5c63d8",
   "metadata": {},
   "outputs": [
    {
     "name": "stderr",
     "output_type": "stream",
     "text": [
      "C:\\Users\\lenny\\AppData\\Local\\Temp\\ipykernel_5524\\1648309088.py:1: SettingWithCopyWarning: \n",
      "A value is trying to be set on a copy of a slice from a DataFrame.\n",
      "Try using .loc[row_indexer,col_indexer] = value instead\n",
      "\n",
      "See the caveats in the documentation: https://pandas.pydata.org/pandas-docs/stable/user_guide/indexing.html#returning-a-view-versus-a-copy\n",
      "  df_new['New_Sales']=pd.Series(final_pred)\n"
     ]
    },
    {
     "data": {
      "text/html": [
       "<div>\n",
       "<style scoped>\n",
       "    .dataframe tbody tr th:only-of-type {\n",
       "        vertical-align: middle;\n",
       "    }\n",
       "\n",
       "    .dataframe tbody tr th {\n",
       "        vertical-align: top;\n",
       "    }\n",
       "\n",
       "    .dataframe thead th {\n",
       "        text-align: right;\n",
       "    }\n",
       "</style>\n",
       "<table border=\"1\" class=\"dataframe\">\n",
       "  <thead>\n",
       "    <tr style=\"text-align: right;\">\n",
       "      <th></th>\n",
       "      <th>Apr</th>\n",
       "      <th>Aug</th>\n",
       "      <th>Dec</th>\n",
       "      <th>Feb</th>\n",
       "      <th>Jan</th>\n",
       "      <th>Jul</th>\n",
       "      <th>Jun</th>\n",
       "      <th>Mar</th>\n",
       "      <th>May</th>\n",
       "      <th>Nov</th>\n",
       "      <th>Oct</th>\n",
       "      <th>Sep</th>\n",
       "      <th>t</th>\n",
       "      <th>t_square</th>\n",
       "      <th>Sales</th>\n",
       "      <th>New_Sales</th>\n",
       "    </tr>\n",
       "  </thead>\n",
       "  <tbody>\n",
       "    <tr>\n",
       "      <th>0</th>\n",
       "      <td>0</td>\n",
       "      <td>0</td>\n",
       "      <td>0</td>\n",
       "      <td>0</td>\n",
       "      <td>1</td>\n",
       "      <td>0</td>\n",
       "      <td>0</td>\n",
       "      <td>0</td>\n",
       "      <td>0</td>\n",
       "      <td>0</td>\n",
       "      <td>0</td>\n",
       "      <td>0</td>\n",
       "      <td>61</td>\n",
       "      <td>3721</td>\n",
       "      <td>1147.15</td>\n",
       "      <td>970.041144</td>\n",
       "    </tr>\n",
       "    <tr>\n",
       "      <th>1</th>\n",
       "      <td>0</td>\n",
       "      <td>0</td>\n",
       "      <td>0</td>\n",
       "      <td>1</td>\n",
       "      <td>0</td>\n",
       "      <td>0</td>\n",
       "      <td>0</td>\n",
       "      <td>0</td>\n",
       "      <td>0</td>\n",
       "      <td>0</td>\n",
       "      <td>0</td>\n",
       "      <td>0</td>\n",
       "      <td>62</td>\n",
       "      <td>3844</td>\n",
       "      <td>1091.75</td>\n",
       "      <td>959.337276</td>\n",
       "    </tr>\n",
       "    <tr>\n",
       "      <th>2</th>\n",
       "      <td>0</td>\n",
       "      <td>0</td>\n",
       "      <td>0</td>\n",
       "      <td>0</td>\n",
       "      <td>0</td>\n",
       "      <td>0</td>\n",
       "      <td>0</td>\n",
       "      <td>1</td>\n",
       "      <td>0</td>\n",
       "      <td>0</td>\n",
       "      <td>0</td>\n",
       "      <td>0</td>\n",
       "      <td>63</td>\n",
       "      <td>3969</td>\n",
       "      <td>1174.95</td>\n",
       "      <td>1062.253740</td>\n",
       "    </tr>\n",
       "    <tr>\n",
       "      <th>3</th>\n",
       "      <td>1</td>\n",
       "      <td>0</td>\n",
       "      <td>0</td>\n",
       "      <td>0</td>\n",
       "      <td>0</td>\n",
       "      <td>0</td>\n",
       "      <td>0</td>\n",
       "      <td>0</td>\n",
       "      <td>0</td>\n",
       "      <td>0</td>\n",
       "      <td>0</td>\n",
       "      <td>0</td>\n",
       "      <td>64</td>\n",
       "      <td>4096</td>\n",
       "      <td>1330.95</td>\n",
       "      <td>1234.573179</td>\n",
       "    </tr>\n",
       "    <tr>\n",
       "      <th>4</th>\n",
       "      <td>0</td>\n",
       "      <td>0</td>\n",
       "      <td>0</td>\n",
       "      <td>0</td>\n",
       "      <td>0</td>\n",
       "      <td>0</td>\n",
       "      <td>0</td>\n",
       "      <td>0</td>\n",
       "      <td>1</td>\n",
       "      <td>0</td>\n",
       "      <td>0</td>\n",
       "      <td>0</td>\n",
       "      <td>65</td>\n",
       "      <td>4225</td>\n",
       "      <td>1490.15</td>\n",
       "      <td>1407.280878</td>\n",
       "    </tr>\n",
       "  </tbody>\n",
       "</table>\n",
       "</div>"
      ],
      "text/plain": [
       "   Apr  Aug  Dec  Feb  Jan  Jul  Jun  Mar  May  Nov  Oct  Sep   t  t_square  \\\n",
       "0    0    0    0    0    1    0    0    0    0    0    0    0  61      3721   \n",
       "1    0    0    0    1    0    0    0    0    0    0    0    0  62      3844   \n",
       "2    0    0    0    0    0    0    0    1    0    0    0    0  63      3969   \n",
       "3    1    0    0    0    0    0    0    0    0    0    0    0  64      4096   \n",
       "4    0    0    0    0    0    0    0    0    1    0    0    0  65      4225   \n",
       "\n",
       "     Sales    New_Sales  \n",
       "0  1147.15   970.041144  \n",
       "1  1091.75   959.337276  \n",
       "2  1174.95  1062.253740  \n",
       "3  1330.95  1234.573179  \n",
       "4  1490.15  1407.280878  "
      ]
     },
     "execution_count": 46,
     "metadata": {},
     "output_type": "execute_result"
    }
   ],
   "source": [
    "df_new['New_Sales']=pd.Series(final_pred)\n",
    "df_new.head()"
   ]
  },
  {
   "cell_type": "code",
   "execution_count": null,
   "id": "42221060",
   "metadata": {},
   "outputs": [],
   "source": []
  },
  {
   "cell_type": "markdown",
   "id": "a21d345c",
   "metadata": {},
   "source": [
    "### CONCLUSION"
   ]
  },
  {
   "cell_type": "markdown",
   "id": "0b834251",
   "metadata": {},
   "source": [
    "Thus the next 1 year passenger data is forecasted using both Additive Seasonality Linear trend model and AutoRegression(1) model. The various models are checked and their rmse values are also documented. There are total 12 dummy variables used from Jan to Dec as the seasonality is 12 as the time series is based on Monthly data. "
   ]
  },
  {
   "cell_type": "markdown",
   "id": "1bc0c9f2",
   "metadata": {},
   "source": [
    "We can deduce that the sales will have a steady increase in the future. "
   ]
  },
  {
   "cell_type": "code",
   "execution_count": null,
   "id": "4029a302",
   "metadata": {},
   "outputs": [],
   "source": []
  }
 ],
 "metadata": {
  "kernelspec": {
   "display_name": "Python 3 (ipykernel)",
   "language": "python",
   "name": "python3"
  },
  "language_info": {
   "codemirror_mode": {
    "name": "ipython",
    "version": 3
   },
   "file_extension": ".py",
   "mimetype": "text/x-python",
   "name": "python",
   "nbconvert_exporter": "python",
   "pygments_lexer": "ipython3",
   "version": "3.9.12"
  }
 },
 "nbformat": 4,
 "nbformat_minor": 5
}
